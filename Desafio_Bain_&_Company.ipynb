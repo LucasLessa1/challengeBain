{
  "nbformat": 4,
  "nbformat_minor": 0,
  "metadata": {
    "colab": {
      "name": "Desafio_Bain_&_Company.ipynb",
      "provenance": [],
      "collapsed_sections": [],
      "include_colab_link": true
    },
    "kernelspec": {
      "name": "python3",
      "display_name": "Python 3"
    },
    "language_info": {
      "name": "python"
    }
  },
  "cells": [
    {
      "cell_type": "markdown",
      "metadata": {
        "id": "view-in-github",
        "colab_type": "text"
      },
      "source": [
        "<a href=\"https://colab.research.google.com/github/LucasLessa1/challengeBain/blob/main/Desafio_Bain_%26_Company.ipynb\" target=\"_parent\"><img src=\"https://colab.research.google.com/assets/colab-badge.svg\" alt=\"Open In Colab\"/></a>"
      ]
    },
    {
      "cell_type": "markdown",
      "source": [
        "#**1 - Imports**\n",
        "First, we import the libraries that will be used throughout the code."
      ],
      "metadata": {
        "id": "8D0T0nLEdW1B"
      }
    },
    {
      "cell_type": "code",
      "execution_count": 1,
      "metadata": {
        "id": "V7IvQJ6kSQok"
      },
      "outputs": [],
      "source": [
        "import pandas as pd\n",
        "import numpy as np\n",
        "import matplotlib.pyplot as plt\n",
        "import seaborn as sns\n",
        "import datetime\n",
        "import gdown"
      ]
    },
    {
      "cell_type": "code",
      "source": [
        "!pip install mysql-connector-python"
      ],
      "metadata": {
        "id": "hxwHRcyhiKjU",
        "outputId": "2859146e-0a20-4282-c467-2507fb9cbb15",
        "colab": {
          "base_uri": "https://localhost:8080/"
        }
      },
      "execution_count": 2,
      "outputs": [
        {
          "output_type": "stream",
          "name": "stdout",
          "text": [
            "Requirement already satisfied: mysql-connector-python in /usr/local/lib/python3.7/dist-packages (8.0.29)\n",
            "Requirement already satisfied: protobuf>=3.0.0 in /usr/local/lib/python3.7/dist-packages (from mysql-connector-python) (3.17.3)\n",
            "Requirement already satisfied: six>=1.9 in /usr/local/lib/python3.7/dist-packages (from protobuf>=3.0.0->mysql-connector-python) (1.15.0)\n"
          ]
        }
      ]
    },
    {
      "cell_type": "markdown",
      "source": [
        "#**2 - Pre-Processing**\n",
        "Then we import the data into the notebook. It is important to note that once the data was sent by the organizers (in .csv format), the group decided to save it on an AWS RDS instance. the organizers at Bain would have no problems running the code.\n",
        "\n",
        "Then we import the data into the notebook. It is important to note that as soon as the data was sent by the organizers (in .csv format), the group decided to save it in a folder in Google Drive. That way, the organizers at Bain would have no problems running the code."
      ],
      "metadata": {
        "id": "P7v_O-BcdQHJ"
      }
    },
    {
      "cell_type": "code",
      "source": [
        "#download data csv\n",
        "\n",
        "def download(id):\n",
        "  url = 'https://drive.google.com/uc?id=' + str(id)\n",
        "  gdown.download(url, output = None, quiet = False)\n",
        "\n",
        "\n",
        "download('1ysfB1yjSXUVn-pxo2Y5mlnNJo6d9JdjG')"
      ],
      "metadata": {
        "id": "E7qIcXXpMhna",
        "outputId": "f55a7337-7ecb-407f-875a-f0143d4720d6",
        "colab": {
          "base_uri": "https://localhost:8080/"
        }
      },
      "execution_count": 3,
      "outputs": [
        {
          "output_type": "stream",
          "name": "stderr",
          "text": [
            "Downloading...\n",
            "From: https://drive.google.com/uc?id=1ysfB1yjSXUVn-pxo2Y5mlnNJo6d9JdjG\n",
            "To: /content/historical-database.csv\n",
            "100%|██████████| 3.64M/3.64M [00:00<00:00, 98.6MB/s]\n"
          ]
        }
      ]
    },
    {
      "cell_type": "code",
      "source": [
        "df = pd.read_csv('historical-database.csv',delimiter =\";\")"
      ],
      "metadata": {
        "id": "bt7l517gwTjd"
      },
      "execution_count": 4,
      "outputs": []
    },
    {
      "cell_type": "code",
      "source": [
        "#download data csv - new method\n",
        "\n",
        "import mysql.connector\n",
        "from mysql.connector import Error\n",
        "\n",
        "\n",
        "mydb = mysql.connector.connect(host='accountingbob.cs8refzom5ab.us-east-1.rds.amazonaws.com',\n",
        "                                     database='bain',\n",
        "                                     user='admin',\n",
        "                                     password='oldnumber7')\n",
        "if mydb.is_connected():\n",
        "    db_Info = mydb.get_server_info()\n",
        "    print(\"Connected to MySQL Server version \", db_Info)\n",
        "else:\n",
        "    print(\"Error, not conected\")\n",
        "\n",
        "query = 'SELECT * FROM bain.raw_data'\n",
        "\n",
        "df = pd.read_sql(query, con = mydb)"
      ],
      "metadata": {
        "id": "di8ZPUlAh0Mc",
        "outputId": "7b085c79-e264-43f5-fa5f-57dfd3599f1c",
        "colab": {
          "base_uri": "https://localhost:8080/"
        }
      },
      "execution_count": 5,
      "outputs": [
        {
          "output_type": "stream",
          "name": "stdout",
          "text": [
            "Connected to MySQL Server version  8.0.23\n"
          ]
        }
      ]
    },
    {
      "cell_type": "code",
      "source": [
        "df.rename(columns = {'destinated_area,':'destinated_area'}, inplace = True)\n",
        "df"
      ],
      "metadata": {
        "id": "p26d3rhiLefT",
        "outputId": "f4c6ca5a-3048-49bd-c978-dcd90652a432",
        "colab": {
          "base_uri": "https://localhost:8080/",
          "height": 424
        }
      },
      "execution_count": 6,
      "outputs": [
        {
          "output_type": "execute_result",
          "data": {
            "text/plain": [
              "             year         city_code product_type    product destinated_area\n",
              "0      01/01/1974  960b4f2c94a2fb2c    temporary     Others              0,\n",
              "1      01/01/1974  746cc42bfb8f6b62    temporary     Others              0,\n",
              "2      01/01/1974  6cce2bf873870afc    temporary     Others              0,\n",
              "3      01/01/1974  4de42e351006a2ae    temporary     Others              0,\n",
              "4      01/01/1974  5b6072f8f6d37acc    temporary     Others              0,\n",
              "...           ...               ...          ...        ...             ...\n",
              "73739  01/01/2013  74d75dde6dc4a5ec      pasture  Livestock     150866,5644\n",
              "73740  01/01/2014  74d75dde6dc4a5ec      pasture  Livestock      152446,396\n",
              "73741  01/01/2015  74d75dde6dc4a5ec      pasture  Livestock     154681,0205\n",
              "73742  01/01/2016  74d75dde6dc4a5ec      pasture  Livestock     164706,2778\n",
              "73743  01/01/2017  74d75dde6dc4a5ec      pasture  Livestock     165220,8728\n",
              "\n",
              "[73744 rows x 5 columns]"
            ],
            "text/html": [
              "\n",
              "  <div id=\"df-6c7a2bd7-4382-4acb-a1f9-fc85b99e0af7\">\n",
              "    <div class=\"colab-df-container\">\n",
              "      <div>\n",
              "<style scoped>\n",
              "    .dataframe tbody tr th:only-of-type {\n",
              "        vertical-align: middle;\n",
              "    }\n",
              "\n",
              "    .dataframe tbody tr th {\n",
              "        vertical-align: top;\n",
              "    }\n",
              "\n",
              "    .dataframe thead th {\n",
              "        text-align: right;\n",
              "    }\n",
              "</style>\n",
              "<table border=\"1\" class=\"dataframe\">\n",
              "  <thead>\n",
              "    <tr style=\"text-align: right;\">\n",
              "      <th></th>\n",
              "      <th>year</th>\n",
              "      <th>city_code</th>\n",
              "      <th>product_type</th>\n",
              "      <th>product</th>\n",
              "      <th>destinated_area</th>\n",
              "    </tr>\n",
              "  </thead>\n",
              "  <tbody>\n",
              "    <tr>\n",
              "      <th>0</th>\n",
              "      <td>01/01/1974</td>\n",
              "      <td>960b4f2c94a2fb2c</td>\n",
              "      <td>temporary</td>\n",
              "      <td>Others</td>\n",
              "      <td>0,</td>\n",
              "    </tr>\n",
              "    <tr>\n",
              "      <th>1</th>\n",
              "      <td>01/01/1974</td>\n",
              "      <td>746cc42bfb8f6b62</td>\n",
              "      <td>temporary</td>\n",
              "      <td>Others</td>\n",
              "      <td>0,</td>\n",
              "    </tr>\n",
              "    <tr>\n",
              "      <th>2</th>\n",
              "      <td>01/01/1974</td>\n",
              "      <td>6cce2bf873870afc</td>\n",
              "      <td>temporary</td>\n",
              "      <td>Others</td>\n",
              "      <td>0,</td>\n",
              "    </tr>\n",
              "    <tr>\n",
              "      <th>3</th>\n",
              "      <td>01/01/1974</td>\n",
              "      <td>4de42e351006a2ae</td>\n",
              "      <td>temporary</td>\n",
              "      <td>Others</td>\n",
              "      <td>0,</td>\n",
              "    </tr>\n",
              "    <tr>\n",
              "      <th>4</th>\n",
              "      <td>01/01/1974</td>\n",
              "      <td>5b6072f8f6d37acc</td>\n",
              "      <td>temporary</td>\n",
              "      <td>Others</td>\n",
              "      <td>0,</td>\n",
              "    </tr>\n",
              "    <tr>\n",
              "      <th>...</th>\n",
              "      <td>...</td>\n",
              "      <td>...</td>\n",
              "      <td>...</td>\n",
              "      <td>...</td>\n",
              "      <td>...</td>\n",
              "    </tr>\n",
              "    <tr>\n",
              "      <th>73739</th>\n",
              "      <td>01/01/2013</td>\n",
              "      <td>74d75dde6dc4a5ec</td>\n",
              "      <td>pasture</td>\n",
              "      <td>Livestock</td>\n",
              "      <td>150866,5644</td>\n",
              "    </tr>\n",
              "    <tr>\n",
              "      <th>73740</th>\n",
              "      <td>01/01/2014</td>\n",
              "      <td>74d75dde6dc4a5ec</td>\n",
              "      <td>pasture</td>\n",
              "      <td>Livestock</td>\n",
              "      <td>152446,396</td>\n",
              "    </tr>\n",
              "    <tr>\n",
              "      <th>73741</th>\n",
              "      <td>01/01/2015</td>\n",
              "      <td>74d75dde6dc4a5ec</td>\n",
              "      <td>pasture</td>\n",
              "      <td>Livestock</td>\n",
              "      <td>154681,0205</td>\n",
              "    </tr>\n",
              "    <tr>\n",
              "      <th>73742</th>\n",
              "      <td>01/01/2016</td>\n",
              "      <td>74d75dde6dc4a5ec</td>\n",
              "      <td>pasture</td>\n",
              "      <td>Livestock</td>\n",
              "      <td>164706,2778</td>\n",
              "    </tr>\n",
              "    <tr>\n",
              "      <th>73743</th>\n",
              "      <td>01/01/2017</td>\n",
              "      <td>74d75dde6dc4a5ec</td>\n",
              "      <td>pasture</td>\n",
              "      <td>Livestock</td>\n",
              "      <td>165220,8728</td>\n",
              "    </tr>\n",
              "  </tbody>\n",
              "</table>\n",
              "<p>73744 rows × 5 columns</p>\n",
              "</div>\n",
              "      <button class=\"colab-df-convert\" onclick=\"convertToInteractive('df-6c7a2bd7-4382-4acb-a1f9-fc85b99e0af7')\"\n",
              "              title=\"Convert this dataframe to an interactive table.\"\n",
              "              style=\"display:none;\">\n",
              "        \n",
              "  <svg xmlns=\"http://www.w3.org/2000/svg\" height=\"24px\"viewBox=\"0 0 24 24\"\n",
              "       width=\"24px\">\n",
              "    <path d=\"M0 0h24v24H0V0z\" fill=\"none\"/>\n",
              "    <path d=\"M18.56 5.44l.94 2.06.94-2.06 2.06-.94-2.06-.94-.94-2.06-.94 2.06-2.06.94zm-11 1L8.5 8.5l.94-2.06 2.06-.94-2.06-.94L8.5 2.5l-.94 2.06-2.06.94zm10 10l.94 2.06.94-2.06 2.06-.94-2.06-.94-.94-2.06-.94 2.06-2.06.94z\"/><path d=\"M17.41 7.96l-1.37-1.37c-.4-.4-.92-.59-1.43-.59-.52 0-1.04.2-1.43.59L10.3 9.45l-7.72 7.72c-.78.78-.78 2.05 0 2.83L4 21.41c.39.39.9.59 1.41.59.51 0 1.02-.2 1.41-.59l7.78-7.78 2.81-2.81c.8-.78.8-2.07 0-2.86zM5.41 20L4 18.59l7.72-7.72 1.47 1.35L5.41 20z\"/>\n",
              "  </svg>\n",
              "      </button>\n",
              "      \n",
              "  <style>\n",
              "    .colab-df-container {\n",
              "      display:flex;\n",
              "      flex-wrap:wrap;\n",
              "      gap: 12px;\n",
              "    }\n",
              "\n",
              "    .colab-df-convert {\n",
              "      background-color: #E8F0FE;\n",
              "      border: none;\n",
              "      border-radius: 50%;\n",
              "      cursor: pointer;\n",
              "      display: none;\n",
              "      fill: #1967D2;\n",
              "      height: 32px;\n",
              "      padding: 0 0 0 0;\n",
              "      width: 32px;\n",
              "    }\n",
              "\n",
              "    .colab-df-convert:hover {\n",
              "      background-color: #E2EBFA;\n",
              "      box-shadow: 0px 1px 2px rgba(60, 64, 67, 0.3), 0px 1px 3px 1px rgba(60, 64, 67, 0.15);\n",
              "      fill: #174EA6;\n",
              "    }\n",
              "\n",
              "    [theme=dark] .colab-df-convert {\n",
              "      background-color: #3B4455;\n",
              "      fill: #D2E3FC;\n",
              "    }\n",
              "\n",
              "    [theme=dark] .colab-df-convert:hover {\n",
              "      background-color: #434B5C;\n",
              "      box-shadow: 0px 1px 3px 1px rgba(0, 0, 0, 0.15);\n",
              "      filter: drop-shadow(0px 1px 2px rgba(0, 0, 0, 0.3));\n",
              "      fill: #FFFFFF;\n",
              "    }\n",
              "  </style>\n",
              "\n",
              "      <script>\n",
              "        const buttonEl =\n",
              "          document.querySelector('#df-6c7a2bd7-4382-4acb-a1f9-fc85b99e0af7 button.colab-df-convert');\n",
              "        buttonEl.style.display =\n",
              "          google.colab.kernel.accessAllowed ? 'block' : 'none';\n",
              "\n",
              "        async function convertToInteractive(key) {\n",
              "          const element = document.querySelector('#df-6c7a2bd7-4382-4acb-a1f9-fc85b99e0af7');\n",
              "          const dataTable =\n",
              "            await google.colab.kernel.invokeFunction('convertToInteractive',\n",
              "                                                     [key], {});\n",
              "          if (!dataTable) return;\n",
              "\n",
              "          const docLinkHtml = 'Like what you see? Visit the ' +\n",
              "            '<a target=\"_blank\" href=https://colab.research.google.com/notebooks/data_table.ipynb>data table notebook</a>'\n",
              "            + ' to learn more about interactive tables.';\n",
              "          element.innerHTML = '';\n",
              "          dataTable['output_type'] = 'display_data';\n",
              "          await google.colab.output.renderOutput(dataTable, element);\n",
              "          const docLink = document.createElement('div');\n",
              "          docLink.innerHTML = docLinkHtml;\n",
              "          element.appendChild(docLink);\n",
              "        }\n",
              "      </script>\n",
              "    </div>\n",
              "  </div>\n",
              "  "
            ]
          },
          "metadata": {},
          "execution_count": 6
        }
      ]
    },
    {
      "cell_type": "code",
      "source": [
        "df.info()"
      ],
      "metadata": {
        "id": "IzuCRlmlCUnG",
        "outputId": "6e78aff6-25bf-4d68-998d-650fb64bec3d",
        "colab": {
          "base_uri": "https://localhost:8080/"
        }
      },
      "execution_count": 7,
      "outputs": [
        {
          "output_type": "stream",
          "name": "stdout",
          "text": [
            "<class 'pandas.core.frame.DataFrame'>\n",
            "RangeIndex: 73744 entries, 0 to 73743\n",
            "Data columns (total 5 columns):\n",
            " #   Column           Non-Null Count  Dtype \n",
            "---  ------           --------------  ----- \n",
            " 0   year             73744 non-null  object\n",
            " 1   city_code        73744 non-null  object\n",
            " 2   product_type     73744 non-null  object\n",
            " 3   product          73744 non-null  object\n",
            " 4   destinated_area  73744 non-null  object\n",
            "dtypes: object(5)\n",
            "memory usage: 2.8+ MB\n"
          ]
        }
      ]
    },
    {
      "cell_type": "code",
      "source": [
        "df.isna().sum()"
      ],
      "metadata": {
        "id": "xy-_t0umrMuW",
        "outputId": "cfee4cf5-8d1c-4f07-fc9f-8e6486a1b8b8",
        "colab": {
          "base_uri": "https://localhost:8080/"
        }
      },
      "execution_count": 8,
      "outputs": [
        {
          "output_type": "execute_result",
          "data": {
            "text/plain": [
              "year               0\n",
              "city_code          0\n",
              "product_type       0\n",
              "product            0\n",
              "destinated_area    0\n",
              "dtype: int64"
            ]
          },
          "metadata": {},
          "execution_count": 8
        }
      ]
    },
    {
      "cell_type": "code",
      "source": [
        "df.iloc[24408-2]"
      ],
      "metadata": {
        "id": "31vKQdjBD2Tb",
        "outputId": "602e2a8b-5c41-4855-f5c2-770e696e117f",
        "colab": {
          "base_uri": "https://localhost:8080/"
        }
      },
      "execution_count": 9,
      "outputs": [
        {
          "output_type": "execute_result",
          "data": {
            "text/plain": [
              "year                     01/01/1994\n",
              "city_code          5e1e131ec84f4c87\n",
              "product_type              temporary\n",
              "product                         Soy\n",
              "destinated_area                   ,\n",
              "Name: 24406, dtype: object"
            ]
          },
          "metadata": {},
          "execution_count": 9
        }
      ]
    },
    {
      "cell_type": "code",
      "source": [
        "df['destinated_area'].value_co"
      ],
      "metadata": {
        "id": "PM-Z4R7XJI1s",
        "colab": {
          "base_uri": "https://localhost:8080/",
          "height": 287
        },
        "outputId": "a82ccf86-f685-44c6-8d3d-6d0fdffc7844"
      },
      "execution_count": 10,
      "outputs": [
        {
          "output_type": "error",
          "ename": "AttributeError",
          "evalue": "ignored",
          "traceback": [
            "\u001b[0;31m---------------------------------------------------------------------------\u001b[0m",
            "\u001b[0;31mAttributeError\u001b[0m                            Traceback (most recent call last)",
            "\u001b[0;32m<ipython-input-10-3ca6af4cb9aa>\u001b[0m in \u001b[0;36m<module>\u001b[0;34m()\u001b[0m\n\u001b[0;32m----> 1\u001b[0;31m \u001b[0mdf\u001b[0m\u001b[0;34m[\u001b[0m\u001b[0;34m'destinated_area'\u001b[0m\u001b[0;34m]\u001b[0m\u001b[0;34m.\u001b[0m\u001b[0mvalue_co\u001b[0m\u001b[0;34m\u001b[0m\u001b[0;34m\u001b[0m\u001b[0m\n\u001b[0m",
            "\u001b[0;32m/usr/local/lib/python3.7/dist-packages/pandas/core/generic.py\u001b[0m in \u001b[0;36m__getattr__\u001b[0;34m(self, name)\u001b[0m\n\u001b[1;32m   5485\u001b[0m         ):\n\u001b[1;32m   5486\u001b[0m             \u001b[0;32mreturn\u001b[0m \u001b[0mself\u001b[0m\u001b[0;34m[\u001b[0m\u001b[0mname\u001b[0m\u001b[0;34m]\u001b[0m\u001b[0;34m\u001b[0m\u001b[0;34m\u001b[0m\u001b[0m\n\u001b[0;32m-> 5487\u001b[0;31m         \u001b[0;32mreturn\u001b[0m \u001b[0mobject\u001b[0m\u001b[0;34m.\u001b[0m\u001b[0m__getattribute__\u001b[0m\u001b[0;34m(\u001b[0m\u001b[0mself\u001b[0m\u001b[0;34m,\u001b[0m \u001b[0mname\u001b[0m\u001b[0;34m)\u001b[0m\u001b[0;34m\u001b[0m\u001b[0;34m\u001b[0m\u001b[0m\n\u001b[0m\u001b[1;32m   5488\u001b[0m \u001b[0;34m\u001b[0m\u001b[0m\n\u001b[1;32m   5489\u001b[0m     \u001b[0;32mdef\u001b[0m \u001b[0m__setattr__\u001b[0m\u001b[0;34m(\u001b[0m\u001b[0mself\u001b[0m\u001b[0;34m,\u001b[0m \u001b[0mname\u001b[0m\u001b[0;34m:\u001b[0m \u001b[0mstr\u001b[0m\u001b[0;34m,\u001b[0m \u001b[0mvalue\u001b[0m\u001b[0;34m)\u001b[0m \u001b[0;34m->\u001b[0m \u001b[0;32mNone\u001b[0m\u001b[0;34m:\u001b[0m\u001b[0;34m\u001b[0m\u001b[0;34m\u001b[0m\u001b[0m\n",
            "\u001b[0;31mAttributeError\u001b[0m: 'Series' object has no attribute 'value_co'"
          ]
        }
      ]
    },
    {
      "cell_type": "code",
      "source": [
        "df.dtypes"
      ],
      "metadata": {
        "id": "II0p2zyuo5HB"
      },
      "execution_count": null,
      "outputs": []
    },
    {
      "cell_type": "code",
      "source": [
        "(df==0).sum()q"
      ],
      "metadata": {
        "id": "jn76D0z9J5lz"
      },
      "execution_count": null,
      "outputs": []
    },
    {
      "cell_type": "code",
      "source": [
        "lista=[]\n",
        "teste = df.destinated_area.value_counts()\n",
        "print(teste)"
      ],
      "metadata": {
        "id": "ZCNScprfIRl3"
      },
      "execution_count": null,
      "outputs": []
    },
    {
      "cell_type": "code",
      "source": [
        "df"
      ],
      "metadata": {
        "id": "x_fw0WhgCIqt"
      },
      "execution_count": null,
      "outputs": []
    },
    {
      "cell_type": "code",
      "source": [
        "df[\"destinated_area\"] = df['destinated_area'].replace([''], np.nan)"
      ],
      "metadata": {
        "id": "YP4FRCWkYzR8"
      },
      "execution_count": null,
      "outputs": []
    },
    {
      "cell_type": "code",
      "source": [
        "df.isna().sum()"
      ],
      "metadata": {
        "id": "cI6VQ58talhJ"
      },
      "execution_count": null,
      "outputs": []
    },
    {
      "cell_type": "code",
      "source": [
        "(df=='').sum()"
      ],
      "metadata": {
        "id": "u7-HWvdBFRQO"
      },
      "execution_count": null,
      "outputs": []
    },
    {
      "cell_type": "code",
      "source": [
        "df.dtypes"
      ],
      "metadata": {
        "id": "Vo2A3nunZkqy"
      },
      "execution_count": null,
      "outputs": []
    },
    {
      "cell_type": "code",
      "source": [
        "df = df.astype({\"destinated_area\": float})\n",
        "df.dtypes"
      ],
      "metadata": {
        "id": "J5YTzEAMZSnk"
      },
      "execution_count": null,
      "outputs": []
    },
    {
      "cell_type": "code",
      "source": [
        "df.isna().sum()"
      ],
      "metadata": {
        "id": "CORhzP_MZrtV"
      },
      "execution_count": null,
      "outputs": []
    },
    {
      "cell_type": "code",
      "source": [
        "aux = df[\"destinated_area\"].mean()\n",
        "df[\"destinated_area\"] = df['destinated_area'].replace([np.nan], aux)\n",
        "\n",
        "df.isna().sum()"
      ],
      "metadata": {
        "id": "YIkaFZeYZyHR"
      },
      "execution_count": null,
      "outputs": []
    },
    {
      "cell_type": "code",
      "source": [
        "df.iloc[24408-2]"
      ],
      "metadata": {
        "id": "sdSJl0tkh70W"
      },
      "execution_count": null,
      "outputs": []
    },
    {
      "cell_type": "code",
      "source": [
        "df['product'].unique()"
      ],
      "metadata": {
        "id": "8op6OmHPhAUP"
      },
      "execution_count": null,
      "outputs": []
    },
    {
      "cell_type": "code",
      "source": [
        "df['year'].unique()"
      ],
      "metadata": {
        "id": "n-mdo3gNnZBD"
      },
      "execution_count": null,
      "outputs": []
    },
    {
      "cell_type": "code",
      "source": [
        "df['date'] = pd.to_datetime(df['year'],format= \"%d/%m/%Y\")"
      ],
      "metadata": {
        "id": "CZwFwmvzh8K4"
      },
      "execution_count": null,
      "outputs": []
    },
    {
      "cell_type": "code",
      "source": [
        "df['year'] = pd.DatetimeIndex(df['date']).year\n"
      ],
      "metadata": {
        "id": "oT8cC-cqg_fQ"
      },
      "execution_count": null,
      "outputs": []
    },
    {
      "cell_type": "code",
      "source": [
        "df['date'].unique()"
      ],
      "metadata": {
        "id": "nBvlF5t0nHwy"
      },
      "execution_count": null,
      "outputs": []
    },
    {
      "cell_type": "code",
      "source": [
        "df.groupby('product')['destinated_area'].sum().sort_values(ascending=True)"
      ],
      "metadata": {
        "id": "Gif9meB4_b_u"
      },
      "execution_count": null,
      "outputs": []
    },
    {
      "cell_type": "code",
      "source": [
        "df.head()"
      ],
      "metadata": {
        "id": "DNTCyL5NqSMH"
      },
      "execution_count": null,
      "outputs": []
    }
  ]
}