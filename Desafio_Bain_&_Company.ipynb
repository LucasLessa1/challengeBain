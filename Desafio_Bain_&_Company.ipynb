{
  "nbformat": 4,
  "nbformat_minor": 0,
  "metadata": {
    "colab": {
      "name": "Desafio_Bain_&_Company.ipynb",
      "provenance": [],
      "collapsed_sections": [],
      "toc_visible": true,
      "include_colab_link": true
    },
    "kernelspec": {
      "name": "python3",
      "display_name": "Python 3"
    },
    "language_info": {
      "name": "python"
    }
  },
  "cells": [
    {
      "cell_type": "markdown",
      "metadata": {
        "id": "view-in-github",
        "colab_type": "text"
      },
      "source": [
        "<a href=\"https://colab.research.google.com/github/LucasLessa1/challengeBain/blob/main/Desafio_Bain_%26_Company.ipynb\" target=\"_parent\"><img src=\"https://colab.research.google.com/assets/colab-badge.svg\" alt=\"Open In Colab\"/></a>"
      ]
    },
    {
      "cell_type": "markdown",
      "source": [
        "#**1 - Imports**\n",
        "First, we import the libraries that will be used throughout the code."
      ],
      "metadata": {
        "id": "8D0T0nLEdW1B"
      }
    },
    {
      "cell_type": "code",
      "execution_count": 1,
      "metadata": {
        "id": "V7IvQJ6kSQok"
      },
      "outputs": [],
      "source": [
        "import pandas as pd\n",
        "import numpy as np\n",
        "import matplotlib.pyplot as plt\n",
        "import seaborn as sns\n",
        "import datetime\n",
        "import gdown"
      ]
    },
    {
      "cell_type": "markdown",
      "source": [
        "#**2 - Pre-Processing**\n",
        "\n",
        "Then we import the data into the notebook. It is important to note that as soon as the data was sent by the organizers (in .csv format), the group decided to save it in a folder in Google Drive. That way, the organizers at Bain would have no problems running the code."
      ],
      "metadata": {
        "id": "P7v_O-BcdQHJ"
      }
    },
    {
      "cell_type": "code",
      "source": [
        "#download data csv\n",
        "def download(id):\n",
        "  url = 'https://drive.google.com/uc?id=' + str(id)\n",
        "  gdown.download(url, output = None, quiet = False)\n",
        "\n",
        "\n",
        "download('1ysfB1yjSXUVn-pxo2Y5mlnNJo6d9JdjG')"
      ],
      "metadata": {
        "id": "E7qIcXXpMhna",
        "outputId": "236b566a-275e-4fbc-b9f8-e82e77e71995",
        "colab": {
          "base_uri": "https://localhost:8080/"
        }
      },
      "execution_count": 2,
      "outputs": [
        {
          "output_type": "stream",
          "name": "stderr",
          "text": [
            "Downloading...\n",
            "From: https://drive.google.com/uc?id=1ysfB1yjSXUVn-pxo2Y5mlnNJo6d9JdjG\n",
            "To: /content/historical-database.csv\n",
            "100%|██████████| 3.64M/3.64M [00:00<00:00, 163MB/s]\n"
          ]
        }
      ]
    },
    {
      "cell_type": "markdown",
      "source": [
        "Below, you can note that we used the \"delimiter\" parameter to separate the fields. Note also that the we renamed the destinated_area field, removing the extra comma."
      ],
      "metadata": {
        "id": "wO6dflkGs8_r"
      }
    },
    {
      "cell_type": "code",
      "source": [
        "df = pd.read_csv('historical-database.csv',delimiter =\";\")\n",
        "df.rename(columns = {'destinated_area,':'destinated_area'}, inplace = True)\n",
        "df"
      ],
      "metadata": {
        "id": "bt7l517gwTjd",
        "colab": {
          "base_uri": "https://localhost:8080/",
          "height": 424
        },
        "outputId": "dbb4afa1-93bf-4c7b-9aed-887fda67e882"
      },
      "execution_count": 3,
      "outputs": [
        {
          "output_type": "execute_result",
          "data": {
            "text/plain": [
              "             year         city_code product_type    product destinated_area\n",
              "0      01/01/1974  960b4f2c94a2fb2c    temporary     Others              0,\n",
              "1      01/01/1974  746cc42bfb8f6b62    temporary     Others              0,\n",
              "2      01/01/1974  6cce2bf873870afc    temporary     Others              0,\n",
              "3      01/01/1974  4de42e351006a2ae    temporary     Others              0,\n",
              "4      01/01/1974  5b6072f8f6d37acc    temporary     Others              0,\n",
              "...           ...               ...          ...        ...             ...\n",
              "73739  01/01/2013  74d75dde6dc4a5ec      pasture  Livestock     150866,5644\n",
              "73740  01/01/2014  74d75dde6dc4a5ec      pasture  Livestock      152446,396\n",
              "73741  01/01/2015  74d75dde6dc4a5ec      pasture  Livestock     154681,0205\n",
              "73742  01/01/2016  74d75dde6dc4a5ec      pasture  Livestock     164706,2778\n",
              "73743  01/01/2017  74d75dde6dc4a5ec      pasture  Livestock     165220,8728\n",
              "\n",
              "[73744 rows x 5 columns]"
            ],
            "text/html": [
              "\n",
              "  <div id=\"df-b57c4de5-a570-4556-81c1-57905aef285c\">\n",
              "    <div class=\"colab-df-container\">\n",
              "      <div>\n",
              "<style scoped>\n",
              "    .dataframe tbody tr th:only-of-type {\n",
              "        vertical-align: middle;\n",
              "    }\n",
              "\n",
              "    .dataframe tbody tr th {\n",
              "        vertical-align: top;\n",
              "    }\n",
              "\n",
              "    .dataframe thead th {\n",
              "        text-align: right;\n",
              "    }\n",
              "</style>\n",
              "<table border=\"1\" class=\"dataframe\">\n",
              "  <thead>\n",
              "    <tr style=\"text-align: right;\">\n",
              "      <th></th>\n",
              "      <th>year</th>\n",
              "      <th>city_code</th>\n",
              "      <th>product_type</th>\n",
              "      <th>product</th>\n",
              "      <th>destinated_area</th>\n",
              "    </tr>\n",
              "  </thead>\n",
              "  <tbody>\n",
              "    <tr>\n",
              "      <th>0</th>\n",
              "      <td>01/01/1974</td>\n",
              "      <td>960b4f2c94a2fb2c</td>\n",
              "      <td>temporary</td>\n",
              "      <td>Others</td>\n",
              "      <td>0,</td>\n",
              "    </tr>\n",
              "    <tr>\n",
              "      <th>1</th>\n",
              "      <td>01/01/1974</td>\n",
              "      <td>746cc42bfb8f6b62</td>\n",
              "      <td>temporary</td>\n",
              "      <td>Others</td>\n",
              "      <td>0,</td>\n",
              "    </tr>\n",
              "    <tr>\n",
              "      <th>2</th>\n",
              "      <td>01/01/1974</td>\n",
              "      <td>6cce2bf873870afc</td>\n",
              "      <td>temporary</td>\n",
              "      <td>Others</td>\n",
              "      <td>0,</td>\n",
              "    </tr>\n",
              "    <tr>\n",
              "      <th>3</th>\n",
              "      <td>01/01/1974</td>\n",
              "      <td>4de42e351006a2ae</td>\n",
              "      <td>temporary</td>\n",
              "      <td>Others</td>\n",
              "      <td>0,</td>\n",
              "    </tr>\n",
              "    <tr>\n",
              "      <th>4</th>\n",
              "      <td>01/01/1974</td>\n",
              "      <td>5b6072f8f6d37acc</td>\n",
              "      <td>temporary</td>\n",
              "      <td>Others</td>\n",
              "      <td>0,</td>\n",
              "    </tr>\n",
              "    <tr>\n",
              "      <th>...</th>\n",
              "      <td>...</td>\n",
              "      <td>...</td>\n",
              "      <td>...</td>\n",
              "      <td>...</td>\n",
              "      <td>...</td>\n",
              "    </tr>\n",
              "    <tr>\n",
              "      <th>73739</th>\n",
              "      <td>01/01/2013</td>\n",
              "      <td>74d75dde6dc4a5ec</td>\n",
              "      <td>pasture</td>\n",
              "      <td>Livestock</td>\n",
              "      <td>150866,5644</td>\n",
              "    </tr>\n",
              "    <tr>\n",
              "      <th>73740</th>\n",
              "      <td>01/01/2014</td>\n",
              "      <td>74d75dde6dc4a5ec</td>\n",
              "      <td>pasture</td>\n",
              "      <td>Livestock</td>\n",
              "      <td>152446,396</td>\n",
              "    </tr>\n",
              "    <tr>\n",
              "      <th>73741</th>\n",
              "      <td>01/01/2015</td>\n",
              "      <td>74d75dde6dc4a5ec</td>\n",
              "      <td>pasture</td>\n",
              "      <td>Livestock</td>\n",
              "      <td>154681,0205</td>\n",
              "    </tr>\n",
              "    <tr>\n",
              "      <th>73742</th>\n",
              "      <td>01/01/2016</td>\n",
              "      <td>74d75dde6dc4a5ec</td>\n",
              "      <td>pasture</td>\n",
              "      <td>Livestock</td>\n",
              "      <td>164706,2778</td>\n",
              "    </tr>\n",
              "    <tr>\n",
              "      <th>73743</th>\n",
              "      <td>01/01/2017</td>\n",
              "      <td>74d75dde6dc4a5ec</td>\n",
              "      <td>pasture</td>\n",
              "      <td>Livestock</td>\n",
              "      <td>165220,8728</td>\n",
              "    </tr>\n",
              "  </tbody>\n",
              "</table>\n",
              "<p>73744 rows × 5 columns</p>\n",
              "</div>\n",
              "      <button class=\"colab-df-convert\" onclick=\"convertToInteractive('df-b57c4de5-a570-4556-81c1-57905aef285c')\"\n",
              "              title=\"Convert this dataframe to an interactive table.\"\n",
              "              style=\"display:none;\">\n",
              "        \n",
              "  <svg xmlns=\"http://www.w3.org/2000/svg\" height=\"24px\"viewBox=\"0 0 24 24\"\n",
              "       width=\"24px\">\n",
              "    <path d=\"M0 0h24v24H0V0z\" fill=\"none\"/>\n",
              "    <path d=\"M18.56 5.44l.94 2.06.94-2.06 2.06-.94-2.06-.94-.94-2.06-.94 2.06-2.06.94zm-11 1L8.5 8.5l.94-2.06 2.06-.94-2.06-.94L8.5 2.5l-.94 2.06-2.06.94zm10 10l.94 2.06.94-2.06 2.06-.94-2.06-.94-.94-2.06-.94 2.06-2.06.94z\"/><path d=\"M17.41 7.96l-1.37-1.37c-.4-.4-.92-.59-1.43-.59-.52 0-1.04.2-1.43.59L10.3 9.45l-7.72 7.72c-.78.78-.78 2.05 0 2.83L4 21.41c.39.39.9.59 1.41.59.51 0 1.02-.2 1.41-.59l7.78-7.78 2.81-2.81c.8-.78.8-2.07 0-2.86zM5.41 20L4 18.59l7.72-7.72 1.47 1.35L5.41 20z\"/>\n",
              "  </svg>\n",
              "      </button>\n",
              "      \n",
              "  <style>\n",
              "    .colab-df-container {\n",
              "      display:flex;\n",
              "      flex-wrap:wrap;\n",
              "      gap: 12px;\n",
              "    }\n",
              "\n",
              "    .colab-df-convert {\n",
              "      background-color: #E8F0FE;\n",
              "      border: none;\n",
              "      border-radius: 50%;\n",
              "      cursor: pointer;\n",
              "      display: none;\n",
              "      fill: #1967D2;\n",
              "      height: 32px;\n",
              "      padding: 0 0 0 0;\n",
              "      width: 32px;\n",
              "    }\n",
              "\n",
              "    .colab-df-convert:hover {\n",
              "      background-color: #E2EBFA;\n",
              "      box-shadow: 0px 1px 2px rgba(60, 64, 67, 0.3), 0px 1px 3px 1px rgba(60, 64, 67, 0.15);\n",
              "      fill: #174EA6;\n",
              "    }\n",
              "\n",
              "    [theme=dark] .colab-df-convert {\n",
              "      background-color: #3B4455;\n",
              "      fill: #D2E3FC;\n",
              "    }\n",
              "\n",
              "    [theme=dark] .colab-df-convert:hover {\n",
              "      background-color: #434B5C;\n",
              "      box-shadow: 0px 1px 3px 1px rgba(0, 0, 0, 0.15);\n",
              "      filter: drop-shadow(0px 1px 2px rgba(0, 0, 0, 0.3));\n",
              "      fill: #FFFFFF;\n",
              "    }\n",
              "  </style>\n",
              "\n",
              "      <script>\n",
              "        const buttonEl =\n",
              "          document.querySelector('#df-b57c4de5-a570-4556-81c1-57905aef285c button.colab-df-convert');\n",
              "        buttonEl.style.display =\n",
              "          google.colab.kernel.accessAllowed ? 'block' : 'none';\n",
              "\n",
              "        async function convertToInteractive(key) {\n",
              "          const element = document.querySelector('#df-b57c4de5-a570-4556-81c1-57905aef285c');\n",
              "          const dataTable =\n",
              "            await google.colab.kernel.invokeFunction('convertToInteractive',\n",
              "                                                     [key], {});\n",
              "          if (!dataTable) return;\n",
              "\n",
              "          const docLinkHtml = 'Like what you see? Visit the ' +\n",
              "            '<a target=\"_blank\" href=https://colab.research.google.com/notebooks/data_table.ipynb>data table notebook</a>'\n",
              "            + ' to learn more about interactive tables.';\n",
              "          element.innerHTML = '';\n",
              "          dataTable['output_type'] = 'display_data';\n",
              "          await google.colab.output.renderOutput(dataTable, element);\n",
              "          const docLink = document.createElement('div');\n",
              "          docLink.innerHTML = docLinkHtml;\n",
              "          element.appendChild(docLink);\n",
              "        }\n",
              "      </script>\n",
              "    </div>\n",
              "  </div>\n",
              "  "
            ]
          },
          "metadata": {},
          "execution_count": 3
        }
      ]
    },
    {
      "cell_type": "markdown",
      "source": [
        "When we import the data, all data types were designated as objects (mostly mixed numeric and non-numeric data type)."
      ],
      "metadata": {
        "id": "p8avSVDgt50F"
      }
    },
    {
      "cell_type": "code",
      "source": [
        "df.dtypes"
      ],
      "metadata": {
        "colab": {
          "base_uri": "https://localhost:8080/"
        },
        "id": "1tjSM_CJtnY7",
        "outputId": "4f167592-0d3b-4096-c623-ca40290f866d"
      },
      "execution_count": 4,
      "outputs": [
        {
          "output_type": "execute_result",
          "data": {
            "text/plain": [
              "year               object\n",
              "city_code          object\n",
              "product_type       object\n",
              "product            object\n",
              "destinated_area    object\n",
              "dtype: object"
            ]
          },
          "metadata": {},
          "execution_count": 4
        }
      ]
    },
    {
      "cell_type": "markdown",
      "source": [
        "But to do some treatment, we change the data type to string."
      ],
      "metadata": {
        "id": "d_ZeCOPtuZzT"
      }
    },
    {
      "cell_type": "code",
      "source": [
        "df = df.astype(str)"
      ],
      "metadata": {
        "id": "wm-JOjt4qeSe"
      },
      "execution_count": 5,
      "outputs": []
    },
    {
      "cell_type": "markdown",
      "source": [
        "We noticed that some values were just commas, so we just interpreted them as empty, replacing them with NaN (not a number)."
      ],
      "metadata": {
        "id": "D2YdBCzQu7Fr"
      }
    },
    {
      "cell_type": "code",
      "source": [
        "df.loc[df['destinated_area'] ==\",\", 'destinated_area'] = np.nan\n",
        "df['destinated_area'].isna().sum()"
      ],
      "metadata": {
        "colab": {
          "base_uri": "https://localhost:8080/"
        },
        "id": "f3cTJ7rVzAaV",
        "outputId": "43fd42db-98b5-42ed-adbe-bd42019cb990"
      },
      "execution_count": 6,
      "outputs": [
        {
          "output_type": "execute_result",
          "data": {
            "text/plain": [
              "39035"
            ]
          },
          "metadata": {},
          "execution_count": 6
        }
      ]
    },
    {
      "cell_type": "markdown",
      "source": [
        "For now on, we continued to treat weird values, such as \"0,\" and changing commas to dots."
      ],
      "metadata": {
        "id": "ubLqSnjsvpuL"
      }
    },
    {
      "cell_type": "code",
      "source": [
        "df['destinated_area'] = df['destinated_area'].replace(['0,'],'0')\n",
        "destinated_area = df['destinated_area'].to_list()\n",
        "destinated_area = [item if type(item) ==float else item.replace(\",\", \".\") for item in destinated_area]\n",
        "df['destinated_area'] = destinated_area"
      ],
      "metadata": {
        "id": "Zef4JFJXCK0d"
      },
      "execution_count": 7,
      "outputs": []
    },
    {
      "cell_type": "markdown",
      "source": [
        "Then, we change some data types to float (when that should be the case), or to date values."
      ],
      "metadata": {
        "id": "YzmMsppYwCZM"
      }
    },
    {
      "cell_type": "code",
      "source": [
        "df['destinated_area'] = df['destinated_area'].astype(float) "
      ],
      "metadata": {
        "id": "ww7FeQ3-ERpz"
      },
      "execution_count": 8,
      "outputs": []
    },
    {
      "cell_type": "code",
      "source": [
        "column_mean = df[\"destinated_area\"].mean()\n",
        "df['destinated_area'] = df['destinated_area'].fillna(column_mean)"
      ],
      "metadata": {
        "id": "SxZAqmBRAfFj"
      },
      "execution_count": 9,
      "outputs": []
    },
    {
      "cell_type": "code",
      "source": [
        "(df==0).sum()"
      ],
      "metadata": {
        "id": "jn76D0z9J5lz",
        "colab": {
          "base_uri": "https://localhost:8080/"
        },
        "outputId": "2e3f859a-6f79-44a8-e6ab-c9e363713f66"
      },
      "execution_count": 10,
      "outputs": [
        {
          "output_type": "execute_result",
          "data": {
            "text/plain": [
              "year                  0\n",
              "city_code             0\n",
              "product_type          0\n",
              "product               0\n",
              "destinated_area    5643\n",
              "dtype: int64"
            ]
          },
          "metadata": {},
          "execution_count": 10
        }
      ]
    },
    {
      "cell_type": "code",
      "source": [
        "df['date'] = pd.to_datetime(df['year'],format= \"%d/%m/%Y\")"
      ],
      "metadata": {
        "id": "CZwFwmvzh8K4"
      },
      "execution_count": 11,
      "outputs": []
    },
    {
      "cell_type": "code",
      "source": [
        "df['year'] = pd.DatetimeIndex(df['date']).year\n"
      ],
      "metadata": {
        "id": "oT8cC-cqg_fQ"
      },
      "execution_count": 12,
      "outputs": []
    },
    {
      "cell_type": "markdown",
      "source": [
        "The final result of the treatment is the below dataframe and data types."
      ],
      "metadata": {
        "id": "QFMSrIw6wSf2"
      }
    },
    {
      "cell_type": "code",
      "source": [
        "df.dtypes"
      ],
      "metadata": {
        "colab": {
          "base_uri": "https://localhost:8080/"
        },
        "id": "9F9PHinewapT",
        "outputId": "073152bd-ca16-4846-e90b-cc0647e7ded5"
      },
      "execution_count": 13,
      "outputs": [
        {
          "output_type": "execute_result",
          "data": {
            "text/plain": [
              "year                        int64\n",
              "city_code                  object\n",
              "product_type               object\n",
              "product                    object\n",
              "destinated_area           float64\n",
              "date               datetime64[ns]\n",
              "dtype: object"
            ]
          },
          "metadata": {},
          "execution_count": 13
        }
      ]
    },
    {
      "cell_type": "code",
      "source": [
        "df"
      ],
      "metadata": {
        "colab": {
          "base_uri": "https://localhost:8080/",
          "height": 424
        },
        "id": "GdsP6aoUwo0T",
        "outputId": "940f24fb-40bd-4f0e-86fd-8b5b0e4341df"
      },
      "execution_count": 14,
      "outputs": [
        {
          "output_type": "execute_result",
          "data": {
            "text/plain": [
              "       year         city_code product_type    product  destinated_area  \\\n",
              "0      1974  960b4f2c94a2fb2c    temporary     Others           0.0000   \n",
              "1      1974  746cc42bfb8f6b62    temporary     Others           0.0000   \n",
              "2      1974  6cce2bf873870afc    temporary     Others           0.0000   \n",
              "3      1974  4de42e351006a2ae    temporary     Others           0.0000   \n",
              "4      1974  5b6072f8f6d37acc    temporary     Others           0.0000   \n",
              "...     ...               ...          ...        ...              ...   \n",
              "73739  2013  74d75dde6dc4a5ec      pasture  Livestock      150866.5644   \n",
              "73740  2014  74d75dde6dc4a5ec      pasture  Livestock      152446.3960   \n",
              "73741  2015  74d75dde6dc4a5ec      pasture  Livestock      154681.0205   \n",
              "73742  2016  74d75dde6dc4a5ec      pasture  Livestock      164706.2778   \n",
              "73743  2017  74d75dde6dc4a5ec      pasture  Livestock      165220.8728   \n",
              "\n",
              "            date  \n",
              "0     1974-01-01  \n",
              "1     1974-01-01  \n",
              "2     1974-01-01  \n",
              "3     1974-01-01  \n",
              "4     1974-01-01  \n",
              "...          ...  \n",
              "73739 2013-01-01  \n",
              "73740 2014-01-01  \n",
              "73741 2015-01-01  \n",
              "73742 2016-01-01  \n",
              "73743 2017-01-01  \n",
              "\n",
              "[73744 rows x 6 columns]"
            ],
            "text/html": [
              "\n",
              "  <div id=\"df-c3da4590-6d9c-4839-b836-02532ad4dfde\">\n",
              "    <div class=\"colab-df-container\">\n",
              "      <div>\n",
              "<style scoped>\n",
              "    .dataframe tbody tr th:only-of-type {\n",
              "        vertical-align: middle;\n",
              "    }\n",
              "\n",
              "    .dataframe tbody tr th {\n",
              "        vertical-align: top;\n",
              "    }\n",
              "\n",
              "    .dataframe thead th {\n",
              "        text-align: right;\n",
              "    }\n",
              "</style>\n",
              "<table border=\"1\" class=\"dataframe\">\n",
              "  <thead>\n",
              "    <tr style=\"text-align: right;\">\n",
              "      <th></th>\n",
              "      <th>year</th>\n",
              "      <th>city_code</th>\n",
              "      <th>product_type</th>\n",
              "      <th>product</th>\n",
              "      <th>destinated_area</th>\n",
              "      <th>date</th>\n",
              "    </tr>\n",
              "  </thead>\n",
              "  <tbody>\n",
              "    <tr>\n",
              "      <th>0</th>\n",
              "      <td>1974</td>\n",
              "      <td>960b4f2c94a2fb2c</td>\n",
              "      <td>temporary</td>\n",
              "      <td>Others</td>\n",
              "      <td>0.0000</td>\n",
              "      <td>1974-01-01</td>\n",
              "    </tr>\n",
              "    <tr>\n",
              "      <th>1</th>\n",
              "      <td>1974</td>\n",
              "      <td>746cc42bfb8f6b62</td>\n",
              "      <td>temporary</td>\n",
              "      <td>Others</td>\n",
              "      <td>0.0000</td>\n",
              "      <td>1974-01-01</td>\n",
              "    </tr>\n",
              "    <tr>\n",
              "      <th>2</th>\n",
              "      <td>1974</td>\n",
              "      <td>6cce2bf873870afc</td>\n",
              "      <td>temporary</td>\n",
              "      <td>Others</td>\n",
              "      <td>0.0000</td>\n",
              "      <td>1974-01-01</td>\n",
              "    </tr>\n",
              "    <tr>\n",
              "      <th>3</th>\n",
              "      <td>1974</td>\n",
              "      <td>4de42e351006a2ae</td>\n",
              "      <td>temporary</td>\n",
              "      <td>Others</td>\n",
              "      <td>0.0000</td>\n",
              "      <td>1974-01-01</td>\n",
              "    </tr>\n",
              "    <tr>\n",
              "      <th>4</th>\n",
              "      <td>1974</td>\n",
              "      <td>5b6072f8f6d37acc</td>\n",
              "      <td>temporary</td>\n",
              "      <td>Others</td>\n",
              "      <td>0.0000</td>\n",
              "      <td>1974-01-01</td>\n",
              "    </tr>\n",
              "    <tr>\n",
              "      <th>...</th>\n",
              "      <td>...</td>\n",
              "      <td>...</td>\n",
              "      <td>...</td>\n",
              "      <td>...</td>\n",
              "      <td>...</td>\n",
              "      <td>...</td>\n",
              "    </tr>\n",
              "    <tr>\n",
              "      <th>73739</th>\n",
              "      <td>2013</td>\n",
              "      <td>74d75dde6dc4a5ec</td>\n",
              "      <td>pasture</td>\n",
              "      <td>Livestock</td>\n",
              "      <td>150866.5644</td>\n",
              "      <td>2013-01-01</td>\n",
              "    </tr>\n",
              "    <tr>\n",
              "      <th>73740</th>\n",
              "      <td>2014</td>\n",
              "      <td>74d75dde6dc4a5ec</td>\n",
              "      <td>pasture</td>\n",
              "      <td>Livestock</td>\n",
              "      <td>152446.3960</td>\n",
              "      <td>2014-01-01</td>\n",
              "    </tr>\n",
              "    <tr>\n",
              "      <th>73741</th>\n",
              "      <td>2015</td>\n",
              "      <td>74d75dde6dc4a5ec</td>\n",
              "      <td>pasture</td>\n",
              "      <td>Livestock</td>\n",
              "      <td>154681.0205</td>\n",
              "      <td>2015-01-01</td>\n",
              "    </tr>\n",
              "    <tr>\n",
              "      <th>73742</th>\n",
              "      <td>2016</td>\n",
              "      <td>74d75dde6dc4a5ec</td>\n",
              "      <td>pasture</td>\n",
              "      <td>Livestock</td>\n",
              "      <td>164706.2778</td>\n",
              "      <td>2016-01-01</td>\n",
              "    </tr>\n",
              "    <tr>\n",
              "      <th>73743</th>\n",
              "      <td>2017</td>\n",
              "      <td>74d75dde6dc4a5ec</td>\n",
              "      <td>pasture</td>\n",
              "      <td>Livestock</td>\n",
              "      <td>165220.8728</td>\n",
              "      <td>2017-01-01</td>\n",
              "    </tr>\n",
              "  </tbody>\n",
              "</table>\n",
              "<p>73744 rows × 6 columns</p>\n",
              "</div>\n",
              "      <button class=\"colab-df-convert\" onclick=\"convertToInteractive('df-c3da4590-6d9c-4839-b836-02532ad4dfde')\"\n",
              "              title=\"Convert this dataframe to an interactive table.\"\n",
              "              style=\"display:none;\">\n",
              "        \n",
              "  <svg xmlns=\"http://www.w3.org/2000/svg\" height=\"24px\"viewBox=\"0 0 24 24\"\n",
              "       width=\"24px\">\n",
              "    <path d=\"M0 0h24v24H0V0z\" fill=\"none\"/>\n",
              "    <path d=\"M18.56 5.44l.94 2.06.94-2.06 2.06-.94-2.06-.94-.94-2.06-.94 2.06-2.06.94zm-11 1L8.5 8.5l.94-2.06 2.06-.94-2.06-.94L8.5 2.5l-.94 2.06-2.06.94zm10 10l.94 2.06.94-2.06 2.06-.94-2.06-.94-.94-2.06-.94 2.06-2.06.94z\"/><path d=\"M17.41 7.96l-1.37-1.37c-.4-.4-.92-.59-1.43-.59-.52 0-1.04.2-1.43.59L10.3 9.45l-7.72 7.72c-.78.78-.78 2.05 0 2.83L4 21.41c.39.39.9.59 1.41.59.51 0 1.02-.2 1.41-.59l7.78-7.78 2.81-2.81c.8-.78.8-2.07 0-2.86zM5.41 20L4 18.59l7.72-7.72 1.47 1.35L5.41 20z\"/>\n",
              "  </svg>\n",
              "      </button>\n",
              "      \n",
              "  <style>\n",
              "    .colab-df-container {\n",
              "      display:flex;\n",
              "      flex-wrap:wrap;\n",
              "      gap: 12px;\n",
              "    }\n",
              "\n",
              "    .colab-df-convert {\n",
              "      background-color: #E8F0FE;\n",
              "      border: none;\n",
              "      border-radius: 50%;\n",
              "      cursor: pointer;\n",
              "      display: none;\n",
              "      fill: #1967D2;\n",
              "      height: 32px;\n",
              "      padding: 0 0 0 0;\n",
              "      width: 32px;\n",
              "    }\n",
              "\n",
              "    .colab-df-convert:hover {\n",
              "      background-color: #E2EBFA;\n",
              "      box-shadow: 0px 1px 2px rgba(60, 64, 67, 0.3), 0px 1px 3px 1px rgba(60, 64, 67, 0.15);\n",
              "      fill: #174EA6;\n",
              "    }\n",
              "\n",
              "    [theme=dark] .colab-df-convert {\n",
              "      background-color: #3B4455;\n",
              "      fill: #D2E3FC;\n",
              "    }\n",
              "\n",
              "    [theme=dark] .colab-df-convert:hover {\n",
              "      background-color: #434B5C;\n",
              "      box-shadow: 0px 1px 3px 1px rgba(0, 0, 0, 0.15);\n",
              "      filter: drop-shadow(0px 1px 2px rgba(0, 0, 0, 0.3));\n",
              "      fill: #FFFFFF;\n",
              "    }\n",
              "  </style>\n",
              "\n",
              "      <script>\n",
              "        const buttonEl =\n",
              "          document.querySelector('#df-c3da4590-6d9c-4839-b836-02532ad4dfde button.colab-df-convert');\n",
              "        buttonEl.style.display =\n",
              "          google.colab.kernel.accessAllowed ? 'block' : 'none';\n",
              "\n",
              "        async function convertToInteractive(key) {\n",
              "          const element = document.querySelector('#df-c3da4590-6d9c-4839-b836-02532ad4dfde');\n",
              "          const dataTable =\n",
              "            await google.colab.kernel.invokeFunction('convertToInteractive',\n",
              "                                                     [key], {});\n",
              "          if (!dataTable) return;\n",
              "\n",
              "          const docLinkHtml = 'Like what you see? Visit the ' +\n",
              "            '<a target=\"_blank\" href=https://colab.research.google.com/notebooks/data_table.ipynb>data table notebook</a>'\n",
              "            + ' to learn more about interactive tables.';\n",
              "          element.innerHTML = '';\n",
              "          dataTable['output_type'] = 'display_data';\n",
              "          await google.colab.output.renderOutput(dataTable, element);\n",
              "          const docLink = document.createElement('div');\n",
              "          docLink.innerHTML = docLinkHtml;\n",
              "          element.appendChild(docLink);\n",
              "        }\n",
              "      </script>\n",
              "    </div>\n",
              "  </div>\n",
              "  "
            ]
          },
          "metadata": {},
          "execution_count": 14
        }
      ]
    },
    {
      "cell_type": "markdown",
      "source": [
        "# **3 - Importing other databases**"
      ],
      "metadata": {
        "id": "Y_Ihqde_IWp3"
      }
    },
    {
      "cell_type": "markdown",
      "source": [
        "The .csv file provided by Bain contains only the date, city_code, product_type, product and destination_area fields, one of which is a hash. The group understands that this file is sufficient to make predictions. However, in search of a more accurate result, it would be interesting to aggregate other data sources in the bain dataframe. So it was done.\n",
        "\n",
        "In this section, data on **livestock**, **weather**, **humidity** and **products** from Paraná are added to the dataframe."
      ],
      "metadata": {
        "id": "KjdjjLQ-wsfs"
      }
    },
    {
      "cell_type": "code",
      "source": [
        "download(\"1uQnV90A0SAFT1KxwjjUOBX4W9zkbZ-Vd\") #https://drive.google.com/file/d/1uQnV90A0SAFT1KxwjjUOBX4W9zkbZ-Vd/view?usp=sharing\n",
        "download('1RII2akbU72zngbRdUpFGIakxcmRoqTPN') #https://drive.google.com/file/d/1RII2akbU72zngbRdUpFGIakxcmRoqTPN/view?usp=sharing\n",
        "download('1EY28_qJTSq8e0JHEfbeADPSkFCp2kV-T') #https://drive.google.com/file/d/1EY28_qJTSq8e0JHEfbeADPSkFCp2kV-T/view?usp=sharing"
      ],
      "metadata": {
        "colab": {
          "base_uri": "https://localhost:8080/"
        },
        "id": "lY9hdW2SFXd1",
        "outputId": "1b489d24-1dc0-4ed3-af41-4a5f85a5721a"
      },
      "execution_count": 94,
      "outputs": [
        {
          "output_type": "stream",
          "name": "stderr",
          "text": [
            "Downloading...\n",
            "From: https://drive.google.com/uc?id=1uQnV90A0SAFT1KxwjjUOBX4W9zkbZ-Vd\n",
            "To: /content/products_final.csv\n",
            "100%|██████████| 37.2k/37.2k [00:00<00:00, 35.0MB/s]\n",
            "Downloading...\n",
            "From: https://drive.google.com/uc?id=1RII2akbU72zngbRdUpFGIakxcmRoqTPN\n",
            "To: /content/Meteorologia.csv\n",
            "100%|██████████| 21.8M/21.8M [00:00<00:00, 68.3MB/s]\n",
            "Downloading...\n",
            "From: https://drive.google.com/uc?id=1EY28_qJTSq8e0JHEfbeADPSkFCp2kV-T\n",
            "To: /content/umidade.csv\n",
            "100%|██████████| 1.32k/1.32k [00:00<00:00, 2.47MB/s]\n"
          ]
        }
      ]
    },
    {
      "cell_type": "code",
      "source": [
        "df_products = pd.read_csv(\"/content/products_final.csv\")\n",
        "df_met = pd.read_csv(\"/content/Meteorologia.csv\")\n",
        "df_umidade = pd.read_csv(\"/content/umidade.csv\")"
      ],
      "metadata": {
        "id": "Wshwq3z7Ge8N"
      },
      "execution_count": 95,
      "outputs": []
    },
    {
      "cell_type": "markdown",
      "source": [
        "We start treating the new product data to our main dataframe."
      ],
      "metadata": {
        "id": "PJy42iCr2jpu"
      }
    },
    {
      "cell_type": "code",
      "source": [
        "# droping unnecessary fields.\n",
        "del df_products['Quantidade produzida (mil frutos)']\n",
        "del df_products['Rendimento médio da produção (mil frutos por Hectare)']\n",
        "del df_products[\"index\"]"
      ],
      "metadata": {
        "id": "Eub6xVlnHWxN"
      },
      "execution_count": 17,
      "outputs": []
    },
    {
      "cell_type": "markdown",
      "source": [
        "Next, we create a dictionary to unite the main dataframe product types (from Bain) with the new product data."
      ],
      "metadata": {
        "id": "eQo3PjUi2wou"
      }
    },
    {
      "cell_type": "code",
      "source": [
        "di = {\"Arroz\": \"Rice\", \"Cacau\": \"Cocoa\", \"Soja\": \"Soy\",\"Feijão\":\"Beans\",\"Coco\":\"Others\",\"Mandioca\":\"Cassava\",\"Milho\":\"Corn\",\"Maracujá\":\"Others\" ,\"Café\":\"Others\", \"Borracha\":\"Others\" ,\"Mamão\":\"Others\", \"Limão\":\"Others\", \"Algodão arbóreo\":\"Others\", \"Algodão herbáceo\":\"Others\" ,\"Sorgo\":\"Sorghum\",\"Cacau\":\"Cocoa\",\"Dendê\":\"Palm oil\",\"Açaí\":\"Açaí\",\"Outros\":\"Others\"}\n",
        "df_products['Produto'].replace(di, inplace=True)"
      ],
      "metadata": {
        "id": "7Fd9cFeTNbXZ"
      },
      "execution_count": 18,
      "outputs": []
    },
    {
      "cell_type": "code",
      "source": [
        "df_products = df_products[df_products['Produto'] != \"Others\"]\n",
        "df_products['Produto'].value_counts()"
      ],
      "metadata": {
        "colab": {
          "base_uri": "https://localhost:8080/"
        },
        "id": "xagaOL_1OK2Y",
        "outputId": "4d76ab69-cdea-4176-8678-4b94c9385abe"
      },
      "execution_count": 19,
      "outputs": [
        {
          "output_type": "execute_result",
          "data": {
            "text/plain": [
              "Rice        20\n",
              "Cocoa       20\n",
              "Palm oil    20\n",
              "Beans       20\n",
              "Cassava     20\n",
              "Corn        20\n",
              "Soy         20\n",
              "Sorghum     20\n",
              "Açaí         6\n",
              "Name: Produto, dtype: int64"
            ]
          },
          "metadata": {},
          "execution_count": 19
        }
      ]
    },
    {
      "cell_type": "code",
      "source": [
        "index = []\n",
        "x,y = df_met.shape\n",
        "\n",
        "for i in range(0,x,1):\n",
        "  index.append(i)\n",
        "\n",
        "df_met.insert(0, \"Unnamed: 0\", index, allow_duplicates = False)"
      ],
      "metadata": {
        "id": "PzxblX4TLVZY"
      },
      "execution_count": 20,
      "outputs": []
    },
    {
      "cell_type": "markdown",
      "source": [
        "Here, we merge both meteorology and Bain dataframes by the year fileds. For such, we will first create a year column, and then merge."
      ],
      "metadata": {
        "id": "FOWnvxi430r9"
      }
    },
    {
      "cell_type": "code",
      "source": [
        "df_met['date'] = pd.to_datetime(df_met['DATA..YYYY.MM.DD.'],format= \"%Y/%m/%d\")\n",
        "df_met['DATA..YYYY.MM.DD.'] = pd.DatetimeIndex(df_met['date']).year\n",
        "df_met.rename(columns = {'DATA..YYYY.MM.DD.':'Ano'}, inplace = True)"
      ],
      "metadata": {
        "id": "tXCdwwirWAk6"
      },
      "execution_count": 21,
      "outputs": []
    },
    {
      "cell_type": "code",
      "source": [
        "df_met = df_met.replace(-9999.0,np.NaN)\n",
        "df_met = df_met.groupby('Ano', as_index=False).mean()\n",
        "df_met.rename(columns={'Ano':'year'}, inplace=True)"
      ],
      "metadata": {
        "id": "bN7PBUMuh09N"
      },
      "execution_count": 22,
      "outputs": []
    },
    {
      "cell_type": "code",
      "source": [
        "df_merge = df_umidade.merge(df_products,on=\"Ano\",how='left')\n",
        "df_merge.rename(columns={'Ano':'year'}, inplace=True)\n",
        "\n",
        "df_merge = df_merge.merge(df_met, on=\"year\", how='left')\n",
        "df_merge = df_merge.merge(df, on=\"year\", how='left')\n",
        "\n",
        "pred_2018 = df_merge[df_merge['year'] == 2018]\n",
        "pred_2019 = df_merge[df_merge['year'] == 2019]"
      ],
      "metadata": {
        "id": "PxCcTWs68OtM"
      },
      "execution_count": 23,
      "outputs": []
    },
    {
      "cell_type": "markdown",
      "source": [
        "Deleting unnecessary fields, renaming others."
      ],
      "metadata": {
        "id": "5sSKjg4m8Pwd"
      }
    },
    {
      "cell_type": "code",
      "source": [
        "del pred_2018['Unnamed: 0_x']\n",
        "del pred_2018['Unnamed: 0_y']\n",
        "del pred_2018['X']\n",
        "del pred_2018['date']\n",
        "del pred_2018['product']\n",
        "\n",
        "del pred_2019['Unnamed: 0_x']\n",
        "del pred_2019['Unnamed: 0_y']\n",
        "del pred_2019['X']\n",
        "del pred_2019['date']\n",
        "del pred_2019['product']\n",
        "\n",
        "pred_2018 = pred_2018.drop([\"city_code\",\"destinated_area\"], axis=1)\n",
        "pred_2019 = pred_2019.drop([\"city_code\",\"destinated_area\"], axis=1)\n",
        "pred_2018.rename(columns={'Produto':'product'}, inplace=True)\n",
        "pred_2019.rename(columns={'Produto':'product'}, inplace=True)"
      ],
      "metadata": {
        "id": "PQENADzrUAaw"
      },
      "execution_count": 24,
      "outputs": []
    },
    {
      "cell_type": "markdown",
      "source": [
        "Adding the products witch is not in our dataset."
      ],
      "metadata": {
        "id": "FUs8tQhOZu0E"
      }
    },
    {
      "cell_type": "code",
      "source": [
        "df.groupby(\"product\")[\"product_type\"].unique()"
      ],
      "metadata": {
        "colab": {
          "base_uri": "https://localhost:8080/"
        },
        "id": "9hLmB1X5fqAF",
        "outputId": "dd38b4bc-6c9e-4979-e1b3-b2bed96437e3"
      },
      "execution_count": 25,
      "outputs": [
        {
          "output_type": "execute_result",
          "data": {
            "text/plain": [
              "product\n",
              "Açaí                    [permanent]\n",
              "Beans                   [temporary]\n",
              "Cassava                 [temporary]\n",
              "Cocoa                   [permanent]\n",
              "Corn                    [temporary]\n",
              "Livestock                 [pasture]\n",
              "Others       [temporary, permanent]\n",
              "Palm oil                [permanent]\n",
              "Rice                    [temporary]\n",
              "Sorghum                 [temporary]\n",
              "Soy                     [temporary]\n",
              "Name: product_type, dtype: object"
            ]
          },
          "metadata": {},
          "execution_count": 25
        }
      ]
    },
    {
      "cell_type": "code",
      "source": [
        "#2018\n",
        "new_others = pd.Series(data={\"product\":\"Others\", \"product_type\":\"temporary\"}, name='10')\n",
        "new_livestock = pd.Series(data={\"product\":\"Livestock\", \"product_type\":\"pasture\"}, name='11')\n",
        "\n",
        "pred_2018 = pred_2018.append(new_others, ignore_index=True)\n",
        "pred_2018 = pred_2018.append(new_livestock, ignore_index=True)\n",
        "\n",
        "\n",
        "#2019\n",
        "new_others = pd.Series(data={\"product\":\"Others\", \"product_type\":\"temporary\"}, name='10')\n",
        "new_livestock = pd.Series(data={\"product\":\"Livestock\", \"product_type\":\"pasture\"}, name='11')\n",
        "\n",
        "pred_2019 = pred_2019.append(new_others, ignore_index=True)\n",
        "pred_2019 = pred_2019.append(new_livestock, ignore_index=True)"
      ],
      "metadata": {
        "id": "AlaYx2lpXO1U"
      },
      "execution_count": 26,
      "outputs": []
    },
    {
      "cell_type": "code",
      "source": [
        "pred_2018.fillna(pred_2018.mean(), inplace=True)\n",
        "pred_2019.fillna(pred_2019.mean(), inplace=True)"
      ],
      "metadata": {
        "colab": {
          "base_uri": "https://localhost:8080/"
        },
        "id": "wGpNUak1ljuF",
        "outputId": "2caaf003-fc83-4e24-f76c-ad6abd53cf57"
      },
      "execution_count": 27,
      "outputs": [
        {
          "output_type": "stream",
          "name": "stderr",
          "text": [
            "/usr/local/lib/python3.7/dist-packages/ipykernel_launcher.py:1: FutureWarning: Dropping of nuisance columns in DataFrame reductions (with 'numeric_only=None') is deprecated; in a future version this will raise TypeError.  Select only valid columns before calling the reduction.\n",
            "  \"\"\"Entry point for launching an IPython kernel.\n",
            "/usr/local/lib/python3.7/dist-packages/ipykernel_launcher.py:2: FutureWarning: Dropping of nuisance columns in DataFrame reductions (with 'numeric_only=None') is deprecated; in a future version this will raise TypeError.  Select only valid columns before calling the reduction.\n",
            "  \n"
          ]
        }
      ]
    },
    {
      "cell_type": "markdown",
      "source": [
        "Merging original dataframe with aditional datasets"
      ],
      "metadata": {
        "id": "Scj5et01cKLh"
      }
    },
    {
      "cell_type": "code",
      "source": [
        "df_products.rename(columns={'Ano':'year', 'Produto':'product'}, inplace=True)"
      ],
      "metadata": {
        "id": "ri8LDcFhcmCS"
      },
      "execution_count": 28,
      "outputs": []
    },
    {
      "cell_type": "code",
      "source": [
        "df_with_products = df.merge(df_products, on=[\"year\",\"product\"], how=\"left\")"
      ],
      "metadata": {
        "id": "0hXrWIggcSXo"
      },
      "execution_count": 29,
      "outputs": []
    },
    {
      "cell_type": "code",
      "source": [
        "df_total = df_with_products.merge(df_met, on=\"year\", how=\"left\")"
      ],
      "metadata": {
        "id": "rLvOcOjfdR5Y"
      },
      "execution_count": 30,
      "outputs": []
    },
    {
      "cell_type": "code",
      "source": [
        "del df_total['Unnamed: 0_x']\n",
        "del df_total['Unnamed: 0_y']\n",
        "del df_total['X']\n",
        "del df_total['date']"
      ],
      "metadata": {
        "id": "BCZBa38pIQ5g"
      },
      "execution_count": 31,
      "outputs": []
    },
    {
      "cell_type": "code",
      "source": [
        "from sklearn.preprocessing import OneHotEncoder\n",
        "\n",
        "encoder = OneHotEncoder(handle_unknown='ignore')\n",
        "\n",
        "#perform one-hot encoding on 'team' column \n",
        "encoder_df = pd.DataFrame(encoder.fit_transform(df_total[['product', \"product_type\"]]).toarray())\n",
        "\n",
        "#merge one-hot encoded columns back with original DataFrame\n",
        "final_df = df_total.join(encoder_df)\n",
        "\n",
        "final_df"
      ],
      "metadata": {
        "id": "OwmtH78t9DaO",
        "colab": {
          "base_uri": "https://localhost:8080/",
          "height": 574
        },
        "outputId": "496ce371-952c-4940-c4be-56df94c4bc1c"
      },
      "execution_count": 32,
      "outputs": [
        {
          "output_type": "execute_result",
          "data": {
            "text/plain": [
              "       year         city_code product_type    product  destinated_area  \\\n",
              "0      1974  960b4f2c94a2fb2c    temporary     Others           0.0000   \n",
              "1      1974  746cc42bfb8f6b62    temporary     Others           0.0000   \n",
              "2      1974  6cce2bf873870afc    temporary     Others           0.0000   \n",
              "3      1974  4de42e351006a2ae    temporary     Others           0.0000   \n",
              "4      1974  5b6072f8f6d37acc    temporary     Others           0.0000   \n",
              "...     ...               ...          ...        ...              ...   \n",
              "73739  2013  74d75dde6dc4a5ec      pasture  Livestock      150866.5644   \n",
              "73740  2014  74d75dde6dc4a5ec      pasture  Livestock      152446.3960   \n",
              "73741  2015  74d75dde6dc4a5ec      pasture  Livestock      154681.0205   \n",
              "73742  2016  74d75dde6dc4a5ec      pasture  Livestock      164706.2778   \n",
              "73743  2017  74d75dde6dc4a5ec      pasture  Livestock      165220.8728   \n",
              "\n",
              "       Quantidade produzida (Toneladas)  \\\n",
              "0                                   NaN   \n",
              "1                                   NaN   \n",
              "2                                   NaN   \n",
              "3                                   NaN   \n",
              "4                                   NaN   \n",
              "...                                 ...   \n",
              "73739                               NaN   \n",
              "73740                               NaN   \n",
              "73741                               NaN   \n",
              "73742                               NaN   \n",
              "73743                               NaN   \n",
              "\n",
              "       Rendimento médio da produção (Quilogramas por Hectare)  \\\n",
              "0                                                    NaN        \n",
              "1                                                    NaN        \n",
              "2                                                    NaN        \n",
              "3                                                    NaN        \n",
              "4                                                    NaN        \n",
              "...                                                  ...        \n",
              "73739                                                NaN        \n",
              "73740                                                NaN        \n",
              "73741                                                NaN        \n",
              "73742                                                NaN        \n",
              "73743                                                NaN        \n",
              "\n",
              "       Valor da produção (Mil Reais)  Área colhida (Hectares)  \\\n",
              "0                                NaN                      NaN   \n",
              "1                                NaN                      NaN   \n",
              "2                                NaN                      NaN   \n",
              "3                                NaN                      NaN   \n",
              "4                                NaN                      NaN   \n",
              "...                              ...                      ...   \n",
              "73739                            NaN                      NaN   \n",
              "73740                            NaN                      NaN   \n",
              "73741                            NaN                      NaN   \n",
              "73742                            NaN                      NaN   \n",
              "73743                            NaN                      NaN   \n",
              "\n",
              "       Área plantada ou destinada à colheita (Hectares)  ...    4    5    6  \\\n",
              "0                                                   NaN  ...  0.0  0.0  1.0   \n",
              "1                                                   NaN  ...  0.0  0.0  1.0   \n",
              "2                                                   NaN  ...  0.0  0.0  1.0   \n",
              "3                                                   NaN  ...  0.0  0.0  1.0   \n",
              "4                                                   NaN  ...  0.0  0.0  1.0   \n",
              "...                                                 ...  ...  ...  ...  ...   \n",
              "73739                                               NaN  ...  0.0  1.0  0.0   \n",
              "73740                                               NaN  ...  0.0  1.0  0.0   \n",
              "73741                                               NaN  ...  0.0  1.0  0.0   \n",
              "73742                                               NaN  ...  0.0  1.0  0.0   \n",
              "73743                                               NaN  ...  0.0  1.0  0.0   \n",
              "\n",
              "         7    8    9   10   11   12   13  \n",
              "0      0.0  0.0  0.0  0.0  0.0  0.0  1.0  \n",
              "1      0.0  0.0  0.0  0.0  0.0  0.0  1.0  \n",
              "2      0.0  0.0  0.0  0.0  0.0  0.0  1.0  \n",
              "3      0.0  0.0  0.0  0.0  0.0  0.0  1.0  \n",
              "4      0.0  0.0  0.0  0.0  0.0  0.0  1.0  \n",
              "...    ...  ...  ...  ...  ...  ...  ...  \n",
              "73739  0.0  0.0  0.0  0.0  1.0  0.0  0.0  \n",
              "73740  0.0  0.0  0.0  0.0  1.0  0.0  0.0  \n",
              "73741  0.0  0.0  0.0  0.0  1.0  0.0  0.0  \n",
              "73742  0.0  0.0  0.0  0.0  1.0  0.0  0.0  \n",
              "73743  0.0  0.0  0.0  0.0  1.0  0.0  0.0  \n",
              "\n",
              "[73744 rows x 41 columns]"
            ],
            "text/html": [
              "\n",
              "  <div id=\"df-9c24d642-e3a3-41fd-8ed1-72e35a74e428\">\n",
              "    <div class=\"colab-df-container\">\n",
              "      <div>\n",
              "<style scoped>\n",
              "    .dataframe tbody tr th:only-of-type {\n",
              "        vertical-align: middle;\n",
              "    }\n",
              "\n",
              "    .dataframe tbody tr th {\n",
              "        vertical-align: top;\n",
              "    }\n",
              "\n",
              "    .dataframe thead th {\n",
              "        text-align: right;\n",
              "    }\n",
              "</style>\n",
              "<table border=\"1\" class=\"dataframe\">\n",
              "  <thead>\n",
              "    <tr style=\"text-align: right;\">\n",
              "      <th></th>\n",
              "      <th>year</th>\n",
              "      <th>city_code</th>\n",
              "      <th>product_type</th>\n",
              "      <th>product</th>\n",
              "      <th>destinated_area</th>\n",
              "      <th>Quantidade produzida (Toneladas)</th>\n",
              "      <th>Rendimento médio da produção (Quilogramas por Hectare)</th>\n",
              "      <th>Valor da produção (Mil Reais)</th>\n",
              "      <th>Área colhida (Hectares)</th>\n",
              "      <th>Área plantada ou destinada à colheita (Hectares)</th>\n",
              "      <th>...</th>\n",
              "      <th>4</th>\n",
              "      <th>5</th>\n",
              "      <th>6</th>\n",
              "      <th>7</th>\n",
              "      <th>8</th>\n",
              "      <th>9</th>\n",
              "      <th>10</th>\n",
              "      <th>11</th>\n",
              "      <th>12</th>\n",
              "      <th>13</th>\n",
              "    </tr>\n",
              "  </thead>\n",
              "  <tbody>\n",
              "    <tr>\n",
              "      <th>0</th>\n",
              "      <td>1974</td>\n",
              "      <td>960b4f2c94a2fb2c</td>\n",
              "      <td>temporary</td>\n",
              "      <td>Others</td>\n",
              "      <td>0.0000</td>\n",
              "      <td>NaN</td>\n",
              "      <td>NaN</td>\n",
              "      <td>NaN</td>\n",
              "      <td>NaN</td>\n",
              "      <td>NaN</td>\n",
              "      <td>...</td>\n",
              "      <td>0.0</td>\n",
              "      <td>0.0</td>\n",
              "      <td>1.0</td>\n",
              "      <td>0.0</td>\n",
              "      <td>0.0</td>\n",
              "      <td>0.0</td>\n",
              "      <td>0.0</td>\n",
              "      <td>0.0</td>\n",
              "      <td>0.0</td>\n",
              "      <td>1.0</td>\n",
              "    </tr>\n",
              "    <tr>\n",
              "      <th>1</th>\n",
              "      <td>1974</td>\n",
              "      <td>746cc42bfb8f6b62</td>\n",
              "      <td>temporary</td>\n",
              "      <td>Others</td>\n",
              "      <td>0.0000</td>\n",
              "      <td>NaN</td>\n",
              "      <td>NaN</td>\n",
              "      <td>NaN</td>\n",
              "      <td>NaN</td>\n",
              "      <td>NaN</td>\n",
              "      <td>...</td>\n",
              "      <td>0.0</td>\n",
              "      <td>0.0</td>\n",
              "      <td>1.0</td>\n",
              "      <td>0.0</td>\n",
              "      <td>0.0</td>\n",
              "      <td>0.0</td>\n",
              "      <td>0.0</td>\n",
              "      <td>0.0</td>\n",
              "      <td>0.0</td>\n",
              "      <td>1.0</td>\n",
              "    </tr>\n",
              "    <tr>\n",
              "      <th>2</th>\n",
              "      <td>1974</td>\n",
              "      <td>6cce2bf873870afc</td>\n",
              "      <td>temporary</td>\n",
              "      <td>Others</td>\n",
              "      <td>0.0000</td>\n",
              "      <td>NaN</td>\n",
              "      <td>NaN</td>\n",
              "      <td>NaN</td>\n",
              "      <td>NaN</td>\n",
              "      <td>NaN</td>\n",
              "      <td>...</td>\n",
              "      <td>0.0</td>\n",
              "      <td>0.0</td>\n",
              "      <td>1.0</td>\n",
              "      <td>0.0</td>\n",
              "      <td>0.0</td>\n",
              "      <td>0.0</td>\n",
              "      <td>0.0</td>\n",
              "      <td>0.0</td>\n",
              "      <td>0.0</td>\n",
              "      <td>1.0</td>\n",
              "    </tr>\n",
              "    <tr>\n",
              "      <th>3</th>\n",
              "      <td>1974</td>\n",
              "      <td>4de42e351006a2ae</td>\n",
              "      <td>temporary</td>\n",
              "      <td>Others</td>\n",
              "      <td>0.0000</td>\n",
              "      <td>NaN</td>\n",
              "      <td>NaN</td>\n",
              "      <td>NaN</td>\n",
              "      <td>NaN</td>\n",
              "      <td>NaN</td>\n",
              "      <td>...</td>\n",
              "      <td>0.0</td>\n",
              "      <td>0.0</td>\n",
              "      <td>1.0</td>\n",
              "      <td>0.0</td>\n",
              "      <td>0.0</td>\n",
              "      <td>0.0</td>\n",
              "      <td>0.0</td>\n",
              "      <td>0.0</td>\n",
              "      <td>0.0</td>\n",
              "      <td>1.0</td>\n",
              "    </tr>\n",
              "    <tr>\n",
              "      <th>4</th>\n",
              "      <td>1974</td>\n",
              "      <td>5b6072f8f6d37acc</td>\n",
              "      <td>temporary</td>\n",
              "      <td>Others</td>\n",
              "      <td>0.0000</td>\n",
              "      <td>NaN</td>\n",
              "      <td>NaN</td>\n",
              "      <td>NaN</td>\n",
              "      <td>NaN</td>\n",
              "      <td>NaN</td>\n",
              "      <td>...</td>\n",
              "      <td>0.0</td>\n",
              "      <td>0.0</td>\n",
              "      <td>1.0</td>\n",
              "      <td>0.0</td>\n",
              "      <td>0.0</td>\n",
              "      <td>0.0</td>\n",
              "      <td>0.0</td>\n",
              "      <td>0.0</td>\n",
              "      <td>0.0</td>\n",
              "      <td>1.0</td>\n",
              "    </tr>\n",
              "    <tr>\n",
              "      <th>...</th>\n",
              "      <td>...</td>\n",
              "      <td>...</td>\n",
              "      <td>...</td>\n",
              "      <td>...</td>\n",
              "      <td>...</td>\n",
              "      <td>...</td>\n",
              "      <td>...</td>\n",
              "      <td>...</td>\n",
              "      <td>...</td>\n",
              "      <td>...</td>\n",
              "      <td>...</td>\n",
              "      <td>...</td>\n",
              "      <td>...</td>\n",
              "      <td>...</td>\n",
              "      <td>...</td>\n",
              "      <td>...</td>\n",
              "      <td>...</td>\n",
              "      <td>...</td>\n",
              "      <td>...</td>\n",
              "      <td>...</td>\n",
              "      <td>...</td>\n",
              "    </tr>\n",
              "    <tr>\n",
              "      <th>73739</th>\n",
              "      <td>2013</td>\n",
              "      <td>74d75dde6dc4a5ec</td>\n",
              "      <td>pasture</td>\n",
              "      <td>Livestock</td>\n",
              "      <td>150866.5644</td>\n",
              "      <td>NaN</td>\n",
              "      <td>NaN</td>\n",
              "      <td>NaN</td>\n",
              "      <td>NaN</td>\n",
              "      <td>NaN</td>\n",
              "      <td>...</td>\n",
              "      <td>0.0</td>\n",
              "      <td>1.0</td>\n",
              "      <td>0.0</td>\n",
              "      <td>0.0</td>\n",
              "      <td>0.0</td>\n",
              "      <td>0.0</td>\n",
              "      <td>0.0</td>\n",
              "      <td>1.0</td>\n",
              "      <td>0.0</td>\n",
              "      <td>0.0</td>\n",
              "    </tr>\n",
              "    <tr>\n",
              "      <th>73740</th>\n",
              "      <td>2014</td>\n",
              "      <td>74d75dde6dc4a5ec</td>\n",
              "      <td>pasture</td>\n",
              "      <td>Livestock</td>\n",
              "      <td>152446.3960</td>\n",
              "      <td>NaN</td>\n",
              "      <td>NaN</td>\n",
              "      <td>NaN</td>\n",
              "      <td>NaN</td>\n",
              "      <td>NaN</td>\n",
              "      <td>...</td>\n",
              "      <td>0.0</td>\n",
              "      <td>1.0</td>\n",
              "      <td>0.0</td>\n",
              "      <td>0.0</td>\n",
              "      <td>0.0</td>\n",
              "      <td>0.0</td>\n",
              "      <td>0.0</td>\n",
              "      <td>1.0</td>\n",
              "      <td>0.0</td>\n",
              "      <td>0.0</td>\n",
              "    </tr>\n",
              "    <tr>\n",
              "      <th>73741</th>\n",
              "      <td>2015</td>\n",
              "      <td>74d75dde6dc4a5ec</td>\n",
              "      <td>pasture</td>\n",
              "      <td>Livestock</td>\n",
              "      <td>154681.0205</td>\n",
              "      <td>NaN</td>\n",
              "      <td>NaN</td>\n",
              "      <td>NaN</td>\n",
              "      <td>NaN</td>\n",
              "      <td>NaN</td>\n",
              "      <td>...</td>\n",
              "      <td>0.0</td>\n",
              "      <td>1.0</td>\n",
              "      <td>0.0</td>\n",
              "      <td>0.0</td>\n",
              "      <td>0.0</td>\n",
              "      <td>0.0</td>\n",
              "      <td>0.0</td>\n",
              "      <td>1.0</td>\n",
              "      <td>0.0</td>\n",
              "      <td>0.0</td>\n",
              "    </tr>\n",
              "    <tr>\n",
              "      <th>73742</th>\n",
              "      <td>2016</td>\n",
              "      <td>74d75dde6dc4a5ec</td>\n",
              "      <td>pasture</td>\n",
              "      <td>Livestock</td>\n",
              "      <td>164706.2778</td>\n",
              "      <td>NaN</td>\n",
              "      <td>NaN</td>\n",
              "      <td>NaN</td>\n",
              "      <td>NaN</td>\n",
              "      <td>NaN</td>\n",
              "      <td>...</td>\n",
              "      <td>0.0</td>\n",
              "      <td>1.0</td>\n",
              "      <td>0.0</td>\n",
              "      <td>0.0</td>\n",
              "      <td>0.0</td>\n",
              "      <td>0.0</td>\n",
              "      <td>0.0</td>\n",
              "      <td>1.0</td>\n",
              "      <td>0.0</td>\n",
              "      <td>0.0</td>\n",
              "    </tr>\n",
              "    <tr>\n",
              "      <th>73743</th>\n",
              "      <td>2017</td>\n",
              "      <td>74d75dde6dc4a5ec</td>\n",
              "      <td>pasture</td>\n",
              "      <td>Livestock</td>\n",
              "      <td>165220.8728</td>\n",
              "      <td>NaN</td>\n",
              "      <td>NaN</td>\n",
              "      <td>NaN</td>\n",
              "      <td>NaN</td>\n",
              "      <td>NaN</td>\n",
              "      <td>...</td>\n",
              "      <td>0.0</td>\n",
              "      <td>1.0</td>\n",
              "      <td>0.0</td>\n",
              "      <td>0.0</td>\n",
              "      <td>0.0</td>\n",
              "      <td>0.0</td>\n",
              "      <td>0.0</td>\n",
              "      <td>1.0</td>\n",
              "      <td>0.0</td>\n",
              "      <td>0.0</td>\n",
              "    </tr>\n",
              "  </tbody>\n",
              "</table>\n",
              "<p>73744 rows × 41 columns</p>\n",
              "</div>\n",
              "      <button class=\"colab-df-convert\" onclick=\"convertToInteractive('df-9c24d642-e3a3-41fd-8ed1-72e35a74e428')\"\n",
              "              title=\"Convert this dataframe to an interactive table.\"\n",
              "              style=\"display:none;\">\n",
              "        \n",
              "  <svg xmlns=\"http://www.w3.org/2000/svg\" height=\"24px\"viewBox=\"0 0 24 24\"\n",
              "       width=\"24px\">\n",
              "    <path d=\"M0 0h24v24H0V0z\" fill=\"none\"/>\n",
              "    <path d=\"M18.56 5.44l.94 2.06.94-2.06 2.06-.94-2.06-.94-.94-2.06-.94 2.06-2.06.94zm-11 1L8.5 8.5l.94-2.06 2.06-.94-2.06-.94L8.5 2.5l-.94 2.06-2.06.94zm10 10l.94 2.06.94-2.06 2.06-.94-2.06-.94-.94-2.06-.94 2.06-2.06.94z\"/><path d=\"M17.41 7.96l-1.37-1.37c-.4-.4-.92-.59-1.43-.59-.52 0-1.04.2-1.43.59L10.3 9.45l-7.72 7.72c-.78.78-.78 2.05 0 2.83L4 21.41c.39.39.9.59 1.41.59.51 0 1.02-.2 1.41-.59l7.78-7.78 2.81-2.81c.8-.78.8-2.07 0-2.86zM5.41 20L4 18.59l7.72-7.72 1.47 1.35L5.41 20z\"/>\n",
              "  </svg>\n",
              "      </button>\n",
              "      \n",
              "  <style>\n",
              "    .colab-df-container {\n",
              "      display:flex;\n",
              "      flex-wrap:wrap;\n",
              "      gap: 12px;\n",
              "    }\n",
              "\n",
              "    .colab-df-convert {\n",
              "      background-color: #E8F0FE;\n",
              "      border: none;\n",
              "      border-radius: 50%;\n",
              "      cursor: pointer;\n",
              "      display: none;\n",
              "      fill: #1967D2;\n",
              "      height: 32px;\n",
              "      padding: 0 0 0 0;\n",
              "      width: 32px;\n",
              "    }\n",
              "\n",
              "    .colab-df-convert:hover {\n",
              "      background-color: #E2EBFA;\n",
              "      box-shadow: 0px 1px 2px rgba(60, 64, 67, 0.3), 0px 1px 3px 1px rgba(60, 64, 67, 0.15);\n",
              "      fill: #174EA6;\n",
              "    }\n",
              "\n",
              "    [theme=dark] .colab-df-convert {\n",
              "      background-color: #3B4455;\n",
              "      fill: #D2E3FC;\n",
              "    }\n",
              "\n",
              "    [theme=dark] .colab-df-convert:hover {\n",
              "      background-color: #434B5C;\n",
              "      box-shadow: 0px 1px 3px 1px rgba(0, 0, 0, 0.15);\n",
              "      filter: drop-shadow(0px 1px 2px rgba(0, 0, 0, 0.3));\n",
              "      fill: #FFFFFF;\n",
              "    }\n",
              "  </style>\n",
              "\n",
              "      <script>\n",
              "        const buttonEl =\n",
              "          document.querySelector('#df-9c24d642-e3a3-41fd-8ed1-72e35a74e428 button.colab-df-convert');\n",
              "        buttonEl.style.display =\n",
              "          google.colab.kernel.accessAllowed ? 'block' : 'none';\n",
              "\n",
              "        async function convertToInteractive(key) {\n",
              "          const element = document.querySelector('#df-9c24d642-e3a3-41fd-8ed1-72e35a74e428');\n",
              "          const dataTable =\n",
              "            await google.colab.kernel.invokeFunction('convertToInteractive',\n",
              "                                                     [key], {});\n",
              "          if (!dataTable) return;\n",
              "\n",
              "          const docLinkHtml = 'Like what you see? Visit the ' +\n",
              "            '<a target=\"_blank\" href=https://colab.research.google.com/notebooks/data_table.ipynb>data table notebook</a>'\n",
              "            + ' to learn more about interactive tables.';\n",
              "          element.innerHTML = '';\n",
              "          dataTable['output_type'] = 'display_data';\n",
              "          await google.colab.output.renderOutput(dataTable, element);\n",
              "          const docLink = document.createElement('div');\n",
              "          docLink.innerHTML = docLinkHtml;\n",
              "          element.appendChild(docLink);\n",
              "        }\n",
              "      </script>\n",
              "    </div>\n",
              "  </div>\n",
              "  "
            ]
          },
          "metadata": {},
          "execution_count": 32
        }
      ]
    },
    {
      "cell_type": "code",
      "source": [
        "final_df = final_df.rename(columns={13: 'product type: temporary', 12: 'product type: permanent',\n",
        " 11:'product type: pasture',10:'soy', 9:'sorghum', 8:'rice',7:'palm oil', 6:'others',\n",
        "5:'livestock',4:'corn',3:'cocoa', 2:'cassava', 1:'beans',0:'açaí'})"
      ],
      "metadata": {
        "id": "5x-N-282S3gg"
      },
      "execution_count": 33,
      "outputs": []
    },
    {
      "cell_type": "markdown",
      "source": [
        "Here, we will perform One Hot Enconding. One hot encoding can be defined as the essential process of converting the categorical data variables to be provided to machine and deep learning algorithms which in turn improve predictions as well as classification accuracy of a model. Here, we are applying it on \"team\" column."
      ],
      "metadata": {
        "id": "Rhl8xFkHVu23"
      }
    },
    {
      "cell_type": "code",
      "source": [
        "from sklearn.preprocessing import OneHotEncoder\n",
        "\n",
        "encoder = OneHotEncoder(handle_unknown='ignore')\n",
        "\n",
        "#perform one-hot encoding on 'team' column \n",
        "encoder_df = pd.DataFrame(encoder.fit_transform(pred_2018[['product', \"product_type\"]]).toarray())\n",
        "\n",
        "#merge one-hot encoded columns back with original DataFrame\n",
        "pred_2018 = pred_2018.join(encoder_df)\n",
        "\n",
        "encoder_df = pd.DataFrame(encoder.fit_transform(pred_2019[['product', \"product_type\"]]).toarray())\n",
        "pred_2019 = pred_2019.join(encoder_df)"
      ],
      "metadata": {
        "id": "XWTR0fGydY0_"
      },
      "execution_count": 34,
      "outputs": []
    },
    {
      "cell_type": "code",
      "source": [
        "pred_2019 = pred_2019.rename(columns={13: 'product type: temporary', 12: 'product type: permanent',\n",
        " 11:'product type: pasture',10:'soy', 9:'sorghum', 8:'rice',7:'palm oil', 6:'others',\n",
        "5:'livestock',4:'corn',3:'cocoa', 2:'cassava', 1:'beans',0:'açaí'})"
      ],
      "metadata": {
        "id": "Tfui2dF7dqC-"
      },
      "execution_count": 35,
      "outputs": []
    },
    {
      "cell_type": "code",
      "source": [
        "pred_2018 = pred_2018.rename(columns={13: 'product type: temporary', 12: 'product type: permanent',\n",
        " 11:'product type: pasture',10:'soy', 9:'sorghum', 8:'rice',7:'palm oil', 6:'others',\n",
        "5:'livestock',4:'corn',3:'cocoa', 2:'cassava', 1:'beans',0:'açaí'})"
      ],
      "metadata": {
        "id": "XLFih7b6dyC0"
      },
      "execution_count": 36,
      "outputs": []
    },
    {
      "cell_type": "code",
      "source": [
        "df_total = final_df"
      ],
      "metadata": {
        "id": "I-S_oRvu93Dv"
      },
      "execution_count": 37,
      "outputs": []
    },
    {
      "cell_type": "code",
      "source": [
        "# columns = df_total.columns.drop([\"city_code\", \"product_type\", \"product\"])"
      ],
      "metadata": {
        "id": "fwxULW-15ikG"
      },
      "execution_count": 38,
      "outputs": []
    },
    {
      "cell_type": "code",
      "source": [
        "#Removing Nan values\n",
        "df_total = df_total.dropna()"
      ],
      "metadata": {
        "id": "RWsxFz9I27WQ"
      },
      "execution_count": 39,
      "outputs": []
    },
    {
      "cell_type": "code",
      "source": [
        "df_total = df_total[df_total['year'] >= 2000]\n",
        "df_total = df_total[df_total['year'] <= 2017]"
      ],
      "metadata": {
        "id": "Epb9s3G6-Uuw"
      },
      "execution_count": 40,
      "outputs": []
    },
    {
      "cell_type": "markdown",
      "source": [
        "#**4 - Implementing XGBoost**"
      ],
      "metadata": {
        "id": "6Romai4JFTU6"
      }
    },
    {
      "cell_type": "markdown",
      "source": [
        "NVIDIA defines XGBoost as such: \"XGBoost, which stands for Extreme Gradient Boosting, is a scalable, distributed gradient-boosted decision tree (GBDT) machine learning library. It provides parallel tree boosting and is the leading machine learning library for regression, classification, and ranking problems.\"\n",
        "\n",
        "\n",
        "In this section, we will seek to apply XGBoost to our final dataset, which comprises both Bain data and external data that the group sought."
      ],
      "metadata": {
        "id": "c0cTBlXzWVim"
      }
    },
    {
      "cell_type": "markdown",
      "source": [
        "https://debuggercafe.com/a-guide-to-xgboost-in-python/\n",
        "\n",
        "https://xgboost.readthedocs.io/en/stable/python/python_intro.html\n",
        "\n",
        "https://machinelearningmastery.com/data-preparation-gradient-boosting-xgboost-python/\n",
        "\n",
        "https://medium.com/towards-data-science/xgboost-predicting-life-expectancy-with-supervised-learning-1f61e0222f5f"
      ],
      "metadata": {
        "id": "bK-yQYpaVDaS"
      }
    },
    {
      "cell_type": "markdown",
      "source": [
        "We decided to use XGBoost because it gained significant favor in the last few years as a result of winning Kagle competitions on regression and prediction data. "
      ],
      "metadata": {
        "id": "ArzsiXY8YYJB"
      }
    },
    {
      "cell_type": "code",
      "source": [
        "# necessary imports\n",
        "import numpy as np\n",
        "import pandas as pd\n",
        "import xgboost as xgb\n",
        "import matplotlib.pyplot as plt\n",
        "from sklearn.preprocessing import LabelEncoder\n",
        "from sklearn.metrics import accuracy_score\n",
        "from sklearn.model_selection import train_test_split"
      ],
      "metadata": {
        "id": "TW-y8rK_FYrT"
      },
      "execution_count": 41,
      "outputs": []
    },
    {
      "cell_type": "markdown",
      "source": [
        "Here, we are defining all the features that we could use in our algorithm. Although, not all are gonna be used."
      ],
      "metadata": {
        "id": "5jbVpnS1W0M3"
      }
    },
    {
      "cell_type": "code",
      "source": [
        "#rodar todas as features\n",
        "label = df_total[\"destinated_area\"]\n",
        "features = df_total.drop([\"destinated_area\", \"city_code\", \"product_type\", \"product\", \"year\"], axis=1)"
      ],
      "metadata": {
        "id": "3mjjkxLW3-nx"
      },
      "execution_count": 42,
      "outputs": []
    },
    {
      "cell_type": "code",
      "source": [
        "features.columns"
      ],
      "metadata": {
        "colab": {
          "base_uri": "https://localhost:8080/"
        },
        "id": "pIfWzxfXkq0G",
        "outputId": "5812f98e-0a19-4d63-98d6-81cbf34087cd"
      },
      "execution_count": 43,
      "outputs": [
        {
          "output_type": "execute_result",
          "data": {
            "text/plain": [
              "Index(['Quantidade produzida (Toneladas)',\n",
              "       'Rendimento médio da produção (Quilogramas por Hectare)',\n",
              "       'Valor da produção (Mil Reais)', 'Área colhida (Hectares)',\n",
              "       'Área plantada ou destinada à colheita (Hectares)',\n",
              "       'PRECIPITAÇÃO.TOTAL..HORÁRIO..mm.',\n",
              "       'PRESSAO.ATMOSFERICA.AO.NIVEL.DA.ESTACAO..HORARIA..mB.',\n",
              "       'PRESSÃO.ATMOSFERICA.MAX.NA.HORA.ANT...AUT...mB.',\n",
              "       'PRESSÃO.ATMOSFERICA.MIN..NA.HORA.ANT...AUT...mB.',\n",
              "       'RADIACAO.GLOBAL..KJ.m².',\n",
              "       'TEMPERATURA.DO.AR...BULBO.SECO..HORARIA...C.',\n",
              "       'TEMPERATURA.DO.PONTO.DE.ORVALHO...C.',\n",
              "       'TEMPERATURA.MÁXIMA.NA.HORA.ANT...AUT....C.',\n",
              "       'TEMPERATURA.MÍNIMA.NA.HORA.ANT...AUT....C.',\n",
              "       'TEMPERATURA.ORVALHO.MAX..NA.HORA.ANT...AUT....C.',\n",
              "       'TEMPERATURA.ORVALHO.MIN..NA.HORA.ANT...AUT....C.',\n",
              "       'UMIDADE.REL..MAX..NA.HORA.ANT...AUT.....',\n",
              "       'UMIDADE.REL..MIN..NA.HORA.ANT...AUT.....',\n",
              "       'UMIDADE.RELATIVA.DO.AR..HORARIA....',\n",
              "       'VENTO..DIREÇÃO.HORARIA..gr......gr..', 'VENTO..RAJADA.MAXIMA..m.s.',\n",
              "       'VENTO..VELOCIDADE.HORARIA..m.s.', 'açaí', 'beans', 'cassava', 'cocoa',\n",
              "       'corn', 'livestock', 'others', 'palm oil', 'rice', 'sorghum', 'soy',\n",
              "       'product type: pasture', 'product type: permanent',\n",
              "       'product type: temporary'],\n",
              "      dtype='object')"
            ]
          },
          "metadata": {},
          "execution_count": 43
        }
      ]
    },
    {
      "cell_type": "markdown",
      "source": [
        "\n",
        "It is important to sort the features in the same order."
      ],
      "metadata": {
        "id": "gwguCZMZpz6N"
      }
    },
    {
      "cell_type": "code",
      "source": [
        "columns_total  = features.columns\n",
        "pred_2018 = pred_2018.reindex(columns=columns_total)\n",
        "pred_2019 = pred_2019.reindex(columns=columns_total)"
      ],
      "metadata": {
        "id": "Dpd19Q8gabL7"
      },
      "execution_count": 44,
      "outputs": []
    },
    {
      "cell_type": "code",
      "source": [
        "from sklearn import preprocessing\n",
        "\n",
        "min_max_scaler = preprocessing.MinMaxScaler()\n",
        "\n",
        "from sklearn.preprocessing import StandardScaler\n",
        "scaler = StandardScaler()"
      ],
      "metadata": {
        "id": "dbzg-U2V4_Lv"
      },
      "execution_count": 45,
      "outputs": []
    },
    {
      "cell_type": "code",
      "source": [
        "df_scaler = scaler.fit_transform(features)"
      ],
      "metadata": {
        "id": "1lkUR7L45BGp"
      },
      "execution_count": 46,
      "outputs": []
    },
    {
      "cell_type": "code",
      "source": [
        "df_scaler = pd.DataFrame(df_scaler, columns= columns_total)"
      ],
      "metadata": {
        "id": "EXrb2mKd5WBL"
      },
      "execution_count": 47,
      "outputs": []
    },
    {
      "cell_type": "code",
      "source": [
        "x_train, x_test, y_train, y_test = train_test_split(df_scaler, label, random_state=42, test_size=0.2)"
      ],
      "metadata": {
        "id": "Cx7Av8ji35Ng"
      },
      "execution_count": 48,
      "outputs": []
    },
    {
      "cell_type": "markdown",
      "source": [
        "Below is the selection of the features that presents better fit to the results that we want. For that, it is good to plot the correlation of the features. Although, we assume that the readers are a little familirized with this type of algorithm. "
      ],
      "metadata": {
        "id": "bmD0QQu9q-gy"
      }
    },
    {
      "cell_type": "code",
      "source": [
        "#Correlação\n",
        "corrmat = df_total.corr()\n",
        "top_corr_features = corrmat.index\n",
        "plt.figure(figsize=(20,20))\n",
        "\n",
        "#plot heat map\n",
        "g=sns.heatmap(df_total[top_corr_features].corr(), annot=True, cmap=\"RdYlGn\")"
      ],
      "metadata": {
        "id": "Xf8cvPznnN_U",
        "colab": {
          "base_uri": "https://localhost:8080/",
          "height": 1000
        },
        "outputId": "8a795700-e90d-4857-8266-01f02f0ca437"
      },
      "execution_count": 49,
      "outputs": [
        {
          "output_type": "display_data",
          "data": {
            "text/plain": [
              "<Figure size 1440x1440 with 2 Axes>"
            ],
            "image/png": "[encoded data removed]"
          },
          "metadata": {
            "needs_background": "light"
          }
        }
      ]
    },
    {
      "cell_type": "markdown",
      "source": [
        "Below, we are applying XGBoost with 10.000 estimators, a learning rate of 10% and 4 jobs."
      ],
      "metadata": {
        "id": "UWkx5poKX6TU"
      }
    },
    {
      "cell_type": "code",
      "source": [
        "xgbr = xgb.XGBRegressor(n_estimators=10000, learning_rate = 0.1, n_jobs=4)"
      ],
      "metadata": {
        "id": "UMrI3mQM4ef6"
      },
      "execution_count": 50,
      "outputs": []
    },
    {
      "cell_type": "code",
      "source": [
        "xgbr.fit(x_train, y_train, early_stopping_rounds=5,eval_set=[(x_test, y_test)], verbose=False)"
      ],
      "metadata": {
        "id": "vGInQGMB4zwz",
        "colab": {
          "base_uri": "https://localhost:8080/"
        },
        "outputId": "5839a4de-082c-4e26-e5b3-152177b18dba"
      },
      "execution_count": 51,
      "outputs": [
        {
          "output_type": "stream",
          "name": "stdout",
          "text": [
            "[02:06:10] WARNING: /workspace/src/objective/regression_obj.cu:152: reg:linear is now deprecated in favor of reg:squarederror.\n"
          ]
        },
        {
          "output_type": "execute_result",
          "data": {
            "text/plain": [
              "XGBRegressor(n_estimators=10000, n_jobs=4)"
            ]
          },
          "metadata": {},
          "execution_count": 51
        }
      ]
    },
    {
      "cell_type": "markdown",
      "source": [
        "The training score obtained is presented below."
      ],
      "metadata": {
        "id": "smo7UfvFZa-K"
      }
    },
    {
      "cell_type": "code",
      "source": [
        "score = xgbr.score(x_train, y_train)  \n",
        "print(\"Training score: \", score)"
      ],
      "metadata": {
        "id": "mMhN182M41NX",
        "colab": {
          "base_uri": "https://localhost:8080/"
        },
        "outputId": "4a438717-6106-4bdd-9dd8-faf5fdd2d6c5"
      },
      "execution_count": 52,
      "outputs": [
        {
          "output_type": "stream",
          "name": "stdout",
          "text": [
            "Training score:  0.4683287551454629\n"
          ]
        }
      ]
    },
    {
      "cell_type": "code",
      "source": [
        "from sklearn.metrics import mean_squared_error"
      ],
      "metadata": {
        "id": "du_VDfLP54vs"
      },
      "execution_count": 53,
      "outputs": []
    },
    {
      "cell_type": "markdown",
      "source": [
        "It is also important to measure the obtained error. It is presented below."
      ],
      "metadata": {
        "id": "M_8GdDF4Zl8G"
      }
    },
    {
      "cell_type": "code",
      "source": [
        "y_pred = xgbr.predict(x_test)\n",
        "mse = mean_squared_error(y_test, y_pred)\n",
        "print(\"MSE: %.2f\" % mse)\n",
        "print(\"RMSE: %.2f\" % (mse**(1/2.0)))"
      ],
      "metadata": {
        "id": "SLf8pags5wDJ",
        "colab": {
          "base_uri": "https://localhost:8080/"
        },
        "outputId": "cc48a771-9cfc-4cb3-a31b-d084fb68c394"
      },
      "execution_count": 54,
      "outputs": [
        {
          "output_type": "stream",
          "name": "stdout",
          "text": [
            "MSE: 31322902.38\n",
            "RMSE: 5596.69\n"
          ]
        }
      ]
    },
    {
      "cell_type": "code",
      "source": [
        "y_pred"
      ],
      "metadata": {
        "id": "aMwLtuxceSaF",
        "colab": {
          "base_uri": "https://localhost:8080/"
        },
        "outputId": "6e4fee64-973b-4fdd-b5e3-263f8aa24de6"
      },
      "execution_count": 55,
      "outputs": [
        {
          "output_type": "execute_result",
          "data": {
            "text/plain": [
              "array([14264.338 , 13005.556 ,  3042.0576, ..., 12895.374 , 14158.515 ,\n",
              "        3585.3022], dtype=float32)"
            ]
          },
          "metadata": {},
          "execution_count": 55
        }
      ]
    },
    {
      "cell_type": "code",
      "source": [
        "y_test"
      ],
      "metadata": {
        "id": "Ta1D8SiBeU56",
        "colab": {
          "base_uri": "https://localhost:8080/"
        },
        "outputId": "92f4547d-2af1-45b9-8995-de8ff71abf68"
      },
      "execution_count": 56,
      "outputs": [
        {
          "output_type": "execute_result",
          "data": {
            "text/plain": [
              "37786    14433.918683\n",
              "39921    14433.918683\n",
              "37384      850.000000\n",
              "41362       50.000000\n",
              "51477    14433.918683\n",
              "             ...     \n",
              "35205    14433.918683\n",
              "38392       40.000000\n",
              "42748    14433.918683\n",
              "38776    14433.918683\n",
              "39238     1800.000000\n",
              "Name: destinated_area, Length: 3503, dtype: float64"
            ]
          },
          "metadata": {},
          "execution_count": 56
        }
      ]
    },
    {
      "cell_type": "code",
      "source": [
        "score = xgbr.score(x_test, y_test)  \n",
        "score"
      ],
      "metadata": {
        "id": "WxP_hOIo51az",
        "colab": {
          "base_uri": "https://localhost:8080/"
        },
        "outputId": "939858fb-695f-49ad-e178-a7d773b6a834"
      },
      "execution_count": 57,
      "outputs": [
        {
          "output_type": "execute_result",
          "data": {
            "text/plain": [
              "0.4186641007117572"
            ]
          },
          "metadata": {},
          "execution_count": 57
        }
      ]
    },
    {
      "cell_type": "code",
      "source": [
        "df_scaler.tail()"
      ],
      "metadata": {
        "id": "TygY_23yBtWu",
        "colab": {
          "base_uri": "https://localhost:8080/",
          "height": 386
        },
        "outputId": "fc9eddb4-57a6-4695-8f8e-2db49625b3d7"
      },
      "execution_count": 58,
      "outputs": [
        {
          "output_type": "execute_result",
          "data": {
            "text/plain": [
              "       Quantidade produzida (Toneladas)  \\\n",
              "17509                          0.087054   \n",
              "17510                         -0.571360   \n",
              "17511                         -0.571360   \n",
              "17512                          0.087054   \n",
              "17513                         -0.571360   \n",
              "\n",
              "       Rendimento médio da produção (Quilogramas por Hectare)  \\\n",
              "17509                                          -0.068706        \n",
              "17510                                          -0.520807        \n",
              "17511                                          -0.520807        \n",
              "17512                                          -0.068706        \n",
              "17513                                          -0.520807        \n",
              "\n",
              "       Valor da produção (Mil Reais)  Área colhida (Hectares)  \\\n",
              "17509                      -0.216242                -0.706668   \n",
              "17510                      -0.097686                -0.328355   \n",
              "17511                      -0.097686                -0.328355   \n",
              "17512                      -0.216242                -0.706668   \n",
              "17513                      -0.097686                -0.328355   \n",
              "\n",
              "       Área plantada ou destinada à colheita (Hectares)  \\\n",
              "17509                                         -0.708431   \n",
              "17510                                         -0.330890   \n",
              "17511                                         -0.330890   \n",
              "17512                                         -0.708431   \n",
              "17513                                         -0.330890   \n",
              "\n",
              "       PRECIPITAÇÃO.TOTAL..HORÁRIO..mm.  \\\n",
              "17509                         -0.586434   \n",
              "17510                         -0.586434   \n",
              "17511                         -0.586434   \n",
              "17512                         -0.586434   \n",
              "17513                         -0.586434   \n",
              "\n",
              "       PRESSAO.ATMOSFERICA.AO.NIVEL.DA.ESTACAO..HORARIA..mB.  \\\n",
              "17509                                          -0.124159       \n",
              "17510                                          -0.124159       \n",
              "17511                                          -0.124159       \n",
              "17512                                          -0.124159       \n",
              "17513                                          -0.124159       \n",
              "\n",
              "       PRESSÃO.ATMOSFERICA.MAX.NA.HORA.ANT...AUT...mB.  \\\n",
              "17509                                        -0.158958   \n",
              "17510                                        -0.158958   \n",
              "17511                                        -0.158958   \n",
              "17512                                        -0.158958   \n",
              "17513                                        -0.158958   \n",
              "\n",
              "       PRESSÃO.ATMOSFERICA.MIN..NA.HORA.ANT...AUT...mB.  \\\n",
              "17509                                         -0.145525   \n",
              "17510                                         -0.145525   \n",
              "17511                                         -0.145525   \n",
              "17512                                         -0.145525   \n",
              "17513                                         -0.145525   \n",
              "\n",
              "       RADIACAO.GLOBAL..KJ.m².  ...      corn  livestock  others  palm oil  \\\n",
              "17509                -0.690284  ... -0.373586        0.0     0.0  2.676758   \n",
              "17510                -0.690284  ... -0.373586        0.0     0.0 -0.373586   \n",
              "17511                -0.690284  ... -0.373586        0.0     0.0 -0.373586   \n",
              "17512                -0.690284  ... -0.373586        0.0     0.0  2.676758   \n",
              "17513                -0.690284  ... -0.373586        0.0     0.0 -0.373586   \n",
              "\n",
              "           rice   sorghum       soy  product type: pasture  \\\n",
              "17509 -0.373586 -0.370603 -0.369107                    0.0   \n",
              "17510 -0.373586 -0.370603 -0.369107                    0.0   \n",
              "17511 -0.373586 -0.370603 -0.369107                    0.0   \n",
              "17512 -0.373586 -0.370603 -0.369107                    0.0   \n",
              "17513 -0.373586 -0.370603 -0.369107                    0.0   \n",
              "\n",
              "       product type: permanent  product type: temporary  \n",
              "17509                 1.646627                -1.646627  \n",
              "17510                 1.646627                -1.646627  \n",
              "17511                 1.646627                -1.646627  \n",
              "17512                 1.646627                -1.646627  \n",
              "17513                 1.646627                -1.646627  \n",
              "\n",
              "[5 rows x 36 columns]"
            ],
            "text/html": [
              "\n",
              "  <div id=\"df-99fb828e-48fe-42b5-b432-5ea65536fccf\">\n",
              "    <div class=\"colab-df-container\">\n",
              "      <div>\n",
              "<style scoped>\n",
              "    .dataframe tbody tr th:only-of-type {\n",
              "        vertical-align: middle;\n",
              "    }\n",
              "\n",
              "    .dataframe tbody tr th {\n",
              "        vertical-align: top;\n",
              "    }\n",
              "\n",
              "    .dataframe thead th {\n",
              "        text-align: right;\n",
              "    }\n",
              "</style>\n",
              "<table border=\"1\" class=\"dataframe\">\n",
              "  <thead>\n",
              "    <tr style=\"text-align: right;\">\n",
              "      <th></th>\n",
              "      <th>Quantidade produzida (Toneladas)</th>\n",
              "      <th>Rendimento médio da produção (Quilogramas por Hectare)</th>\n",
              "      <th>Valor da produção (Mil Reais)</th>\n",
              "      <th>Área colhida (Hectares)</th>\n",
              "      <th>Área plantada ou destinada à colheita (Hectares)</th>\n",
              "      <th>PRECIPITAÇÃO.TOTAL..HORÁRIO..mm.</th>\n",
              "      <th>PRESSAO.ATMOSFERICA.AO.NIVEL.DA.ESTACAO..HORARIA..mB.</th>\n",
              "      <th>PRESSÃO.ATMOSFERICA.MAX.NA.HORA.ANT...AUT...mB.</th>\n",
              "      <th>PRESSÃO.ATMOSFERICA.MIN..NA.HORA.ANT...AUT...mB.</th>\n",
              "      <th>RADIACAO.GLOBAL..KJ.m².</th>\n",
              "      <th>...</th>\n",
              "      <th>corn</th>\n",
              "      <th>livestock</th>\n",
              "      <th>others</th>\n",
              "      <th>palm oil</th>\n",
              "      <th>rice</th>\n",
              "      <th>sorghum</th>\n",
              "      <th>soy</th>\n",
              "      <th>product type: pasture</th>\n",
              "      <th>product type: permanent</th>\n",
              "      <th>product type: temporary</th>\n",
              "    </tr>\n",
              "  </thead>\n",
              "  <tbody>\n",
              "    <tr>\n",
              "      <th>17509</th>\n",
              "      <td>0.087054</td>\n",
              "      <td>-0.068706</td>\n",
              "      <td>-0.216242</td>\n",
              "      <td>-0.706668</td>\n",
              "      <td>-0.708431</td>\n",
              "      <td>-0.586434</td>\n",
              "      <td>-0.124159</td>\n",
              "      <td>-0.158958</td>\n",
              "      <td>-0.145525</td>\n",
              "      <td>-0.690284</td>\n",
              "      <td>...</td>\n",
              "      <td>-0.373586</td>\n",
              "      <td>0.0</td>\n",
              "      <td>0.0</td>\n",
              "      <td>2.676758</td>\n",
              "      <td>-0.373586</td>\n",
              "      <td>-0.370603</td>\n",
              "      <td>-0.369107</td>\n",
              "      <td>0.0</td>\n",
              "      <td>1.646627</td>\n",
              "      <td>-1.646627</td>\n",
              "    </tr>\n",
              "    <tr>\n",
              "      <th>17510</th>\n",
              "      <td>-0.571360</td>\n",
              "      <td>-0.520807</td>\n",
              "      <td>-0.097686</td>\n",
              "      <td>-0.328355</td>\n",
              "      <td>-0.330890</td>\n",
              "      <td>-0.586434</td>\n",
              "      <td>-0.124159</td>\n",
              "      <td>-0.158958</td>\n",
              "      <td>-0.145525</td>\n",
              "      <td>-0.690284</td>\n",
              "      <td>...</td>\n",
              "      <td>-0.373586</td>\n",
              "      <td>0.0</td>\n",
              "      <td>0.0</td>\n",
              "      <td>-0.373586</td>\n",
              "      <td>-0.373586</td>\n",
              "      <td>-0.370603</td>\n",
              "      <td>-0.369107</td>\n",
              "      <td>0.0</td>\n",
              "      <td>1.646627</td>\n",
              "      <td>-1.646627</td>\n",
              "    </tr>\n",
              "    <tr>\n",
              "      <th>17511</th>\n",
              "      <td>-0.571360</td>\n",
              "      <td>-0.520807</td>\n",
              "      <td>-0.097686</td>\n",
              "      <td>-0.328355</td>\n",
              "      <td>-0.330890</td>\n",
              "      <td>-0.586434</td>\n",
              "      <td>-0.124159</td>\n",
              "      <td>-0.158958</td>\n",
              "      <td>-0.145525</td>\n",
              "      <td>-0.690284</td>\n",
              "      <td>...</td>\n",
              "      <td>-0.373586</td>\n",
              "      <td>0.0</td>\n",
              "      <td>0.0</td>\n",
              "      <td>-0.373586</td>\n",
              "      <td>-0.373586</td>\n",
              "      <td>-0.370603</td>\n",
              "      <td>-0.369107</td>\n",
              "      <td>0.0</td>\n",
              "      <td>1.646627</td>\n",
              "      <td>-1.646627</td>\n",
              "    </tr>\n",
              "    <tr>\n",
              "      <th>17512</th>\n",
              "      <td>0.087054</td>\n",
              "      <td>-0.068706</td>\n",
              "      <td>-0.216242</td>\n",
              "      <td>-0.706668</td>\n",
              "      <td>-0.708431</td>\n",
              "      <td>-0.586434</td>\n",
              "      <td>-0.124159</td>\n",
              "      <td>-0.158958</td>\n",
              "      <td>-0.145525</td>\n",
              "      <td>-0.690284</td>\n",
              "      <td>...</td>\n",
              "      <td>-0.373586</td>\n",
              "      <td>0.0</td>\n",
              "      <td>0.0</td>\n",
              "      <td>2.676758</td>\n",
              "      <td>-0.373586</td>\n",
              "      <td>-0.370603</td>\n",
              "      <td>-0.369107</td>\n",
              "      <td>0.0</td>\n",
              "      <td>1.646627</td>\n",
              "      <td>-1.646627</td>\n",
              "    </tr>\n",
              "    <tr>\n",
              "      <th>17513</th>\n",
              "      <td>-0.571360</td>\n",
              "      <td>-0.520807</td>\n",
              "      <td>-0.097686</td>\n",
              "      <td>-0.328355</td>\n",
              "      <td>-0.330890</td>\n",
              "      <td>-0.586434</td>\n",
              "      <td>-0.124159</td>\n",
              "      <td>-0.158958</td>\n",
              "      <td>-0.145525</td>\n",
              "      <td>-0.690284</td>\n",
              "      <td>...</td>\n",
              "      <td>-0.373586</td>\n",
              "      <td>0.0</td>\n",
              "      <td>0.0</td>\n",
              "      <td>-0.373586</td>\n",
              "      <td>-0.373586</td>\n",
              "      <td>-0.370603</td>\n",
              "      <td>-0.369107</td>\n",
              "      <td>0.0</td>\n",
              "      <td>1.646627</td>\n",
              "      <td>-1.646627</td>\n",
              "    </tr>\n",
              "  </tbody>\n",
              "</table>\n",
              "<p>5 rows × 36 columns</p>\n",
              "</div>\n",
              "      <button class=\"colab-df-convert\" onclick=\"convertToInteractive('df-99fb828e-48fe-42b5-b432-5ea65536fccf')\"\n",
              "              title=\"Convert this dataframe to an interactive table.\"\n",
              "              style=\"display:none;\">\n",
              "        \n",
              "  <svg xmlns=\"http://www.w3.org/2000/svg\" height=\"24px\"viewBox=\"0 0 24 24\"\n",
              "       width=\"24px\">\n",
              "    <path d=\"M0 0h24v24H0V0z\" fill=\"none\"/>\n",
              "    <path d=\"M18.56 5.44l.94 2.06.94-2.06 2.06-.94-2.06-.94-.94-2.06-.94 2.06-2.06.94zm-11 1L8.5 8.5l.94-2.06 2.06-.94-2.06-.94L8.5 2.5l-.94 2.06-2.06.94zm10 10l.94 2.06.94-2.06 2.06-.94-2.06-.94-.94-2.06-.94 2.06-2.06.94z\"/><path d=\"M17.41 7.96l-1.37-1.37c-.4-.4-.92-.59-1.43-.59-.52 0-1.04.2-1.43.59L10.3 9.45l-7.72 7.72c-.78.78-.78 2.05 0 2.83L4 21.41c.39.39.9.59 1.41.59.51 0 1.02-.2 1.41-.59l7.78-7.78 2.81-2.81c.8-.78.8-2.07 0-2.86zM5.41 20L4 18.59l7.72-7.72 1.47 1.35L5.41 20z\"/>\n",
              "  </svg>\n",
              "      </button>\n",
              "      \n",
              "  <style>\n",
              "    .colab-df-container {\n",
              "      display:flex;\n",
              "      flex-wrap:wrap;\n",
              "      gap: 12px;\n",
              "    }\n",
              "\n",
              "    .colab-df-convert {\n",
              "      background-color: #E8F0FE;\n",
              "      border: none;\n",
              "      border-radius: 50%;\n",
              "      cursor: pointer;\n",
              "      display: none;\n",
              "      fill: #1967D2;\n",
              "      height: 32px;\n",
              "      padding: 0 0 0 0;\n",
              "      width: 32px;\n",
              "    }\n",
              "\n",
              "    .colab-df-convert:hover {\n",
              "      background-color: #E2EBFA;\n",
              "      box-shadow: 0px 1px 2px rgba(60, 64, 67, 0.3), 0px 1px 3px 1px rgba(60, 64, 67, 0.15);\n",
              "      fill: #174EA6;\n",
              "    }\n",
              "\n",
              "    [theme=dark] .colab-df-convert {\n",
              "      background-color: #3B4455;\n",
              "      fill: #D2E3FC;\n",
              "    }\n",
              "\n",
              "    [theme=dark] .colab-df-convert:hover {\n",
              "      background-color: #434B5C;\n",
              "      box-shadow: 0px 1px 3px 1px rgba(0, 0, 0, 0.15);\n",
              "      filter: drop-shadow(0px 1px 2px rgba(0, 0, 0, 0.3));\n",
              "      fill: #FFFFFF;\n",
              "    }\n",
              "  </style>\n",
              "\n",
              "      <script>\n",
              "        const buttonEl =\n",
              "          document.querySelector('#df-99fb828e-48fe-42b5-b432-5ea65536fccf button.colab-df-convert');\n",
              "        buttonEl.style.display =\n",
              "          google.colab.kernel.accessAllowed ? 'block' : 'none';\n",
              "\n",
              "        async function convertToInteractive(key) {\n",
              "          const element = document.querySelector('#df-99fb828e-48fe-42b5-b432-5ea65536fccf');\n",
              "          const dataTable =\n",
              "            await google.colab.kernel.invokeFunction('convertToInteractive',\n",
              "                                                     [key], {});\n",
              "          if (!dataTable) return;\n",
              "\n",
              "          const docLinkHtml = 'Like what you see? Visit the ' +\n",
              "            '<a target=\"_blank\" href=https://colab.research.google.com/notebooks/data_table.ipynb>data table notebook</a>'\n",
              "            + ' to learn more about interactive tables.';\n",
              "          element.innerHTML = '';\n",
              "          dataTable['output_type'] = 'display_data';\n",
              "          await google.colab.output.renderOutput(dataTable, element);\n",
              "          const docLink = document.createElement('div');\n",
              "          docLink.innerHTML = docLinkHtml;\n",
              "          element.appendChild(docLink);\n",
              "        }\n",
              "      </script>\n",
              "    </div>\n",
              "  </div>\n",
              "  "
            ]
          },
          "metadata": {},
          "execution_count": 58
        }
      ]
    },
    {
      "cell_type": "code",
      "source": [
        "# pred_2018 = pred_2018.drop([\"product\", \"year\"], axis=1)\n",
        "# pred_2019 = pred_2019.drop([\"product\", \"year\"], axis=1)\n",
        "pred_2018.columns"
      ],
      "metadata": {
        "id": "ChmNeIo4JN3O",
        "colab": {
          "base_uri": "https://localhost:8080/"
        },
        "outputId": "623ef485-85e6-47fb-899b-ddef625777d0"
      },
      "execution_count": 59,
      "outputs": [
        {
          "output_type": "execute_result",
          "data": {
            "text/plain": [
              "Index(['Quantidade produzida (Toneladas)',\n",
              "       'Rendimento médio da produção (Quilogramas por Hectare)',\n",
              "       'Valor da produção (Mil Reais)', 'Área colhida (Hectares)',\n",
              "       'Área plantada ou destinada à colheita (Hectares)',\n",
              "       'PRECIPITAÇÃO.TOTAL..HORÁRIO..mm.',\n",
              "       'PRESSAO.ATMOSFERICA.AO.NIVEL.DA.ESTACAO..HORARIA..mB.',\n",
              "       'PRESSÃO.ATMOSFERICA.MAX.NA.HORA.ANT...AUT...mB.',\n",
              "       'PRESSÃO.ATMOSFERICA.MIN..NA.HORA.ANT...AUT...mB.',\n",
              "       'RADIACAO.GLOBAL..KJ.m².',\n",
              "       'TEMPERATURA.DO.AR...BULBO.SECO..HORARIA...C.',\n",
              "       'TEMPERATURA.DO.PONTO.DE.ORVALHO...C.',\n",
              "       'TEMPERATURA.MÁXIMA.NA.HORA.ANT...AUT....C.',\n",
              "       'TEMPERATURA.MÍNIMA.NA.HORA.ANT...AUT....C.',\n",
              "       'TEMPERATURA.ORVALHO.MAX..NA.HORA.ANT...AUT....C.',\n",
              "       'TEMPERATURA.ORVALHO.MIN..NA.HORA.ANT...AUT....C.',\n",
              "       'UMIDADE.REL..MAX..NA.HORA.ANT...AUT.....',\n",
              "       'UMIDADE.REL..MIN..NA.HORA.ANT...AUT.....',\n",
              "       'UMIDADE.RELATIVA.DO.AR..HORARIA....',\n",
              "       'VENTO..DIREÇÃO.HORARIA..gr......gr..', 'VENTO..RAJADA.MAXIMA..m.s.',\n",
              "       'VENTO..VELOCIDADE.HORARIA..m.s.', 'açaí', 'beans', 'cassava', 'cocoa',\n",
              "       'corn', 'livestock', 'others', 'palm oil', 'rice', 'sorghum', 'soy',\n",
              "       'product type: pasture', 'product type: permanent',\n",
              "       'product type: temporary'],\n",
              "      dtype='object')"
            ]
          },
          "metadata": {},
          "execution_count": 59
        }
      ]
    },
    {
      "cell_type": "code",
      "source": [
        "pred_2019.columns"
      ],
      "metadata": {
        "id": "DxOh99UcKN5a",
        "colab": {
          "base_uri": "https://localhost:8080/"
        },
        "outputId": "b693daae-1ba8-41f2-eb8c-d4b681625e31"
      },
      "execution_count": 60,
      "outputs": [
        {
          "output_type": "execute_result",
          "data": {
            "text/plain": [
              "Index(['Quantidade produzida (Toneladas)',\n",
              "       'Rendimento médio da produção (Quilogramas por Hectare)',\n",
              "       'Valor da produção (Mil Reais)', 'Área colhida (Hectares)',\n",
              "       'Área plantada ou destinada à colheita (Hectares)',\n",
              "       'PRECIPITAÇÃO.TOTAL..HORÁRIO..mm.',\n",
              "       'PRESSAO.ATMOSFERICA.AO.NIVEL.DA.ESTACAO..HORARIA..mB.',\n",
              "       'PRESSÃO.ATMOSFERICA.MAX.NA.HORA.ANT...AUT...mB.',\n",
              "       'PRESSÃO.ATMOSFERICA.MIN..NA.HORA.ANT...AUT...mB.',\n",
              "       'RADIACAO.GLOBAL..KJ.m².',\n",
              "       'TEMPERATURA.DO.AR...BULBO.SECO..HORARIA...C.',\n",
              "       'TEMPERATURA.DO.PONTO.DE.ORVALHO...C.',\n",
              "       'TEMPERATURA.MÁXIMA.NA.HORA.ANT...AUT....C.',\n",
              "       'TEMPERATURA.MÍNIMA.NA.HORA.ANT...AUT....C.',\n",
              "       'TEMPERATURA.ORVALHO.MAX..NA.HORA.ANT...AUT....C.',\n",
              "       'TEMPERATURA.ORVALHO.MIN..NA.HORA.ANT...AUT....C.',\n",
              "       'UMIDADE.REL..MAX..NA.HORA.ANT...AUT.....',\n",
              "       'UMIDADE.REL..MIN..NA.HORA.ANT...AUT.....',\n",
              "       'UMIDADE.RELATIVA.DO.AR..HORARIA....',\n",
              "       'VENTO..DIREÇÃO.HORARIA..gr......gr..', 'VENTO..RAJADA.MAXIMA..m.s.',\n",
              "       'VENTO..VELOCIDADE.HORARIA..m.s.', 'açaí', 'beans', 'cassava', 'cocoa',\n",
              "       'corn', 'livestock', 'others', 'palm oil', 'rice', 'sorghum', 'soy',\n",
              "       'product type: pasture', 'product type: permanent',\n",
              "       'product type: temporary'],\n",
              "      dtype='object')"
            ]
          },
          "metadata": {},
          "execution_count": 60
        }
      ]
    },
    {
      "cell_type": "code",
      "source": [
        "len(x_train), len(x_test)"
      ],
      "metadata": {
        "colab": {
          "base_uri": "https://localhost:8080/"
        },
        "id": "1kFj_RfdbzwO",
        "outputId": "8e71d479-4ca8-40dc-eb60-d6a9a0d3679d"
      },
      "execution_count": 61,
      "outputs": [
        {
          "output_type": "execute_result",
          "data": {
            "text/plain": [
              "(14011, 3503)"
            ]
          },
          "metadata": {},
          "execution_count": 61
        }
      ]
    },
    {
      "cell_type": "code",
      "source": [
        "len(pred_2019)"
      ],
      "metadata": {
        "colab": {
          "base_uri": "https://localhost:8080/"
        },
        "id": "mBoqDzf5b7Il",
        "outputId": "418cd97d-e2c2-414a-bb66-78f08b5e7733"
      },
      "execution_count": 62,
      "outputs": [
        {
          "output_type": "execute_result",
          "data": {
            "text/plain": [
              "11"
            ]
          },
          "metadata": {},
          "execution_count": 62
        }
      ]
    },
    {
      "cell_type": "code",
      "source": [
        "df[\"city_code\"].value_counts()"
      ],
      "metadata": {
        "colab": {
          "base_uri": "https://localhost:8080/"
        },
        "id": "hFp41wHNc2zA",
        "outputId": "a0cd6210-4551-4a53-848e-8fc617bcb936"
      },
      "execution_count": 63,
      "outputs": [
        {
          "output_type": "execute_result",
          "data": {
            "text/plain": [
              "960b4f2c94a2fb2c    517\n",
              "6471ede39ca61b39    517\n",
              "6a7b8c3ab2bc6c38    517\n",
              "7926ffd2861f8dbc    517\n",
              "783dbed4df67af9f    517\n",
              "                   ... \n",
              "40abcc3eff7bcf73    473\n",
              "18fb5197aa553b9c    473\n",
              "807c5037e6993f2c    473\n",
              "782568ced6ad8838    473\n",
              "8683715784c40f0f     33\n",
              "Name: city_code, Length: 144, dtype: int64"
            ]
          },
          "metadata": {},
          "execution_count": 63
        }
      ]
    },
    {
      "cell_type": "code",
      "source": [
        "y_pred_2018 = xgbr.predict(pred_2018)\n",
        "y_pred_2019 = xgbr.predict(pred_2019)\n"
      ],
      "metadata": {
        "id": "Xbq-vzWqCAL_"
      },
      "execution_count": 64,
      "outputs": []
    },
    {
      "cell_type": "code",
      "source": [
        "y_pred_2018"
      ],
      "metadata": {
        "id": "QTmnO8OcDwrF",
        "colab": {
          "base_uri": "https://localhost:8080/"
        },
        "outputId": "a240a5da-c344-47d0-fdb4-e74157ccdd96"
      },
      "execution_count": 65,
      "outputs": [
        {
          "output_type": "execute_result",
          "data": {
            "text/plain": [
              "array([12515.982, 12515.982, 12515.982, 12515.982, 12515.982, 12515.982,\n",
              "       12515.982, 12515.982, 12515.982, 11132.255, 12515.982],\n",
              "      dtype=float32)"
            ]
          },
          "metadata": {},
          "execution_count": 65
        }
      ]
    },
    {
      "cell_type": "code",
      "source": [
        "y_pred_2019"
      ],
      "metadata": {
        "id": "OMYySX8Hqgaj",
        "colab": {
          "base_uri": "https://localhost:8080/"
        },
        "outputId": "29ca97e1-6028-4c72-b966-b50ef0da84f6"
      },
      "execution_count": 66,
      "outputs": [
        {
          "output_type": "execute_result",
          "data": {
            "text/plain": [
              "array([12515.982, 12515.982, 12515.982, 12515.982, 12515.982, 12515.982,\n",
              "       12515.982, 12515.982, 12515.982, 11132.255, 12515.982],\n",
              "      dtype=float32)"
            ]
          },
          "metadata": {},
          "execution_count": 66
        }
      ]
    },
    {
      "cell_type": "markdown",
      "source": [
        "##Message about the model"
      ],
      "metadata": {
        "id": "JwB-Xk4uoWMc"
      }
    },
    {
      "cell_type": "markdown",
      "source": [
        "Unfortunately, the results obtained by applying the XGBOOST algorithm did not turn out as expected. Thus, we chose to apply a Linear Regression to the Bain database, without considering the extra databases initially collected by the team."
      ],
      "metadata": {
        "id": "U5ap-ABCoU3-"
      }
    },
    {
      "cell_type": "markdown",
      "source": [
        "#**5 - Implementing Linear Regression**\n"
      ],
      "metadata": {
        "id": "gj7ZAHswerk4"
      }
    },
    {
      "cell_type": "code",
      "source": [
        "from sklearn.preprocessing import OneHotEncoder\n",
        "\n",
        "encoder = OneHotEncoder(handle_unknown='ignore')\n",
        "\n",
        "#perform one-hot encoding on 'team' column \n",
        "encoder_df = pd.DataFrame(encoder.fit_transform(df[[\"city_code\",'product', \"product_type\"]]).toarray())\n",
        "\n",
        "#merge one-hot encoded columns back with original DataFrame\n",
        "final_df = df.join(encoder_df)\n",
        "\n",
        "final_df"
      ],
      "metadata": {
        "colab": {
          "base_uri": "https://localhost:8080/",
          "height": 424
        },
        "id": "LArvUe0cesv2",
        "outputId": "f1982f1c-73ff-4db5-8b10-7409d6e7526e"
      },
      "execution_count": 67,
      "outputs": [
        {
          "output_type": "execute_result",
          "data": {
            "text/plain": [
              "       year         city_code product_type    product  destinated_area  \\\n",
              "0      1974  960b4f2c94a2fb2c    temporary     Others           0.0000   \n",
              "1      1974  746cc42bfb8f6b62    temporary     Others           0.0000   \n",
              "2      1974  6cce2bf873870afc    temporary     Others           0.0000   \n",
              "3      1974  4de42e351006a2ae    temporary     Others           0.0000   \n",
              "4      1974  5b6072f8f6d37acc    temporary     Others           0.0000   \n",
              "...     ...               ...          ...        ...              ...   \n",
              "73739  2013  74d75dde6dc4a5ec      pasture  Livestock      150866.5644   \n",
              "73740  2014  74d75dde6dc4a5ec      pasture  Livestock      152446.3960   \n",
              "73741  2015  74d75dde6dc4a5ec      pasture  Livestock      154681.0205   \n",
              "73742  2016  74d75dde6dc4a5ec      pasture  Livestock      164706.2778   \n",
              "73743  2017  74d75dde6dc4a5ec      pasture  Livestock      165220.8728   \n",
              "\n",
              "            date    0    1    2    3  ...  148  149  150  151  152  153  154  \\\n",
              "0     1974-01-01  0.0  0.0  0.0  0.0  ...  0.0  0.0  1.0  0.0  0.0  0.0  0.0   \n",
              "1     1974-01-01  0.0  0.0  0.0  0.0  ...  0.0  0.0  1.0  0.0  0.0  0.0  0.0   \n",
              "2     1974-01-01  0.0  0.0  0.0  0.0  ...  0.0  0.0  1.0  0.0  0.0  0.0  0.0   \n",
              "3     1974-01-01  0.0  0.0  0.0  0.0  ...  0.0  0.0  1.0  0.0  0.0  0.0  0.0   \n",
              "4     1974-01-01  0.0  0.0  0.0  0.0  ...  0.0  0.0  1.0  0.0  0.0  0.0  0.0   \n",
              "...          ...  ...  ...  ...  ...  ...  ...  ...  ...  ...  ...  ...  ...   \n",
              "73739 2013-01-01  0.0  0.0  0.0  0.0  ...  0.0  1.0  0.0  0.0  0.0  0.0  0.0   \n",
              "73740 2014-01-01  0.0  0.0  0.0  0.0  ...  0.0  1.0  0.0  0.0  0.0  0.0  0.0   \n",
              "73741 2015-01-01  0.0  0.0  0.0  0.0  ...  0.0  1.0  0.0  0.0  0.0  0.0  0.0   \n",
              "73742 2016-01-01  0.0  0.0  0.0  0.0  ...  0.0  1.0  0.0  0.0  0.0  0.0  0.0   \n",
              "73743 2017-01-01  0.0  0.0  0.0  0.0  ...  0.0  1.0  0.0  0.0  0.0  0.0  0.0   \n",
              "\n",
              "       155  156  157  \n",
              "0      0.0  0.0  1.0  \n",
              "1      0.0  0.0  1.0  \n",
              "2      0.0  0.0  1.0  \n",
              "3      0.0  0.0  1.0  \n",
              "4      0.0  0.0  1.0  \n",
              "...    ...  ...  ...  \n",
              "73739  1.0  0.0  0.0  \n",
              "73740  1.0  0.0  0.0  \n",
              "73741  1.0  0.0  0.0  \n",
              "73742  1.0  0.0  0.0  \n",
              "73743  1.0  0.0  0.0  \n",
              "\n",
              "[73744 rows x 164 columns]"
            ],
            "text/html": [
              "\n",
              "  <div id=\"df-a1a1c2be-7b71-4ade-b4c8-31dcff716d03\">\n",
              "    <div class=\"colab-df-container\">\n",
              "      <div>\n",
              "<style scoped>\n",
              "    .dataframe tbody tr th:only-of-type {\n",
              "        vertical-align: middle;\n",
              "    }\n",
              "\n",
              "    .dataframe tbody tr th {\n",
              "        vertical-align: top;\n",
              "    }\n",
              "\n",
              "    .dataframe thead th {\n",
              "        text-align: right;\n",
              "    }\n",
              "</style>\n",
              "<table border=\"1\" class=\"dataframe\">\n",
              "  <thead>\n",
              "    <tr style=\"text-align: right;\">\n",
              "      <th></th>\n",
              "      <th>year</th>\n",
              "      <th>city_code</th>\n",
              "      <th>product_type</th>\n",
              "      <th>product</th>\n",
              "      <th>destinated_area</th>\n",
              "      <th>date</th>\n",
              "      <th>0</th>\n",
              "      <th>1</th>\n",
              "      <th>2</th>\n",
              "      <th>3</th>\n",
              "      <th>...</th>\n",
              "      <th>148</th>\n",
              "      <th>149</th>\n",
              "      <th>150</th>\n",
              "      <th>151</th>\n",
              "      <th>152</th>\n",
              "      <th>153</th>\n",
              "      <th>154</th>\n",
              "      <th>155</th>\n",
              "      <th>156</th>\n",
              "      <th>157</th>\n",
              "    </tr>\n",
              "  </thead>\n",
              "  <tbody>\n",
              "    <tr>\n",
              "      <th>0</th>\n",
              "      <td>1974</td>\n",
              "      <td>960b4f2c94a2fb2c</td>\n",
              "      <td>temporary</td>\n",
              "      <td>Others</td>\n",
              "      <td>0.0000</td>\n",
              "      <td>1974-01-01</td>\n",
              "      <td>0.0</td>\n",
              "      <td>0.0</td>\n",
              "      <td>0.0</td>\n",
              "      <td>0.0</td>\n",
              "      <td>...</td>\n",
              "      <td>0.0</td>\n",
              "      <td>0.0</td>\n",
              "      <td>1.0</td>\n",
              "      <td>0.0</td>\n",
              "      <td>0.0</td>\n",
              "      <td>0.0</td>\n",
              "      <td>0.0</td>\n",
              "      <td>0.0</td>\n",
              "      <td>0.0</td>\n",
              "      <td>1.0</td>\n",
              "    </tr>\n",
              "    <tr>\n",
              "      <th>1</th>\n",
              "      <td>1974</td>\n",
              "      <td>746cc42bfb8f6b62</td>\n",
              "      <td>temporary</td>\n",
              "      <td>Others</td>\n",
              "      <td>0.0000</td>\n",
              "      <td>1974-01-01</td>\n",
              "      <td>0.0</td>\n",
              "      <td>0.0</td>\n",
              "      <td>0.0</td>\n",
              "      <td>0.0</td>\n",
              "      <td>...</td>\n",
              "      <td>0.0</td>\n",
              "      <td>0.0</td>\n",
              "      <td>1.0</td>\n",
              "      <td>0.0</td>\n",
              "      <td>0.0</td>\n",
              "      <td>0.0</td>\n",
              "      <td>0.0</td>\n",
              "      <td>0.0</td>\n",
              "      <td>0.0</td>\n",
              "      <td>1.0</td>\n",
              "    </tr>\n",
              "    <tr>\n",
              "      <th>2</th>\n",
              "      <td>1974</td>\n",
              "      <td>6cce2bf873870afc</td>\n",
              "      <td>temporary</td>\n",
              "      <td>Others</td>\n",
              "      <td>0.0000</td>\n",
              "      <td>1974-01-01</td>\n",
              "      <td>0.0</td>\n",
              "      <td>0.0</td>\n",
              "      <td>0.0</td>\n",
              "      <td>0.0</td>\n",
              "      <td>...</td>\n",
              "      <td>0.0</td>\n",
              "      <td>0.0</td>\n",
              "      <td>1.0</td>\n",
              "      <td>0.0</td>\n",
              "      <td>0.0</td>\n",
              "      <td>0.0</td>\n",
              "      <td>0.0</td>\n",
              "      <td>0.0</td>\n",
              "      <td>0.0</td>\n",
              "      <td>1.0</td>\n",
              "    </tr>\n",
              "    <tr>\n",
              "      <th>3</th>\n",
              "      <td>1974</td>\n",
              "      <td>4de42e351006a2ae</td>\n",
              "      <td>temporary</td>\n",
              "      <td>Others</td>\n",
              "      <td>0.0000</td>\n",
              "      <td>1974-01-01</td>\n",
              "      <td>0.0</td>\n",
              "      <td>0.0</td>\n",
              "      <td>0.0</td>\n",
              "      <td>0.0</td>\n",
              "      <td>...</td>\n",
              "      <td>0.0</td>\n",
              "      <td>0.0</td>\n",
              "      <td>1.0</td>\n",
              "      <td>0.0</td>\n",
              "      <td>0.0</td>\n",
              "      <td>0.0</td>\n",
              "      <td>0.0</td>\n",
              "      <td>0.0</td>\n",
              "      <td>0.0</td>\n",
              "      <td>1.0</td>\n",
              "    </tr>\n",
              "    <tr>\n",
              "      <th>4</th>\n",
              "      <td>1974</td>\n",
              "      <td>5b6072f8f6d37acc</td>\n",
              "      <td>temporary</td>\n",
              "      <td>Others</td>\n",
              "      <td>0.0000</td>\n",
              "      <td>1974-01-01</td>\n",
              "      <td>0.0</td>\n",
              "      <td>0.0</td>\n",
              "      <td>0.0</td>\n",
              "      <td>0.0</td>\n",
              "      <td>...</td>\n",
              "      <td>0.0</td>\n",
              "      <td>0.0</td>\n",
              "      <td>1.0</td>\n",
              "      <td>0.0</td>\n",
              "      <td>0.0</td>\n",
              "      <td>0.0</td>\n",
              "      <td>0.0</td>\n",
              "      <td>0.0</td>\n",
              "      <td>0.0</td>\n",
              "      <td>1.0</td>\n",
              "    </tr>\n",
              "    <tr>\n",
              "      <th>...</th>\n",
              "      <td>...</td>\n",
              "      <td>...</td>\n",
              "      <td>...</td>\n",
              "      <td>...</td>\n",
              "      <td>...</td>\n",
              "      <td>...</td>\n",
              "      <td>...</td>\n",
              "      <td>...</td>\n",
              "      <td>...</td>\n",
              "      <td>...</td>\n",
              "      <td>...</td>\n",
              "      <td>...</td>\n",
              "      <td>...</td>\n",
              "      <td>...</td>\n",
              "      <td>...</td>\n",
              "      <td>...</td>\n",
              "      <td>...</td>\n",
              "      <td>...</td>\n",
              "      <td>...</td>\n",
              "      <td>...</td>\n",
              "      <td>...</td>\n",
              "    </tr>\n",
              "    <tr>\n",
              "      <th>73739</th>\n",
              "      <td>2013</td>\n",
              "      <td>74d75dde6dc4a5ec</td>\n",
              "      <td>pasture</td>\n",
              "      <td>Livestock</td>\n",
              "      <td>150866.5644</td>\n",
              "      <td>2013-01-01</td>\n",
              "      <td>0.0</td>\n",
              "      <td>0.0</td>\n",
              "      <td>0.0</td>\n",
              "      <td>0.0</td>\n",
              "      <td>...</td>\n",
              "      <td>0.0</td>\n",
              "      <td>1.0</td>\n",
              "      <td>0.0</td>\n",
              "      <td>0.0</td>\n",
              "      <td>0.0</td>\n",
              "      <td>0.0</td>\n",
              "      <td>0.0</td>\n",
              "      <td>1.0</td>\n",
              "      <td>0.0</td>\n",
              "      <td>0.0</td>\n",
              "    </tr>\n",
              "    <tr>\n",
              "      <th>73740</th>\n",
              "      <td>2014</td>\n",
              "      <td>74d75dde6dc4a5ec</td>\n",
              "      <td>pasture</td>\n",
              "      <td>Livestock</td>\n",
              "      <td>152446.3960</td>\n",
              "      <td>2014-01-01</td>\n",
              "      <td>0.0</td>\n",
              "      <td>0.0</td>\n",
              "      <td>0.0</td>\n",
              "      <td>0.0</td>\n",
              "      <td>...</td>\n",
              "      <td>0.0</td>\n",
              "      <td>1.0</td>\n",
              "      <td>0.0</td>\n",
              "      <td>0.0</td>\n",
              "      <td>0.0</td>\n",
              "      <td>0.0</td>\n",
              "      <td>0.0</td>\n",
              "      <td>1.0</td>\n",
              "      <td>0.0</td>\n",
              "      <td>0.0</td>\n",
              "    </tr>\n",
              "    <tr>\n",
              "      <th>73741</th>\n",
              "      <td>2015</td>\n",
              "      <td>74d75dde6dc4a5ec</td>\n",
              "      <td>pasture</td>\n",
              "      <td>Livestock</td>\n",
              "      <td>154681.0205</td>\n",
              "      <td>2015-01-01</td>\n",
              "      <td>0.0</td>\n",
              "      <td>0.0</td>\n",
              "      <td>0.0</td>\n",
              "      <td>0.0</td>\n",
              "      <td>...</td>\n",
              "      <td>0.0</td>\n",
              "      <td>1.0</td>\n",
              "      <td>0.0</td>\n",
              "      <td>0.0</td>\n",
              "      <td>0.0</td>\n",
              "      <td>0.0</td>\n",
              "      <td>0.0</td>\n",
              "      <td>1.0</td>\n",
              "      <td>0.0</td>\n",
              "      <td>0.0</td>\n",
              "    </tr>\n",
              "    <tr>\n",
              "      <th>73742</th>\n",
              "      <td>2016</td>\n",
              "      <td>74d75dde6dc4a5ec</td>\n",
              "      <td>pasture</td>\n",
              "      <td>Livestock</td>\n",
              "      <td>164706.2778</td>\n",
              "      <td>2016-01-01</td>\n",
              "      <td>0.0</td>\n",
              "      <td>0.0</td>\n",
              "      <td>0.0</td>\n",
              "      <td>0.0</td>\n",
              "      <td>...</td>\n",
              "      <td>0.0</td>\n",
              "      <td>1.0</td>\n",
              "      <td>0.0</td>\n",
              "      <td>0.0</td>\n",
              "      <td>0.0</td>\n",
              "      <td>0.0</td>\n",
              "      <td>0.0</td>\n",
              "      <td>1.0</td>\n",
              "      <td>0.0</td>\n",
              "      <td>0.0</td>\n",
              "    </tr>\n",
              "    <tr>\n",
              "      <th>73743</th>\n",
              "      <td>2017</td>\n",
              "      <td>74d75dde6dc4a5ec</td>\n",
              "      <td>pasture</td>\n",
              "      <td>Livestock</td>\n",
              "      <td>165220.8728</td>\n",
              "      <td>2017-01-01</td>\n",
              "      <td>0.0</td>\n",
              "      <td>0.0</td>\n",
              "      <td>0.0</td>\n",
              "      <td>0.0</td>\n",
              "      <td>...</td>\n",
              "      <td>0.0</td>\n",
              "      <td>1.0</td>\n",
              "      <td>0.0</td>\n",
              "      <td>0.0</td>\n",
              "      <td>0.0</td>\n",
              "      <td>0.0</td>\n",
              "      <td>0.0</td>\n",
              "      <td>1.0</td>\n",
              "      <td>0.0</td>\n",
              "      <td>0.0</td>\n",
              "    </tr>\n",
              "  </tbody>\n",
              "</table>\n",
              "<p>73744 rows × 164 columns</p>\n",
              "</div>\n",
              "      <button class=\"colab-df-convert\" onclick=\"convertToInteractive('df-a1a1c2be-7b71-4ade-b4c8-31dcff716d03')\"\n",
              "              title=\"Convert this dataframe to an interactive table.\"\n",
              "              style=\"display:none;\">\n",
              "        \n",
              "  <svg xmlns=\"http://www.w3.org/2000/svg\" height=\"24px\"viewBox=\"0 0 24 24\"\n",
              "       width=\"24px\">\n",
              "    <path d=\"M0 0h24v24H0V0z\" fill=\"none\"/>\n",
              "    <path d=\"M18.56 5.44l.94 2.06.94-2.06 2.06-.94-2.06-.94-.94-2.06-.94 2.06-2.06.94zm-11 1L8.5 8.5l.94-2.06 2.06-.94-2.06-.94L8.5 2.5l-.94 2.06-2.06.94zm10 10l.94 2.06.94-2.06 2.06-.94-2.06-.94-.94-2.06-.94 2.06-2.06.94z\"/><path d=\"M17.41 7.96l-1.37-1.37c-.4-.4-.92-.59-1.43-.59-.52 0-1.04.2-1.43.59L10.3 9.45l-7.72 7.72c-.78.78-.78 2.05 0 2.83L4 21.41c.39.39.9.59 1.41.59.51 0 1.02-.2 1.41-.59l7.78-7.78 2.81-2.81c.8-.78.8-2.07 0-2.86zM5.41 20L4 18.59l7.72-7.72 1.47 1.35L5.41 20z\"/>\n",
              "  </svg>\n",
              "      </button>\n",
              "      \n",
              "  <style>\n",
              "    .colab-df-container {\n",
              "      display:flex;\n",
              "      flex-wrap:wrap;\n",
              "      gap: 12px;\n",
              "    }\n",
              "\n",
              "    .colab-df-convert {\n",
              "      background-color: #E8F0FE;\n",
              "      border: none;\n",
              "      border-radius: 50%;\n",
              "      cursor: pointer;\n",
              "      display: none;\n",
              "      fill: #1967D2;\n",
              "      height: 32px;\n",
              "      padding: 0 0 0 0;\n",
              "      width: 32px;\n",
              "    }\n",
              "\n",
              "    .colab-df-convert:hover {\n",
              "      background-color: #E2EBFA;\n",
              "      box-shadow: 0px 1px 2px rgba(60, 64, 67, 0.3), 0px 1px 3px 1px rgba(60, 64, 67, 0.15);\n",
              "      fill: #174EA6;\n",
              "    }\n",
              "\n",
              "    [theme=dark] .colab-df-convert {\n",
              "      background-color: #3B4455;\n",
              "      fill: #D2E3FC;\n",
              "    }\n",
              "\n",
              "    [theme=dark] .colab-df-convert:hover {\n",
              "      background-color: #434B5C;\n",
              "      box-shadow: 0px 1px 3px 1px rgba(0, 0, 0, 0.15);\n",
              "      filter: drop-shadow(0px 1px 2px rgba(0, 0, 0, 0.3));\n",
              "      fill: #FFFFFF;\n",
              "    }\n",
              "  </style>\n",
              "\n",
              "      <script>\n",
              "        const buttonEl =\n",
              "          document.querySelector('#df-a1a1c2be-7b71-4ade-b4c8-31dcff716d03 button.colab-df-convert');\n",
              "        buttonEl.style.display =\n",
              "          google.colab.kernel.accessAllowed ? 'block' : 'none';\n",
              "\n",
              "        async function convertToInteractive(key) {\n",
              "          const element = document.querySelector('#df-a1a1c2be-7b71-4ade-b4c8-31dcff716d03');\n",
              "          const dataTable =\n",
              "            await google.colab.kernel.invokeFunction('convertToInteractive',\n",
              "                                                     [key], {});\n",
              "          if (!dataTable) return;\n",
              "\n",
              "          const docLinkHtml = 'Like what you see? Visit the ' +\n",
              "            '<a target=\"_blank\" href=https://colab.research.google.com/notebooks/data_table.ipynb>data table notebook</a>'\n",
              "            + ' to learn more about interactive tables.';\n",
              "          element.innerHTML = '';\n",
              "          dataTable['output_type'] = 'display_data';\n",
              "          await google.colab.output.renderOutput(dataTable, element);\n",
              "          const docLink = document.createElement('div');\n",
              "          docLink.innerHTML = docLinkHtml;\n",
              "          element.appendChild(docLink);\n",
              "        }\n",
              "      </script>\n",
              "    </div>\n",
              "  </div>\n",
              "  "
            ]
          },
          "metadata": {},
          "execution_count": 67
        }
      ]
    },
    {
      "cell_type": "code",
      "source": [
        "final_df.dtypes"
      ],
      "metadata": {
        "colab": {
          "base_uri": "https://localhost:8080/"
        },
        "id": "_hmDnmiWfYke",
        "outputId": "69a8c12c-4b47-4b33-bd83-c02969caf9a0"
      },
      "execution_count": 68,
      "outputs": [
        {
          "output_type": "execute_result",
          "data": {
            "text/plain": [
              "year                 int64\n",
              "city_code           object\n",
              "product_type        object\n",
              "product             object\n",
              "destinated_area    float64\n",
              "                    ...   \n",
              "153                float64\n",
              "154                float64\n",
              "155                float64\n",
              "156                float64\n",
              "157                float64\n",
              "Length: 164, dtype: object"
            ]
          },
          "metadata": {},
          "execution_count": 68
        }
      ]
    },
    {
      "cell_type": "code",
      "source": [
        "col_orden  = final_df.drop([\"destinated_area\", \"product\", \"product_type\", \"city_code\", \"date\"], axis=1).columns"
      ],
      "metadata": {
        "id": "gxNJwPkyibWw"
      },
      "execution_count": 69,
      "outputs": []
    },
    {
      "cell_type": "code",
      "source": [
        "x = final_df.drop([\"destinated_area\", \"product\", \"product_type\", \"city_code\", \"date\"], axis=1)\n",
        "y = final_df[\"destinated_area\"]"
      ],
      "metadata": {
        "id": "CxRI4MCze8sw"
      },
      "execution_count": 70,
      "outputs": []
    },
    {
      "cell_type": "code",
      "source": [
        "import numpy as np\n",
        "from sklearn.linear_model import LinearRegression"
      ],
      "metadata": {
        "id": "zXPun5qNfOLa"
      },
      "execution_count": 71,
      "outputs": []
    },
    {
      "cell_type": "code",
      "source": [
        "x = np.array(x.values.tolist())\n",
        "y = np.array(y.values.tolist())\n",
        "\n",
        "model = LinearRegression(normalize=True, n_jobs=-1)"
      ],
      "metadata": {
        "id": "c9WTeosOfRGi"
      },
      "execution_count": 72,
      "outputs": []
    },
    {
      "cell_type": "code",
      "source": [
        "model = LinearRegression().fit(x,y)"
      ],
      "metadata": {
        "id": "rrDESItKfS3q"
      },
      "execution_count": 73,
      "outputs": []
    },
    {
      "cell_type": "code",
      "source": [
        "r_sq = model.score(x, y)\n",
        "print('coefficient of determination:', r_sq)\n",
        "print('intercept:', model.intercept_)\n",
        "print('slope: \\n', model.coef_)"
      ],
      "metadata": {
        "colab": {
          "base_uri": "https://localhost:8080/"
        },
        "id": "Aba2mnoffVDo",
        "outputId": "d5a2c27d-1aa6-4c56-b2d4-82e91f16eb47"
      },
      "execution_count": 74,
      "outputs": [
        {
          "output_type": "stream",
          "name": "stdout",
          "text": [
            "coefficient of determination: 0.31171830926686517\n",
            "intercept: 939282333058487.6\n",
            "slope: \n",
            " [-1.01814891e+01  4.40323113e+12  4.40323113e+12  4.40323113e+12\n",
            "  4.40323113e+12  4.40323115e+12  4.40323113e+12  4.40323113e+12\n",
            "  4.40323113e+12  4.40323113e+12  4.40323114e+12  4.40323118e+12\n",
            "  4.40323114e+12  4.40323114e+12  4.40323113e+12  4.40323113e+12\n",
            "  4.40323113e+12  4.40323113e+12  4.40323114e+12  4.40323114e+12\n",
            "  4.40323113e+12  4.40323114e+12  4.40323113e+12  4.40323114e+12\n",
            "  4.40323114e+12  4.40323113e+12  4.40323114e+12  4.40323114e+12\n",
            "  4.40323113e+12  4.40323113e+12  4.40323115e+12  4.40323113e+12\n",
            "  4.40323113e+12  4.40323114e+12  4.40323115e+12  4.40323114e+12\n",
            "  4.40323113e+12  4.40323113e+12  4.40323113e+12  4.40323114e+12\n",
            "  4.40323116e+12  4.40323114e+12  4.40323113e+12  4.40323113e+12\n",
            "  4.40323113e+12  4.40323114e+12  4.40323115e+12  4.40323116e+12\n",
            "  4.40323113e+12  4.40323114e+12  4.40323113e+12  4.40323115e+12\n",
            "  4.40323113e+12  4.40323114e+12  4.40323113e+12  4.40323113e+12\n",
            "  4.40323114e+12  4.40323115e+12  4.40323113e+12  4.40323114e+12\n",
            "  4.40323113e+12  4.40323114e+12  4.40323116e+12  4.40323114e+12\n",
            "  4.40323114e+12  4.40323113e+12  4.40323113e+12  4.40323114e+12\n",
            "  4.40323114e+12  4.40323113e+12  4.40323115e+12  4.40323115e+12\n",
            "  4.40323114e+12  4.40323115e+12  4.40323115e+12  4.40323115e+12\n",
            "  4.40323115e+12  4.40323115e+12  4.40323113e+12  4.40323113e+12\n",
            "  4.40323114e+12  4.40323113e+12  4.40323113e+12  4.40323104e+12\n",
            "  4.40323114e+12  4.40323114e+12  4.40323114e+12  4.40323114e+12\n",
            "  4.40323114e+12  4.40323116e+12  4.40323114e+12  4.40323114e+12\n",
            "  4.40323113e+12  4.40323113e+12  4.40323114e+12  4.40323113e+12\n",
            "  4.40323113e+12  4.40323113e+12  4.40323113e+12  4.40323114e+12\n",
            "  4.40323113e+12  4.40323113e+12  4.40323113e+12  4.40323113e+12\n",
            "  4.40323113e+12  4.40323114e+12  4.40323114e+12  4.40323114e+12\n",
            "  4.40323115e+12  4.40323114e+12  4.40323113e+12  4.40323113e+12\n",
            "  4.40323114e+12  4.40323114e+12  4.40323113e+12  4.40323114e+12\n",
            "  4.40323114e+12  4.40323114e+12  4.40323113e+12  4.40323113e+12\n",
            "  4.40323113e+12  4.40323113e+12  4.40323114e+12  4.40323116e+12\n",
            "  4.40323113e+12  4.40323113e+12  4.40323113e+12  4.40323114e+12\n",
            "  4.40323115e+12  4.40323114e+12  4.40323114e+12  4.40323113e+12\n",
            "  4.40323113e+12  4.40323114e+12  4.40323114e+12  4.40323114e+12\n",
            "  4.40323113e+12  4.40323114e+12  4.40323113e+12  4.40323114e+12\n",
            "  4.40323113e+12  4.40323113e+12  4.40323113e+12  4.40323113e+12\n",
            "  4.40323114e+12  9.49203249e+14  9.49203249e+14  9.49203249e+14\n",
            "  9.49203249e+14  9.49203249e+14 -5.01002217e+14  9.49203249e+14\n",
            "  9.49203249e+14  9.49203249e+14  9.49203249e+14  9.49203249e+14\n",
            " -4.42683347e+14 -1.89288881e+15 -1.89288881e+15]\n"
          ]
        }
      ]
    },
    {
      "cell_type": "code",
      "source": [
        "download(\"1ZQg8VSDpIey3agzQSsuHoj95wctrRWWD\") #https://drive.google.com/file/d/1ZQg8VSDpIey3agzQSsuHoj95wctrRWWD/view?usp=sharing"
      ],
      "metadata": {
        "colab": {
          "base_uri": "https://localhost:8080/"
        },
        "id": "vwX48lSKgPJM",
        "outputId": "675e9938-0b69-4ff7-80a9-48abbd9b0424"
      },
      "execution_count": 75,
      "outputs": [
        {
          "output_type": "stream",
          "name": "stderr",
          "text": [
            "Downloading...\n",
            "From: https://drive.google.com/uc?id=1ZQg8VSDpIey3agzQSsuHoj95wctrRWWD\n",
            "To: /content/submission-template.csv\n",
            "100%|██████████| 102k/102k [00:00<00:00, 60.4MB/s]\n"
          ]
        }
      ]
    },
    {
      "cell_type": "code",
      "source": [
        "pred_2018_2019 = pd.read_csv(\"/content/submission-template.csv\")\n",
        "copy = pred_2018_2019"
      ],
      "metadata": {
        "id": "HzutTUCggT2B"
      },
      "execution_count": 76,
      "outputs": []
    },
    {
      "cell_type": "code",
      "source": [
        "from sklearn.preprocessing import OneHotEncoder\n",
        "\n",
        "encoder = OneHotEncoder(handle_unknown='ignore')\n",
        "\n",
        "#perform one-hot encoding on 'team' column \n",
        "encoder_df = pd.DataFrame(encoder.fit_transform(pred_2018_2019[[\"city_code\",'product', \"product_type\"]]).toarray())\n",
        "\n",
        "#merge one-hot encoded columns back with original DataFrame\n",
        "pred_df = pred_2018_2019.join(encoder_df)\n",
        "\n",
        "pred_df"
      ],
      "metadata": {
        "colab": {
          "base_uri": "https://localhost:8080/",
          "height": 424
        },
        "id": "27CfAd8agquu",
        "outputId": "f58b4314-09bd-48d0-c2da-27bba1020a3f"
      },
      "execution_count": 77,
      "outputs": [
        {
          "output_type": "execute_result",
          "data": {
            "text/plain": [
              "      Unnamed: 0        year         city_code product_type    product  \\\n",
              "0              0  2018-01-01  0307883b5d063703      pasture  Livestock   \n",
              "1              1  2018-01-01  0307883b5d063703    permanent       Açaí   \n",
              "2              2  2018-01-01  0307883b5d063703    permanent     Others   \n",
              "3              3  2018-01-01  0307883b5d063703    temporary    Cassava   \n",
              "4              4  2018-01-01  0307883b5d063703    temporary     Others   \n",
              "...          ...         ...               ...          ...        ...   \n",
              "2015        1005  2019-01-01  fda49275fbf5caf6    permanent      Cocoa   \n",
              "2016        1006  2019-01-01  fda49275fbf5caf6    permanent     Others   \n",
              "2017        1007  2019-01-01  fda49275fbf5caf6    temporary      Beans   \n",
              "2018        1008  2019-01-01  fda49275fbf5caf6    temporary    Cassava   \n",
              "2019        1009  2019-01-01  fda49275fbf5caf6    temporary       Corn   \n",
              "\n",
              "      destinated_area    0    1    2    3  ...  148  149  150  151  152  153  \\\n",
              "0                 NaN  1.0  0.0  0.0  0.0  ...  0.0  1.0  0.0  0.0  0.0  0.0   \n",
              "1                 NaN  1.0  0.0  0.0  0.0  ...  0.0  0.0  0.0  0.0  0.0  0.0   \n",
              "2                 NaN  1.0  0.0  0.0  0.0  ...  0.0  0.0  1.0  0.0  0.0  0.0   \n",
              "3                 NaN  1.0  0.0  0.0  0.0  ...  0.0  0.0  0.0  0.0  0.0  0.0   \n",
              "4                 NaN  1.0  0.0  0.0  0.0  ...  0.0  0.0  1.0  0.0  0.0  0.0   \n",
              "...               ...  ...  ...  ...  ...  ...  ...  ...  ...  ...  ...  ...   \n",
              "2015              NaN  0.0  0.0  0.0  0.0  ...  0.0  0.0  0.0  0.0  0.0  0.0   \n",
              "2016              NaN  0.0  0.0  0.0  0.0  ...  0.0  0.0  1.0  0.0  0.0  0.0   \n",
              "2017              NaN  0.0  0.0  0.0  0.0  ...  0.0  0.0  0.0  0.0  0.0  0.0   \n",
              "2018              NaN  0.0  0.0  0.0  0.0  ...  0.0  0.0  0.0  0.0  0.0  0.0   \n",
              "2019              NaN  0.0  0.0  0.0  0.0  ...  1.0  0.0  0.0  0.0  0.0  0.0   \n",
              "\n",
              "      154  155  156  157  \n",
              "0     0.0  1.0  0.0  0.0  \n",
              "1     0.0  0.0  1.0  0.0  \n",
              "2     0.0  0.0  1.0  0.0  \n",
              "3     0.0  0.0  0.0  1.0  \n",
              "4     0.0  0.0  0.0  1.0  \n",
              "...   ...  ...  ...  ...  \n",
              "2015  0.0  0.0  1.0  0.0  \n",
              "2016  0.0  0.0  1.0  0.0  \n",
              "2017  0.0  0.0  0.0  1.0  \n",
              "2018  0.0  0.0  0.0  1.0  \n",
              "2019  0.0  0.0  0.0  1.0  \n",
              "\n",
              "[2020 rows x 164 columns]"
            ],
            "text/html": [
              "\n",
              "  <div id=\"df-253079c7-607e-4549-8ec7-224d8be161b2\">\n",
              "    <div class=\"colab-df-container\">\n",
              "      <div>\n",
              "<style scoped>\n",
              "    .dataframe tbody tr th:only-of-type {\n",
              "        vertical-align: middle;\n",
              "    }\n",
              "\n",
              "    .dataframe tbody tr th {\n",
              "        vertical-align: top;\n",
              "    }\n",
              "\n",
              "    .dataframe thead th {\n",
              "        text-align: right;\n",
              "    }\n",
              "</style>\n",
              "<table border=\"1\" class=\"dataframe\">\n",
              "  <thead>\n",
              "    <tr style=\"text-align: right;\">\n",
              "      <th></th>\n",
              "      <th>Unnamed: 0</th>\n",
              "      <th>year</th>\n",
              "      <th>city_code</th>\n",
              "      <th>product_type</th>\n",
              "      <th>product</th>\n",
              "      <th>destinated_area</th>\n",
              "      <th>0</th>\n",
              "      <th>1</th>\n",
              "      <th>2</th>\n",
              "      <th>3</th>\n",
              "      <th>...</th>\n",
              "      <th>148</th>\n",
              "      <th>149</th>\n",
              "      <th>150</th>\n",
              "      <th>151</th>\n",
              "      <th>152</th>\n",
              "      <th>153</th>\n",
              "      <th>154</th>\n",
              "      <th>155</th>\n",
              "      <th>156</th>\n",
              "      <th>157</th>\n",
              "    </tr>\n",
              "  </thead>\n",
              "  <tbody>\n",
              "    <tr>\n",
              "      <th>0</th>\n",
              "      <td>0</td>\n",
              "      <td>2018-01-01</td>\n",
              "      <td>0307883b5d063703</td>\n",
              "      <td>pasture</td>\n",
              "      <td>Livestock</td>\n",
              "      <td>NaN</td>\n",
              "      <td>1.0</td>\n",
              "      <td>0.0</td>\n",
              "      <td>0.0</td>\n",
              "      <td>0.0</td>\n",
              "      <td>...</td>\n",
              "      <td>0.0</td>\n",
              "      <td>1.0</td>\n",
              "      <td>0.0</td>\n",
              "      <td>0.0</td>\n",
              "      <td>0.0</td>\n",
              "      <td>0.0</td>\n",
              "      <td>0.0</td>\n",
              "      <td>1.0</td>\n",
              "      <td>0.0</td>\n",
              "      <td>0.0</td>\n",
              "    </tr>\n",
              "    <tr>\n",
              "      <th>1</th>\n",
              "      <td>1</td>\n",
              "      <td>2018-01-01</td>\n",
              "      <td>0307883b5d063703</td>\n",
              "      <td>permanent</td>\n",
              "      <td>Açaí</td>\n",
              "      <td>NaN</td>\n",
              "      <td>1.0</td>\n",
              "      <td>0.0</td>\n",
              "      <td>0.0</td>\n",
              "      <td>0.0</td>\n",
              "      <td>...</td>\n",
              "      <td>0.0</td>\n",
              "      <td>0.0</td>\n",
              "      <td>0.0</td>\n",
              "      <td>0.0</td>\n",
              "      <td>0.0</td>\n",
              "      <td>0.0</td>\n",
              "      <td>0.0</td>\n",
              "      <td>0.0</td>\n",
              "      <td>1.0</td>\n",
              "      <td>0.0</td>\n",
              "    </tr>\n",
              "    <tr>\n",
              "      <th>2</th>\n",
              "      <td>2</td>\n",
              "      <td>2018-01-01</td>\n",
              "      <td>0307883b5d063703</td>\n",
              "      <td>permanent</td>\n",
              "      <td>Others</td>\n",
              "      <td>NaN</td>\n",
              "      <td>1.0</td>\n",
              "      <td>0.0</td>\n",
              "      <td>0.0</td>\n",
              "      <td>0.0</td>\n",
              "      <td>...</td>\n",
              "      <td>0.0</td>\n",
              "      <td>0.0</td>\n",
              "      <td>1.0</td>\n",
              "      <td>0.0</td>\n",
              "      <td>0.0</td>\n",
              "      <td>0.0</td>\n",
              "      <td>0.0</td>\n",
              "      <td>0.0</td>\n",
              "      <td>1.0</td>\n",
              "      <td>0.0</td>\n",
              "    </tr>\n",
              "    <tr>\n",
              "      <th>3</th>\n",
              "      <td>3</td>\n",
              "      <td>2018-01-01</td>\n",
              "      <td>0307883b5d063703</td>\n",
              "      <td>temporary</td>\n",
              "      <td>Cassava</td>\n",
              "      <td>NaN</td>\n",
              "      <td>1.0</td>\n",
              "      <td>0.0</td>\n",
              "      <td>0.0</td>\n",
              "      <td>0.0</td>\n",
              "      <td>...</td>\n",
              "      <td>0.0</td>\n",
              "      <td>0.0</td>\n",
              "      <td>0.0</td>\n",
              "      <td>0.0</td>\n",
              "      <td>0.0</td>\n",
              "      <td>0.0</td>\n",
              "      <td>0.0</td>\n",
              "      <td>0.0</td>\n",
              "      <td>0.0</td>\n",
              "      <td>1.0</td>\n",
              "    </tr>\n",
              "    <tr>\n",
              "      <th>4</th>\n",
              "      <td>4</td>\n",
              "      <td>2018-01-01</td>\n",
              "      <td>0307883b5d063703</td>\n",
              "      <td>temporary</td>\n",
              "      <td>Others</td>\n",
              "      <td>NaN</td>\n",
              "      <td>1.0</td>\n",
              "      <td>0.0</td>\n",
              "      <td>0.0</td>\n",
              "      <td>0.0</td>\n",
              "      <td>...</td>\n",
              "      <td>0.0</td>\n",
              "      <td>0.0</td>\n",
              "      <td>1.0</td>\n",
              "      <td>0.0</td>\n",
              "      <td>0.0</td>\n",
              "      <td>0.0</td>\n",
              "      <td>0.0</td>\n",
              "      <td>0.0</td>\n",
              "      <td>0.0</td>\n",
              "      <td>1.0</td>\n",
              "    </tr>\n",
              "    <tr>\n",
              "      <th>...</th>\n",
              "      <td>...</td>\n",
              "      <td>...</td>\n",
              "      <td>...</td>\n",
              "      <td>...</td>\n",
              "      <td>...</td>\n",
              "      <td>...</td>\n",
              "      <td>...</td>\n",
              "      <td>...</td>\n",
              "      <td>...</td>\n",
              "      <td>...</td>\n",
              "      <td>...</td>\n",
              "      <td>...</td>\n",
              "      <td>...</td>\n",
              "      <td>...</td>\n",
              "      <td>...</td>\n",
              "      <td>...</td>\n",
              "      <td>...</td>\n",
              "      <td>...</td>\n",
              "      <td>...</td>\n",
              "      <td>...</td>\n",
              "      <td>...</td>\n",
              "    </tr>\n",
              "    <tr>\n",
              "      <th>2015</th>\n",
              "      <td>1005</td>\n",
              "      <td>2019-01-01</td>\n",
              "      <td>fda49275fbf5caf6</td>\n",
              "      <td>permanent</td>\n",
              "      <td>Cocoa</td>\n",
              "      <td>NaN</td>\n",
              "      <td>0.0</td>\n",
              "      <td>0.0</td>\n",
              "      <td>0.0</td>\n",
              "      <td>0.0</td>\n",
              "      <td>...</td>\n",
              "      <td>0.0</td>\n",
              "      <td>0.0</td>\n",
              "      <td>0.0</td>\n",
              "      <td>0.0</td>\n",
              "      <td>0.0</td>\n",
              "      <td>0.0</td>\n",
              "      <td>0.0</td>\n",
              "      <td>0.0</td>\n",
              "      <td>1.0</td>\n",
              "      <td>0.0</td>\n",
              "    </tr>\n",
              "    <tr>\n",
              "      <th>2016</th>\n",
              "      <td>1006</td>\n",
              "      <td>2019-01-01</td>\n",
              "      <td>fda49275fbf5caf6</td>\n",
              "      <td>permanent</td>\n",
              "      <td>Others</td>\n",
              "      <td>NaN</td>\n",
              "      <td>0.0</td>\n",
              "      <td>0.0</td>\n",
              "      <td>0.0</td>\n",
              "      <td>0.0</td>\n",
              "      <td>...</td>\n",
              "      <td>0.0</td>\n",
              "      <td>0.0</td>\n",
              "      <td>1.0</td>\n",
              "      <td>0.0</td>\n",
              "      <td>0.0</td>\n",
              "      <td>0.0</td>\n",
              "      <td>0.0</td>\n",
              "      <td>0.0</td>\n",
              "      <td>1.0</td>\n",
              "      <td>0.0</td>\n",
              "    </tr>\n",
              "    <tr>\n",
              "      <th>2017</th>\n",
              "      <td>1007</td>\n",
              "      <td>2019-01-01</td>\n",
              "      <td>fda49275fbf5caf6</td>\n",
              "      <td>temporary</td>\n",
              "      <td>Beans</td>\n",
              "      <td>NaN</td>\n",
              "      <td>0.0</td>\n",
              "      <td>0.0</td>\n",
              "      <td>0.0</td>\n",
              "      <td>0.0</td>\n",
              "      <td>...</td>\n",
              "      <td>0.0</td>\n",
              "      <td>0.0</td>\n",
              "      <td>0.0</td>\n",
              "      <td>0.0</td>\n",
              "      <td>0.0</td>\n",
              "      <td>0.0</td>\n",
              "      <td>0.0</td>\n",
              "      <td>0.0</td>\n",
              "      <td>0.0</td>\n",
              "      <td>1.0</td>\n",
              "    </tr>\n",
              "    <tr>\n",
              "      <th>2018</th>\n",
              "      <td>1008</td>\n",
              "      <td>2019-01-01</td>\n",
              "      <td>fda49275fbf5caf6</td>\n",
              "      <td>temporary</td>\n",
              "      <td>Cassava</td>\n",
              "      <td>NaN</td>\n",
              "      <td>0.0</td>\n",
              "      <td>0.0</td>\n",
              "      <td>0.0</td>\n",
              "      <td>0.0</td>\n",
              "      <td>...</td>\n",
              "      <td>0.0</td>\n",
              "      <td>0.0</td>\n",
              "      <td>0.0</td>\n",
              "      <td>0.0</td>\n",
              "      <td>0.0</td>\n",
              "      <td>0.0</td>\n",
              "      <td>0.0</td>\n",
              "      <td>0.0</td>\n",
              "      <td>0.0</td>\n",
              "      <td>1.0</td>\n",
              "    </tr>\n",
              "    <tr>\n",
              "      <th>2019</th>\n",
              "      <td>1009</td>\n",
              "      <td>2019-01-01</td>\n",
              "      <td>fda49275fbf5caf6</td>\n",
              "      <td>temporary</td>\n",
              "      <td>Corn</td>\n",
              "      <td>NaN</td>\n",
              "      <td>0.0</td>\n",
              "      <td>0.0</td>\n",
              "      <td>0.0</td>\n",
              "      <td>0.0</td>\n",
              "      <td>...</td>\n",
              "      <td>1.0</td>\n",
              "      <td>0.0</td>\n",
              "      <td>0.0</td>\n",
              "      <td>0.0</td>\n",
              "      <td>0.0</td>\n",
              "      <td>0.0</td>\n",
              "      <td>0.0</td>\n",
              "      <td>0.0</td>\n",
              "      <td>0.0</td>\n",
              "      <td>1.0</td>\n",
              "    </tr>\n",
              "  </tbody>\n",
              "</table>\n",
              "<p>2020 rows × 164 columns</p>\n",
              "</div>\n",
              "      <button class=\"colab-df-convert\" onclick=\"convertToInteractive('df-253079c7-607e-4549-8ec7-224d8be161b2')\"\n",
              "              title=\"Convert this dataframe to an interactive table.\"\n",
              "              style=\"display:none;\">\n",
              "        \n",
              "  <svg xmlns=\"http://www.w3.org/2000/svg\" height=\"24px\"viewBox=\"0 0 24 24\"\n",
              "       width=\"24px\">\n",
              "    <path d=\"M0 0h24v24H0V0z\" fill=\"none\"/>\n",
              "    <path d=\"M18.56 5.44l.94 2.06.94-2.06 2.06-.94-2.06-.94-.94-2.06-.94 2.06-2.06.94zm-11 1L8.5 8.5l.94-2.06 2.06-.94-2.06-.94L8.5 2.5l-.94 2.06-2.06.94zm10 10l.94 2.06.94-2.06 2.06-.94-2.06-.94-.94-2.06-.94 2.06-2.06.94z\"/><path d=\"M17.41 7.96l-1.37-1.37c-.4-.4-.92-.59-1.43-.59-.52 0-1.04.2-1.43.59L10.3 9.45l-7.72 7.72c-.78.78-.78 2.05 0 2.83L4 21.41c.39.39.9.59 1.41.59.51 0 1.02-.2 1.41-.59l7.78-7.78 2.81-2.81c.8-.78.8-2.07 0-2.86zM5.41 20L4 18.59l7.72-7.72 1.47 1.35L5.41 20z\"/>\n",
              "  </svg>\n",
              "      </button>\n",
              "      \n",
              "  <style>\n",
              "    .colab-df-container {\n",
              "      display:flex;\n",
              "      flex-wrap:wrap;\n",
              "      gap: 12px;\n",
              "    }\n",
              "\n",
              "    .colab-df-convert {\n",
              "      background-color: #E8F0FE;\n",
              "      border: none;\n",
              "      border-radius: 50%;\n",
              "      cursor: pointer;\n",
              "      display: none;\n",
              "      fill: #1967D2;\n",
              "      height: 32px;\n",
              "      padding: 0 0 0 0;\n",
              "      width: 32px;\n",
              "    }\n",
              "\n",
              "    .colab-df-convert:hover {\n",
              "      background-color: #E2EBFA;\n",
              "      box-shadow: 0px 1px 2px rgba(60, 64, 67, 0.3), 0px 1px 3px 1px rgba(60, 64, 67, 0.15);\n",
              "      fill: #174EA6;\n",
              "    }\n",
              "\n",
              "    [theme=dark] .colab-df-convert {\n",
              "      background-color: #3B4455;\n",
              "      fill: #D2E3FC;\n",
              "    }\n",
              "\n",
              "    [theme=dark] .colab-df-convert:hover {\n",
              "      background-color: #434B5C;\n",
              "      box-shadow: 0px 1px 3px 1px rgba(0, 0, 0, 0.15);\n",
              "      filter: drop-shadow(0px 1px 2px rgba(0, 0, 0, 0.3));\n",
              "      fill: #FFFFFF;\n",
              "    }\n",
              "  </style>\n",
              "\n",
              "      <script>\n",
              "        const buttonEl =\n",
              "          document.querySelector('#df-253079c7-607e-4549-8ec7-224d8be161b2 button.colab-df-convert');\n",
              "        buttonEl.style.display =\n",
              "          google.colab.kernel.accessAllowed ? 'block' : 'none';\n",
              "\n",
              "        async function convertToInteractive(key) {\n",
              "          const element = document.querySelector('#df-253079c7-607e-4549-8ec7-224d8be161b2');\n",
              "          const dataTable =\n",
              "            await google.colab.kernel.invokeFunction('convertToInteractive',\n",
              "                                                     [key], {});\n",
              "          if (!dataTable) return;\n",
              "\n",
              "          const docLinkHtml = 'Like what you see? Visit the ' +\n",
              "            '<a target=\"_blank\" href=https://colab.research.google.com/notebooks/data_table.ipynb>data table notebook</a>'\n",
              "            + ' to learn more about interactive tables.';\n",
              "          element.innerHTML = '';\n",
              "          dataTable['output_type'] = 'display_data';\n",
              "          await google.colab.output.renderOutput(dataTable, element);\n",
              "          const docLink = document.createElement('div');\n",
              "          docLink.innerHTML = docLinkHtml;\n",
              "          element.appendChild(docLink);\n",
              "        }\n",
              "      </script>\n",
              "    </div>\n",
              "  </div>\n",
              "  "
            ]
          },
          "metadata": {},
          "execution_count": 77
        }
      ]
    },
    {
      "cell_type": "code",
      "source": [
        "pred_df['date'] = pd.to_datetime(pred_df['year'],format= \"%Y-%d-%m\")\n",
        "pred_df['year'] = pd.DatetimeIndex(pred_df['date']).year\n"
      ],
      "metadata": {
        "id": "HsJZbXUkhnHm"
      },
      "execution_count": 78,
      "outputs": []
    },
    {
      "cell_type": "code",
      "source": [
        "pred_df = pred_df.reindex(columns=col_orden)"
      ],
      "metadata": {
        "id": "OQ7owX1AjBDy"
      },
      "execution_count": 79,
      "outputs": []
    },
    {
      "cell_type": "code",
      "source": [
        "pred_df"
      ],
      "metadata": {
        "colab": {
          "base_uri": "https://localhost:8080/",
          "height": 424
        },
        "id": "HgH4pgNyiLZF",
        "outputId": "d2848d1d-3488-44a7-e162-3b3806320e66"
      },
      "execution_count": 80,
      "outputs": [
        {
          "output_type": "execute_result",
          "data": {
            "text/plain": [
              "      year    0    1    2    3    4    5    6    7    8  ...  148  149  150  \\\n",
              "0     2018  1.0  0.0  0.0  0.0  0.0  0.0  0.0  0.0  0.0  ...  0.0  1.0  0.0   \n",
              "1     2018  1.0  0.0  0.0  0.0  0.0  0.0  0.0  0.0  0.0  ...  0.0  0.0  0.0   \n",
              "2     2018  1.0  0.0  0.0  0.0  0.0  0.0  0.0  0.0  0.0  ...  0.0  0.0  1.0   \n",
              "3     2018  1.0  0.0  0.0  0.0  0.0  0.0  0.0  0.0  0.0  ...  0.0  0.0  0.0   \n",
              "4     2018  1.0  0.0  0.0  0.0  0.0  0.0  0.0  0.0  0.0  ...  0.0  0.0  1.0   \n",
              "...    ...  ...  ...  ...  ...  ...  ...  ...  ...  ...  ...  ...  ...  ...   \n",
              "2015  2019  0.0  0.0  0.0  0.0  0.0  0.0  0.0  0.0  0.0  ...  0.0  0.0  0.0   \n",
              "2016  2019  0.0  0.0  0.0  0.0  0.0  0.0  0.0  0.0  0.0  ...  0.0  0.0  1.0   \n",
              "2017  2019  0.0  0.0  0.0  0.0  0.0  0.0  0.0  0.0  0.0  ...  0.0  0.0  0.0   \n",
              "2018  2019  0.0  0.0  0.0  0.0  0.0  0.0  0.0  0.0  0.0  ...  0.0  0.0  0.0   \n",
              "2019  2019  0.0  0.0  0.0  0.0  0.0  0.0  0.0  0.0  0.0  ...  1.0  0.0  0.0   \n",
              "\n",
              "      151  152  153  154  155  156  157  \n",
              "0     0.0  0.0  0.0  0.0  1.0  0.0  0.0  \n",
              "1     0.0  0.0  0.0  0.0  0.0  1.0  0.0  \n",
              "2     0.0  0.0  0.0  0.0  0.0  1.0  0.0  \n",
              "3     0.0  0.0  0.0  0.0  0.0  0.0  1.0  \n",
              "4     0.0  0.0  0.0  0.0  0.0  0.0  1.0  \n",
              "...   ...  ...  ...  ...  ...  ...  ...  \n",
              "2015  0.0  0.0  0.0  0.0  0.0  1.0  0.0  \n",
              "2016  0.0  0.0  0.0  0.0  0.0  1.0  0.0  \n",
              "2017  0.0  0.0  0.0  0.0  0.0  0.0  1.0  \n",
              "2018  0.0  0.0  0.0  0.0  0.0  0.0  1.0  \n",
              "2019  0.0  0.0  0.0  0.0  0.0  0.0  1.0  \n",
              "\n",
              "[2020 rows x 159 columns]"
            ],
            "text/html": [
              "\n",
              "  <div id=\"df-8a210efd-934d-4fd6-a40c-cffba6144dd2\">\n",
              "    <div class=\"colab-df-container\">\n",
              "      <div>\n",
              "<style scoped>\n",
              "    .dataframe tbody tr th:only-of-type {\n",
              "        vertical-align: middle;\n",
              "    }\n",
              "\n",
              "    .dataframe tbody tr th {\n",
              "        vertical-align: top;\n",
              "    }\n",
              "\n",
              "    .dataframe thead th {\n",
              "        text-align: right;\n",
              "    }\n",
              "</style>\n",
              "<table border=\"1\" class=\"dataframe\">\n",
              "  <thead>\n",
              "    <tr style=\"text-align: right;\">\n",
              "      <th></th>\n",
              "      <th>year</th>\n",
              "      <th>0</th>\n",
              "      <th>1</th>\n",
              "      <th>2</th>\n",
              "      <th>3</th>\n",
              "      <th>4</th>\n",
              "      <th>5</th>\n",
              "      <th>6</th>\n",
              "      <th>7</th>\n",
              "      <th>8</th>\n",
              "      <th>...</th>\n",
              "      <th>148</th>\n",
              "      <th>149</th>\n",
              "      <th>150</th>\n",
              "      <th>151</th>\n",
              "      <th>152</th>\n",
              "      <th>153</th>\n",
              "      <th>154</th>\n",
              "      <th>155</th>\n",
              "      <th>156</th>\n",
              "      <th>157</th>\n",
              "    </tr>\n",
              "  </thead>\n",
              "  <tbody>\n",
              "    <tr>\n",
              "      <th>0</th>\n",
              "      <td>2018</td>\n",
              "      <td>1.0</td>\n",
              "      <td>0.0</td>\n",
              "      <td>0.0</td>\n",
              "      <td>0.0</td>\n",
              "      <td>0.0</td>\n",
              "      <td>0.0</td>\n",
              "      <td>0.0</td>\n",
              "      <td>0.0</td>\n",
              "      <td>0.0</td>\n",
              "      <td>...</td>\n",
              "      <td>0.0</td>\n",
              "      <td>1.0</td>\n",
              "      <td>0.0</td>\n",
              "      <td>0.0</td>\n",
              "      <td>0.0</td>\n",
              "      <td>0.0</td>\n",
              "      <td>0.0</td>\n",
              "      <td>1.0</td>\n",
              "      <td>0.0</td>\n",
              "      <td>0.0</td>\n",
              "    </tr>\n",
              "    <tr>\n",
              "      <th>1</th>\n",
              "      <td>2018</td>\n",
              "      <td>1.0</td>\n",
              "      <td>0.0</td>\n",
              "      <td>0.0</td>\n",
              "      <td>0.0</td>\n",
              "      <td>0.0</td>\n",
              "      <td>0.0</td>\n",
              "      <td>0.0</td>\n",
              "      <td>0.0</td>\n",
              "      <td>0.0</td>\n",
              "      <td>...</td>\n",
              "      <td>0.0</td>\n",
              "      <td>0.0</td>\n",
              "      <td>0.0</td>\n",
              "      <td>0.0</td>\n",
              "      <td>0.0</td>\n",
              "      <td>0.0</td>\n",
              "      <td>0.0</td>\n",
              "      <td>0.0</td>\n",
              "      <td>1.0</td>\n",
              "      <td>0.0</td>\n",
              "    </tr>\n",
              "    <tr>\n",
              "      <th>2</th>\n",
              "      <td>2018</td>\n",
              "      <td>1.0</td>\n",
              "      <td>0.0</td>\n",
              "      <td>0.0</td>\n",
              "      <td>0.0</td>\n",
              "      <td>0.0</td>\n",
              "      <td>0.0</td>\n",
              "      <td>0.0</td>\n",
              "      <td>0.0</td>\n",
              "      <td>0.0</td>\n",
              "      <td>...</td>\n",
              "      <td>0.0</td>\n",
              "      <td>0.0</td>\n",
              "      <td>1.0</td>\n",
              "      <td>0.0</td>\n",
              "      <td>0.0</td>\n",
              "      <td>0.0</td>\n",
              "      <td>0.0</td>\n",
              "      <td>0.0</td>\n",
              "      <td>1.0</td>\n",
              "      <td>0.0</td>\n",
              "    </tr>\n",
              "    <tr>\n",
              "      <th>3</th>\n",
              "      <td>2018</td>\n",
              "      <td>1.0</td>\n",
              "      <td>0.0</td>\n",
              "      <td>0.0</td>\n",
              "      <td>0.0</td>\n",
              "      <td>0.0</td>\n",
              "      <td>0.0</td>\n",
              "      <td>0.0</td>\n",
              "      <td>0.0</td>\n",
              "      <td>0.0</td>\n",
              "      <td>...</td>\n",
              "      <td>0.0</td>\n",
              "      <td>0.0</td>\n",
              "      <td>0.0</td>\n",
              "      <td>0.0</td>\n",
              "      <td>0.0</td>\n",
              "      <td>0.0</td>\n",
              "      <td>0.0</td>\n",
              "      <td>0.0</td>\n",
              "      <td>0.0</td>\n",
              "      <td>1.0</td>\n",
              "    </tr>\n",
              "    <tr>\n",
              "      <th>4</th>\n",
              "      <td>2018</td>\n",
              "      <td>1.0</td>\n",
              "      <td>0.0</td>\n",
              "      <td>0.0</td>\n",
              "      <td>0.0</td>\n",
              "      <td>0.0</td>\n",
              "      <td>0.0</td>\n",
              "      <td>0.0</td>\n",
              "      <td>0.0</td>\n",
              "      <td>0.0</td>\n",
              "      <td>...</td>\n",
              "      <td>0.0</td>\n",
              "      <td>0.0</td>\n",
              "      <td>1.0</td>\n",
              "      <td>0.0</td>\n",
              "      <td>0.0</td>\n",
              "      <td>0.0</td>\n",
              "      <td>0.0</td>\n",
              "      <td>0.0</td>\n",
              "      <td>0.0</td>\n",
              "      <td>1.0</td>\n",
              "    </tr>\n",
              "    <tr>\n",
              "      <th>...</th>\n",
              "      <td>...</td>\n",
              "      <td>...</td>\n",
              "      <td>...</td>\n",
              "      <td>...</td>\n",
              "      <td>...</td>\n",
              "      <td>...</td>\n",
              "      <td>...</td>\n",
              "      <td>...</td>\n",
              "      <td>...</td>\n",
              "      <td>...</td>\n",
              "      <td>...</td>\n",
              "      <td>...</td>\n",
              "      <td>...</td>\n",
              "      <td>...</td>\n",
              "      <td>...</td>\n",
              "      <td>...</td>\n",
              "      <td>...</td>\n",
              "      <td>...</td>\n",
              "      <td>...</td>\n",
              "      <td>...</td>\n",
              "      <td>...</td>\n",
              "    </tr>\n",
              "    <tr>\n",
              "      <th>2015</th>\n",
              "      <td>2019</td>\n",
              "      <td>0.0</td>\n",
              "      <td>0.0</td>\n",
              "      <td>0.0</td>\n",
              "      <td>0.0</td>\n",
              "      <td>0.0</td>\n",
              "      <td>0.0</td>\n",
              "      <td>0.0</td>\n",
              "      <td>0.0</td>\n",
              "      <td>0.0</td>\n",
              "      <td>...</td>\n",
              "      <td>0.0</td>\n",
              "      <td>0.0</td>\n",
              "      <td>0.0</td>\n",
              "      <td>0.0</td>\n",
              "      <td>0.0</td>\n",
              "      <td>0.0</td>\n",
              "      <td>0.0</td>\n",
              "      <td>0.0</td>\n",
              "      <td>1.0</td>\n",
              "      <td>0.0</td>\n",
              "    </tr>\n",
              "    <tr>\n",
              "      <th>2016</th>\n",
              "      <td>2019</td>\n",
              "      <td>0.0</td>\n",
              "      <td>0.0</td>\n",
              "      <td>0.0</td>\n",
              "      <td>0.0</td>\n",
              "      <td>0.0</td>\n",
              "      <td>0.0</td>\n",
              "      <td>0.0</td>\n",
              "      <td>0.0</td>\n",
              "      <td>0.0</td>\n",
              "      <td>...</td>\n",
              "      <td>0.0</td>\n",
              "      <td>0.0</td>\n",
              "      <td>1.0</td>\n",
              "      <td>0.0</td>\n",
              "      <td>0.0</td>\n",
              "      <td>0.0</td>\n",
              "      <td>0.0</td>\n",
              "      <td>0.0</td>\n",
              "      <td>1.0</td>\n",
              "      <td>0.0</td>\n",
              "    </tr>\n",
              "    <tr>\n",
              "      <th>2017</th>\n",
              "      <td>2019</td>\n",
              "      <td>0.0</td>\n",
              "      <td>0.0</td>\n",
              "      <td>0.0</td>\n",
              "      <td>0.0</td>\n",
              "      <td>0.0</td>\n",
              "      <td>0.0</td>\n",
              "      <td>0.0</td>\n",
              "      <td>0.0</td>\n",
              "      <td>0.0</td>\n",
              "      <td>...</td>\n",
              "      <td>0.0</td>\n",
              "      <td>0.0</td>\n",
              "      <td>0.0</td>\n",
              "      <td>0.0</td>\n",
              "      <td>0.0</td>\n",
              "      <td>0.0</td>\n",
              "      <td>0.0</td>\n",
              "      <td>0.0</td>\n",
              "      <td>0.0</td>\n",
              "      <td>1.0</td>\n",
              "    </tr>\n",
              "    <tr>\n",
              "      <th>2018</th>\n",
              "      <td>2019</td>\n",
              "      <td>0.0</td>\n",
              "      <td>0.0</td>\n",
              "      <td>0.0</td>\n",
              "      <td>0.0</td>\n",
              "      <td>0.0</td>\n",
              "      <td>0.0</td>\n",
              "      <td>0.0</td>\n",
              "      <td>0.0</td>\n",
              "      <td>0.0</td>\n",
              "      <td>...</td>\n",
              "      <td>0.0</td>\n",
              "      <td>0.0</td>\n",
              "      <td>0.0</td>\n",
              "      <td>0.0</td>\n",
              "      <td>0.0</td>\n",
              "      <td>0.0</td>\n",
              "      <td>0.0</td>\n",
              "      <td>0.0</td>\n",
              "      <td>0.0</td>\n",
              "      <td>1.0</td>\n",
              "    </tr>\n",
              "    <tr>\n",
              "      <th>2019</th>\n",
              "      <td>2019</td>\n",
              "      <td>0.0</td>\n",
              "      <td>0.0</td>\n",
              "      <td>0.0</td>\n",
              "      <td>0.0</td>\n",
              "      <td>0.0</td>\n",
              "      <td>0.0</td>\n",
              "      <td>0.0</td>\n",
              "      <td>0.0</td>\n",
              "      <td>0.0</td>\n",
              "      <td>...</td>\n",
              "      <td>1.0</td>\n",
              "      <td>0.0</td>\n",
              "      <td>0.0</td>\n",
              "      <td>0.0</td>\n",
              "      <td>0.0</td>\n",
              "      <td>0.0</td>\n",
              "      <td>0.0</td>\n",
              "      <td>0.0</td>\n",
              "      <td>0.0</td>\n",
              "      <td>1.0</td>\n",
              "    </tr>\n",
              "  </tbody>\n",
              "</table>\n",
              "<p>2020 rows × 159 columns</p>\n",
              "</div>\n",
              "      <button class=\"colab-df-convert\" onclick=\"convertToInteractive('df-8a210efd-934d-4fd6-a40c-cffba6144dd2')\"\n",
              "              title=\"Convert this dataframe to an interactive table.\"\n",
              "              style=\"display:none;\">\n",
              "        \n",
              "  <svg xmlns=\"http://www.w3.org/2000/svg\" height=\"24px\"viewBox=\"0 0 24 24\"\n",
              "       width=\"24px\">\n",
              "    <path d=\"M0 0h24v24H0V0z\" fill=\"none\"/>\n",
              "    <path d=\"M18.56 5.44l.94 2.06.94-2.06 2.06-.94-2.06-.94-.94-2.06-.94 2.06-2.06.94zm-11 1L8.5 8.5l.94-2.06 2.06-.94-2.06-.94L8.5 2.5l-.94 2.06-2.06.94zm10 10l.94 2.06.94-2.06 2.06-.94-2.06-.94-.94-2.06-.94 2.06-2.06.94z\"/><path d=\"M17.41 7.96l-1.37-1.37c-.4-.4-.92-.59-1.43-.59-.52 0-1.04.2-1.43.59L10.3 9.45l-7.72 7.72c-.78.78-.78 2.05 0 2.83L4 21.41c.39.39.9.59 1.41.59.51 0 1.02-.2 1.41-.59l7.78-7.78 2.81-2.81c.8-.78.8-2.07 0-2.86zM5.41 20L4 18.59l7.72-7.72 1.47 1.35L5.41 20z\"/>\n",
              "  </svg>\n",
              "      </button>\n",
              "      \n",
              "  <style>\n",
              "    .colab-df-container {\n",
              "      display:flex;\n",
              "      flex-wrap:wrap;\n",
              "      gap: 12px;\n",
              "    }\n",
              "\n",
              "    .colab-df-convert {\n",
              "      background-color: #E8F0FE;\n",
              "      border: none;\n",
              "      border-radius: 50%;\n",
              "      cursor: pointer;\n",
              "      display: none;\n",
              "      fill: #1967D2;\n",
              "      height: 32px;\n",
              "      padding: 0 0 0 0;\n",
              "      width: 32px;\n",
              "    }\n",
              "\n",
              "    .colab-df-convert:hover {\n",
              "      background-color: #E2EBFA;\n",
              "      box-shadow: 0px 1px 2px rgba(60, 64, 67, 0.3), 0px 1px 3px 1px rgba(60, 64, 67, 0.15);\n",
              "      fill: #174EA6;\n",
              "    }\n",
              "\n",
              "    [theme=dark] .colab-df-convert {\n",
              "      background-color: #3B4455;\n",
              "      fill: #D2E3FC;\n",
              "    }\n",
              "\n",
              "    [theme=dark] .colab-df-convert:hover {\n",
              "      background-color: #434B5C;\n",
              "      box-shadow: 0px 1px 3px 1px rgba(0, 0, 0, 0.15);\n",
              "      filter: drop-shadow(0px 1px 2px rgba(0, 0, 0, 0.3));\n",
              "      fill: #FFFFFF;\n",
              "    }\n",
              "  </style>\n",
              "\n",
              "      <script>\n",
              "        const buttonEl =\n",
              "          document.querySelector('#df-8a210efd-934d-4fd6-a40c-cffba6144dd2 button.colab-df-convert');\n",
              "        buttonEl.style.display =\n",
              "          google.colab.kernel.accessAllowed ? 'block' : 'none';\n",
              "\n",
              "        async function convertToInteractive(key) {\n",
              "          const element = document.querySelector('#df-8a210efd-934d-4fd6-a40c-cffba6144dd2');\n",
              "          const dataTable =\n",
              "            await google.colab.kernel.invokeFunction('convertToInteractive',\n",
              "                                                     [key], {});\n",
              "          if (!dataTable) return;\n",
              "\n",
              "          const docLinkHtml = 'Like what you see? Visit the ' +\n",
              "            '<a target=\"_blank\" href=https://colab.research.google.com/notebooks/data_table.ipynb>data table notebook</a>'\n",
              "            + ' to learn more about interactive tables.';\n",
              "          element.innerHTML = '';\n",
              "          dataTable['output_type'] = 'display_data';\n",
              "          await google.colab.output.renderOutput(dataTable, element);\n",
              "          const docLink = document.createElement('div');\n",
              "          docLink.innerHTML = docLinkHtml;\n",
              "          element.appendChild(docLink);\n",
              "        }\n",
              "      </script>\n",
              "    </div>\n",
              "  </div>\n",
              "  "
            ]
          },
          "metadata": {},
          "execution_count": 80
        }
      ]
    },
    {
      "cell_type": "code",
      "source": [
        "# pred_2018_2019 = pred_df.drop([\"destinated_area\", \"product\", \"product_type\", \"city_code\", \"date\", \"Unnamed: 0\"], axis=1)\n",
        "pred_2018_2019 = pred_df"
      ],
      "metadata": {
        "id": "FiyVmO1bg0jE"
      },
      "execution_count": 81,
      "outputs": []
    },
    {
      "cell_type": "code",
      "source": [
        "pred_2018_2019.shape"
      ],
      "metadata": {
        "colab": {
          "base_uri": "https://localhost:8080/"
        },
        "id": "VwB70OtahGOW",
        "outputId": "73a82dc8-0b84-4f1f-a217-83fb34d8d79b"
      },
      "execution_count": 82,
      "outputs": [
        {
          "output_type": "execute_result",
          "data": {
            "text/plain": [
              "(2020, 159)"
            ]
          },
          "metadata": {},
          "execution_count": 82
        }
      ]
    },
    {
      "cell_type": "code",
      "source": [
        "x.shape"
      ],
      "metadata": {
        "colab": {
          "base_uri": "https://localhost:8080/"
        },
        "id": "tW3-lEIJhTPM",
        "outputId": "41d9b8fb-0202-472d-ceab-b7d638b0466c"
      },
      "execution_count": 83,
      "outputs": [
        {
          "output_type": "execute_result",
          "data": {
            "text/plain": [
              "(73744, 159)"
            ]
          },
          "metadata": {},
          "execution_count": 83
        }
      ]
    },
    {
      "cell_type": "code",
      "source": [
        "linear_pred_2018_2018 = model.predict(pred_2018_2019)"
      ],
      "metadata": {
        "colab": {
          "base_uri": "https://localhost:8080/"
        },
        "id": "QfoWQ63pfm0k",
        "outputId": "324e8faa-b773-4606-db51-86ec203a2cfd"
      },
      "execution_count": 84,
      "outputs": [
        {
          "output_type": "stream",
          "name": "stderr",
          "text": [
            "/usr/local/lib/python3.7/dist-packages/sklearn/utils/validation.py:1692: FutureWarning: Feature names only support names that are all strings. Got feature names with dtypes: ['int', 'str']. An error will be raised in 1.2.\n",
            "  FutureWarning,\n"
          ]
        }
      ]
    },
    {
      "cell_type": "code",
      "source": [
        "linear_pred_2018_2018"
      ],
      "metadata": {
        "colab": {
          "base_uri": "https://localhost:8080/"
        },
        "id": "JkKnXAYShDxY",
        "outputId": "af2865fb-dbe6-4dd2-e9a8-6cef1cd0dd0e"
      },
      "execution_count": 85,
      "outputs": [
        {
          "output_type": "execute_result",
          "data": {
            "text/plain": [
              "array([93847.375,  8914.75 , -4347.25 , ...,  5471.625,  5557.75 ,\n",
              "        5673.875])"
            ]
          },
          "metadata": {},
          "execution_count": 85
        }
      ]
    },
    {
      "cell_type": "code",
      "source": [
        "pred_2018_2019"
      ],
      "metadata": {
        "colab": {
          "base_uri": "https://localhost:8080/",
          "height": 424
        },
        "id": "uW8yvK7HiXeZ",
        "outputId": "31fb9405-8655-4c70-bf39-c60526b3d9f7"
      },
      "execution_count": 86,
      "outputs": [
        {
          "output_type": "execute_result",
          "data": {
            "text/plain": [
              "      year    0    1    2    3    4    5    6    7    8  ...  148  149  150  \\\n",
              "0     2018  1.0  0.0  0.0  0.0  0.0  0.0  0.0  0.0  0.0  ...  0.0  1.0  0.0   \n",
              "1     2018  1.0  0.0  0.0  0.0  0.0  0.0  0.0  0.0  0.0  ...  0.0  0.0  0.0   \n",
              "2     2018  1.0  0.0  0.0  0.0  0.0  0.0  0.0  0.0  0.0  ...  0.0  0.0  1.0   \n",
              "3     2018  1.0  0.0  0.0  0.0  0.0  0.0  0.0  0.0  0.0  ...  0.0  0.0  0.0   \n",
              "4     2018  1.0  0.0  0.0  0.0  0.0  0.0  0.0  0.0  0.0  ...  0.0  0.0  1.0   \n",
              "...    ...  ...  ...  ...  ...  ...  ...  ...  ...  ...  ...  ...  ...  ...   \n",
              "2015  2019  0.0  0.0  0.0  0.0  0.0  0.0  0.0  0.0  0.0  ...  0.0  0.0  0.0   \n",
              "2016  2019  0.0  0.0  0.0  0.0  0.0  0.0  0.0  0.0  0.0  ...  0.0  0.0  1.0   \n",
              "2017  2019  0.0  0.0  0.0  0.0  0.0  0.0  0.0  0.0  0.0  ...  0.0  0.0  0.0   \n",
              "2018  2019  0.0  0.0  0.0  0.0  0.0  0.0  0.0  0.0  0.0  ...  0.0  0.0  0.0   \n",
              "2019  2019  0.0  0.0  0.0  0.0  0.0  0.0  0.0  0.0  0.0  ...  1.0  0.0  0.0   \n",
              "\n",
              "      151  152  153  154  155  156  157  \n",
              "0     0.0  0.0  0.0  0.0  1.0  0.0  0.0  \n",
              "1     0.0  0.0  0.0  0.0  0.0  1.0  0.0  \n",
              "2     0.0  0.0  0.0  0.0  0.0  1.0  0.0  \n",
              "3     0.0  0.0  0.0  0.0  0.0  0.0  1.0  \n",
              "4     0.0  0.0  0.0  0.0  0.0  0.0  1.0  \n",
              "...   ...  ...  ...  ...  ...  ...  ...  \n",
              "2015  0.0  0.0  0.0  0.0  0.0  1.0  0.0  \n",
              "2016  0.0  0.0  0.0  0.0  0.0  1.0  0.0  \n",
              "2017  0.0  0.0  0.0  0.0  0.0  0.0  1.0  \n",
              "2018  0.0  0.0  0.0  0.0  0.0  0.0  1.0  \n",
              "2019  0.0  0.0  0.0  0.0  0.0  0.0  1.0  \n",
              "\n",
              "[2020 rows x 159 columns]"
            ],
            "text/html": [
              "\n",
              "  <div id=\"df-d78f4261-32c1-49c0-a0aa-470c9bf0faf6\">\n",
              "    <div class=\"colab-df-container\">\n",
              "      <div>\n",
              "<style scoped>\n",
              "    .dataframe tbody tr th:only-of-type {\n",
              "        vertical-align: middle;\n",
              "    }\n",
              "\n",
              "    .dataframe tbody tr th {\n",
              "        vertical-align: top;\n",
              "    }\n",
              "\n",
              "    .dataframe thead th {\n",
              "        text-align: right;\n",
              "    }\n",
              "</style>\n",
              "<table border=\"1\" class=\"dataframe\">\n",
              "  <thead>\n",
              "    <tr style=\"text-align: right;\">\n",
              "      <th></th>\n",
              "      <th>year</th>\n",
              "      <th>0</th>\n",
              "      <th>1</th>\n",
              "      <th>2</th>\n",
              "      <th>3</th>\n",
              "      <th>4</th>\n",
              "      <th>5</th>\n",
              "      <th>6</th>\n",
              "      <th>7</th>\n",
              "      <th>8</th>\n",
              "      <th>...</th>\n",
              "      <th>148</th>\n",
              "      <th>149</th>\n",
              "      <th>150</th>\n",
              "      <th>151</th>\n",
              "      <th>152</th>\n",
              "      <th>153</th>\n",
              "      <th>154</th>\n",
              "      <th>155</th>\n",
              "      <th>156</th>\n",
              "      <th>157</th>\n",
              "    </tr>\n",
              "  </thead>\n",
              "  <tbody>\n",
              "    <tr>\n",
              "      <th>0</th>\n",
              "      <td>2018</td>\n",
              "      <td>1.0</td>\n",
              "      <td>0.0</td>\n",
              "      <td>0.0</td>\n",
              "      <td>0.0</td>\n",
              "      <td>0.0</td>\n",
              "      <td>0.0</td>\n",
              "      <td>0.0</td>\n",
              "      <td>0.0</td>\n",
              "      <td>0.0</td>\n",
              "      <td>...</td>\n",
              "      <td>0.0</td>\n",
              "      <td>1.0</td>\n",
              "      <td>0.0</td>\n",
              "      <td>0.0</td>\n",
              "      <td>0.0</td>\n",
              "      <td>0.0</td>\n",
              "      <td>0.0</td>\n",
              "      <td>1.0</td>\n",
              "      <td>0.0</td>\n",
              "      <td>0.0</td>\n",
              "    </tr>\n",
              "    <tr>\n",
              "      <th>1</th>\n",
              "      <td>2018</td>\n",
              "      <td>1.0</td>\n",
              "      <td>0.0</td>\n",
              "      <td>0.0</td>\n",
              "      <td>0.0</td>\n",
              "      <td>0.0</td>\n",
              "      <td>0.0</td>\n",
              "      <td>0.0</td>\n",
              "      <td>0.0</td>\n",
              "      <td>0.0</td>\n",
              "      <td>...</td>\n",
              "      <td>0.0</td>\n",
              "      <td>0.0</td>\n",
              "      <td>0.0</td>\n",
              "      <td>0.0</td>\n",
              "      <td>0.0</td>\n",
              "      <td>0.0</td>\n",
              "      <td>0.0</td>\n",
              "      <td>0.0</td>\n",
              "      <td>1.0</td>\n",
              "      <td>0.0</td>\n",
              "    </tr>\n",
              "    <tr>\n",
              "      <th>2</th>\n",
              "      <td>2018</td>\n",
              "      <td>1.0</td>\n",
              "      <td>0.0</td>\n",
              "      <td>0.0</td>\n",
              "      <td>0.0</td>\n",
              "      <td>0.0</td>\n",
              "      <td>0.0</td>\n",
              "      <td>0.0</td>\n",
              "      <td>0.0</td>\n",
              "      <td>0.0</td>\n",
              "      <td>...</td>\n",
              "      <td>0.0</td>\n",
              "      <td>0.0</td>\n",
              "      <td>1.0</td>\n",
              "      <td>0.0</td>\n",
              "      <td>0.0</td>\n",
              "      <td>0.0</td>\n",
              "      <td>0.0</td>\n",
              "      <td>0.0</td>\n",
              "      <td>1.0</td>\n",
              "      <td>0.0</td>\n",
              "    </tr>\n",
              "    <tr>\n",
              "      <th>3</th>\n",
              "      <td>2018</td>\n",
              "      <td>1.0</td>\n",
              "      <td>0.0</td>\n",
              "      <td>0.0</td>\n",
              "      <td>0.0</td>\n",
              "      <td>0.0</td>\n",
              "      <td>0.0</td>\n",
              "      <td>0.0</td>\n",
              "      <td>0.0</td>\n",
              "      <td>0.0</td>\n",
              "      <td>...</td>\n",
              "      <td>0.0</td>\n",
              "      <td>0.0</td>\n",
              "      <td>0.0</td>\n",
              "      <td>0.0</td>\n",
              "      <td>0.0</td>\n",
              "      <td>0.0</td>\n",
              "      <td>0.0</td>\n",
              "      <td>0.0</td>\n",
              "      <td>0.0</td>\n",
              "      <td>1.0</td>\n",
              "    </tr>\n",
              "    <tr>\n",
              "      <th>4</th>\n",
              "      <td>2018</td>\n",
              "      <td>1.0</td>\n",
              "      <td>0.0</td>\n",
              "      <td>0.0</td>\n",
              "      <td>0.0</td>\n",
              "      <td>0.0</td>\n",
              "      <td>0.0</td>\n",
              "      <td>0.0</td>\n",
              "      <td>0.0</td>\n",
              "      <td>0.0</td>\n",
              "      <td>...</td>\n",
              "      <td>0.0</td>\n",
              "      <td>0.0</td>\n",
              "      <td>1.0</td>\n",
              "      <td>0.0</td>\n",
              "      <td>0.0</td>\n",
              "      <td>0.0</td>\n",
              "      <td>0.0</td>\n",
              "      <td>0.0</td>\n",
              "      <td>0.0</td>\n",
              "      <td>1.0</td>\n",
              "    </tr>\n",
              "    <tr>\n",
              "      <th>...</th>\n",
              "      <td>...</td>\n",
              "      <td>...</td>\n",
              "      <td>...</td>\n",
              "      <td>...</td>\n",
              "      <td>...</td>\n",
              "      <td>...</td>\n",
              "      <td>...</td>\n",
              "      <td>...</td>\n",
              "      <td>...</td>\n",
              "      <td>...</td>\n",
              "      <td>...</td>\n",
              "      <td>...</td>\n",
              "      <td>...</td>\n",
              "      <td>...</td>\n",
              "      <td>...</td>\n",
              "      <td>...</td>\n",
              "      <td>...</td>\n",
              "      <td>...</td>\n",
              "      <td>...</td>\n",
              "      <td>...</td>\n",
              "      <td>...</td>\n",
              "    </tr>\n",
              "    <tr>\n",
              "      <th>2015</th>\n",
              "      <td>2019</td>\n",
              "      <td>0.0</td>\n",
              "      <td>0.0</td>\n",
              "      <td>0.0</td>\n",
              "      <td>0.0</td>\n",
              "      <td>0.0</td>\n",
              "      <td>0.0</td>\n",
              "      <td>0.0</td>\n",
              "      <td>0.0</td>\n",
              "      <td>0.0</td>\n",
              "      <td>...</td>\n",
              "      <td>0.0</td>\n",
              "      <td>0.0</td>\n",
              "      <td>0.0</td>\n",
              "      <td>0.0</td>\n",
              "      <td>0.0</td>\n",
              "      <td>0.0</td>\n",
              "      <td>0.0</td>\n",
              "      <td>0.0</td>\n",
              "      <td>1.0</td>\n",
              "      <td>0.0</td>\n",
              "    </tr>\n",
              "    <tr>\n",
              "      <th>2016</th>\n",
              "      <td>2019</td>\n",
              "      <td>0.0</td>\n",
              "      <td>0.0</td>\n",
              "      <td>0.0</td>\n",
              "      <td>0.0</td>\n",
              "      <td>0.0</td>\n",
              "      <td>0.0</td>\n",
              "      <td>0.0</td>\n",
              "      <td>0.0</td>\n",
              "      <td>0.0</td>\n",
              "      <td>...</td>\n",
              "      <td>0.0</td>\n",
              "      <td>0.0</td>\n",
              "      <td>1.0</td>\n",
              "      <td>0.0</td>\n",
              "      <td>0.0</td>\n",
              "      <td>0.0</td>\n",
              "      <td>0.0</td>\n",
              "      <td>0.0</td>\n",
              "      <td>1.0</td>\n",
              "      <td>0.0</td>\n",
              "    </tr>\n",
              "    <tr>\n",
              "      <th>2017</th>\n",
              "      <td>2019</td>\n",
              "      <td>0.0</td>\n",
              "      <td>0.0</td>\n",
              "      <td>0.0</td>\n",
              "      <td>0.0</td>\n",
              "      <td>0.0</td>\n",
              "      <td>0.0</td>\n",
              "      <td>0.0</td>\n",
              "      <td>0.0</td>\n",
              "      <td>0.0</td>\n",
              "      <td>...</td>\n",
              "      <td>0.0</td>\n",
              "      <td>0.0</td>\n",
              "      <td>0.0</td>\n",
              "      <td>0.0</td>\n",
              "      <td>0.0</td>\n",
              "      <td>0.0</td>\n",
              "      <td>0.0</td>\n",
              "      <td>0.0</td>\n",
              "      <td>0.0</td>\n",
              "      <td>1.0</td>\n",
              "    </tr>\n",
              "    <tr>\n",
              "      <th>2018</th>\n",
              "      <td>2019</td>\n",
              "      <td>0.0</td>\n",
              "      <td>0.0</td>\n",
              "      <td>0.0</td>\n",
              "      <td>0.0</td>\n",
              "      <td>0.0</td>\n",
              "      <td>0.0</td>\n",
              "      <td>0.0</td>\n",
              "      <td>0.0</td>\n",
              "      <td>0.0</td>\n",
              "      <td>...</td>\n",
              "      <td>0.0</td>\n",
              "      <td>0.0</td>\n",
              "      <td>0.0</td>\n",
              "      <td>0.0</td>\n",
              "      <td>0.0</td>\n",
              "      <td>0.0</td>\n",
              "      <td>0.0</td>\n",
              "      <td>0.0</td>\n",
              "      <td>0.0</td>\n",
              "      <td>1.0</td>\n",
              "    </tr>\n",
              "    <tr>\n",
              "      <th>2019</th>\n",
              "      <td>2019</td>\n",
              "      <td>0.0</td>\n",
              "      <td>0.0</td>\n",
              "      <td>0.0</td>\n",
              "      <td>0.0</td>\n",
              "      <td>0.0</td>\n",
              "      <td>0.0</td>\n",
              "      <td>0.0</td>\n",
              "      <td>0.0</td>\n",
              "      <td>0.0</td>\n",
              "      <td>...</td>\n",
              "      <td>1.0</td>\n",
              "      <td>0.0</td>\n",
              "      <td>0.0</td>\n",
              "      <td>0.0</td>\n",
              "      <td>0.0</td>\n",
              "      <td>0.0</td>\n",
              "      <td>0.0</td>\n",
              "      <td>0.0</td>\n",
              "      <td>0.0</td>\n",
              "      <td>1.0</td>\n",
              "    </tr>\n",
              "  </tbody>\n",
              "</table>\n",
              "<p>2020 rows × 159 columns</p>\n",
              "</div>\n",
              "      <button class=\"colab-df-convert\" onclick=\"convertToInteractive('df-d78f4261-32c1-49c0-a0aa-470c9bf0faf6')\"\n",
              "              title=\"Convert this dataframe to an interactive table.\"\n",
              "              style=\"display:none;\">\n",
              "        \n",
              "  <svg xmlns=\"http://www.w3.org/2000/svg\" height=\"24px\"viewBox=\"0 0 24 24\"\n",
              "       width=\"24px\">\n",
              "    <path d=\"M0 0h24v24H0V0z\" fill=\"none\"/>\n",
              "    <path d=\"M18.56 5.44l.94 2.06.94-2.06 2.06-.94-2.06-.94-.94-2.06-.94 2.06-2.06.94zm-11 1L8.5 8.5l.94-2.06 2.06-.94-2.06-.94L8.5 2.5l-.94 2.06-2.06.94zm10 10l.94 2.06.94-2.06 2.06-.94-2.06-.94-.94-2.06-.94 2.06-2.06.94z\"/><path d=\"M17.41 7.96l-1.37-1.37c-.4-.4-.92-.59-1.43-.59-.52 0-1.04.2-1.43.59L10.3 9.45l-7.72 7.72c-.78.78-.78 2.05 0 2.83L4 21.41c.39.39.9.59 1.41.59.51 0 1.02-.2 1.41-.59l7.78-7.78 2.81-2.81c.8-.78.8-2.07 0-2.86zM5.41 20L4 18.59l7.72-7.72 1.47 1.35L5.41 20z\"/>\n",
              "  </svg>\n",
              "      </button>\n",
              "      \n",
              "  <style>\n",
              "    .colab-df-container {\n",
              "      display:flex;\n",
              "      flex-wrap:wrap;\n",
              "      gap: 12px;\n",
              "    }\n",
              "\n",
              "    .colab-df-convert {\n",
              "      background-color: #E8F0FE;\n",
              "      border: none;\n",
              "      border-radius: 50%;\n",
              "      cursor: pointer;\n",
              "      display: none;\n",
              "      fill: #1967D2;\n",
              "      height: 32px;\n",
              "      padding: 0 0 0 0;\n",
              "      width: 32px;\n",
              "    }\n",
              "\n",
              "    .colab-df-convert:hover {\n",
              "      background-color: #E2EBFA;\n",
              "      box-shadow: 0px 1px 2px rgba(60, 64, 67, 0.3), 0px 1px 3px 1px rgba(60, 64, 67, 0.15);\n",
              "      fill: #174EA6;\n",
              "    }\n",
              "\n",
              "    [theme=dark] .colab-df-convert {\n",
              "      background-color: #3B4455;\n",
              "      fill: #D2E3FC;\n",
              "    }\n",
              "\n",
              "    [theme=dark] .colab-df-convert:hover {\n",
              "      background-color: #434B5C;\n",
              "      box-shadow: 0px 1px 3px 1px rgba(0, 0, 0, 0.15);\n",
              "      filter: drop-shadow(0px 1px 2px rgba(0, 0, 0, 0.3));\n",
              "      fill: #FFFFFF;\n",
              "    }\n",
              "  </style>\n",
              "\n",
              "      <script>\n",
              "        const buttonEl =\n",
              "          document.querySelector('#df-d78f4261-32c1-49c0-a0aa-470c9bf0faf6 button.colab-df-convert');\n",
              "        buttonEl.style.display =\n",
              "          google.colab.kernel.accessAllowed ? 'block' : 'none';\n",
              "\n",
              "        async function convertToInteractive(key) {\n",
              "          const element = document.querySelector('#df-d78f4261-32c1-49c0-a0aa-470c9bf0faf6');\n",
              "          const dataTable =\n",
              "            await google.colab.kernel.invokeFunction('convertToInteractive',\n",
              "                                                     [key], {});\n",
              "          if (!dataTable) return;\n",
              "\n",
              "          const docLinkHtml = 'Like what you see? Visit the ' +\n",
              "            '<a target=\"_blank\" href=https://colab.research.google.com/notebooks/data_table.ipynb>data table notebook</a>'\n",
              "            + ' to learn more about interactive tables.';\n",
              "          element.innerHTML = '';\n",
              "          dataTable['output_type'] = 'display_data';\n",
              "          await google.colab.output.renderOutput(dataTable, element);\n",
              "          const docLink = document.createElement('div');\n",
              "          docLink.innerHTML = docLinkHtml;\n",
              "          element.appendChild(docLink);\n",
              "        }\n",
              "      </script>\n",
              "    </div>\n",
              "  </div>\n",
              "  "
            ]
          },
          "metadata": {},
          "execution_count": 86
        }
      ]
    },
    {
      "cell_type": "code",
      "source": [
        "copy"
      ],
      "metadata": {
        "colab": {
          "base_uri": "https://localhost:8080/",
          "height": 424
        },
        "id": "9DPFx2u6jfn_",
        "outputId": "95b81da1-5c08-449b-8930-08ed4a15239b"
      },
      "execution_count": 87,
      "outputs": [
        {
          "output_type": "execute_result",
          "data": {
            "text/plain": [
              "      Unnamed: 0        year         city_code product_type    product  \\\n",
              "0              0  2018-01-01  0307883b5d063703      pasture  Livestock   \n",
              "1              1  2018-01-01  0307883b5d063703    permanent       Açaí   \n",
              "2              2  2018-01-01  0307883b5d063703    permanent     Others   \n",
              "3              3  2018-01-01  0307883b5d063703    temporary    Cassava   \n",
              "4              4  2018-01-01  0307883b5d063703    temporary     Others   \n",
              "...          ...         ...               ...          ...        ...   \n",
              "2015        1005  2019-01-01  fda49275fbf5caf6    permanent      Cocoa   \n",
              "2016        1006  2019-01-01  fda49275fbf5caf6    permanent     Others   \n",
              "2017        1007  2019-01-01  fda49275fbf5caf6    temporary      Beans   \n",
              "2018        1008  2019-01-01  fda49275fbf5caf6    temporary    Cassava   \n",
              "2019        1009  2019-01-01  fda49275fbf5caf6    temporary       Corn   \n",
              "\n",
              "      destinated_area  \n",
              "0                 NaN  \n",
              "1                 NaN  \n",
              "2                 NaN  \n",
              "3                 NaN  \n",
              "4                 NaN  \n",
              "...               ...  \n",
              "2015              NaN  \n",
              "2016              NaN  \n",
              "2017              NaN  \n",
              "2018              NaN  \n",
              "2019              NaN  \n",
              "\n",
              "[2020 rows x 6 columns]"
            ],
            "text/html": [
              "\n",
              "  <div id=\"df-01e54df7-eb54-4ce9-a46b-a053fcb5009d\">\n",
              "    <div class=\"colab-df-container\">\n",
              "      <div>\n",
              "<style scoped>\n",
              "    .dataframe tbody tr th:only-of-type {\n",
              "        vertical-align: middle;\n",
              "    }\n",
              "\n",
              "    .dataframe tbody tr th {\n",
              "        vertical-align: top;\n",
              "    }\n",
              "\n",
              "    .dataframe thead th {\n",
              "        text-align: right;\n",
              "    }\n",
              "</style>\n",
              "<table border=\"1\" class=\"dataframe\">\n",
              "  <thead>\n",
              "    <tr style=\"text-align: right;\">\n",
              "      <th></th>\n",
              "      <th>Unnamed: 0</th>\n",
              "      <th>year</th>\n",
              "      <th>city_code</th>\n",
              "      <th>product_type</th>\n",
              "      <th>product</th>\n",
              "      <th>destinated_area</th>\n",
              "    </tr>\n",
              "  </thead>\n",
              "  <tbody>\n",
              "    <tr>\n",
              "      <th>0</th>\n",
              "      <td>0</td>\n",
              "      <td>2018-01-01</td>\n",
              "      <td>0307883b5d063703</td>\n",
              "      <td>pasture</td>\n",
              "      <td>Livestock</td>\n",
              "      <td>NaN</td>\n",
              "    </tr>\n",
              "    <tr>\n",
              "      <th>1</th>\n",
              "      <td>1</td>\n",
              "      <td>2018-01-01</td>\n",
              "      <td>0307883b5d063703</td>\n",
              "      <td>permanent</td>\n",
              "      <td>Açaí</td>\n",
              "      <td>NaN</td>\n",
              "    </tr>\n",
              "    <tr>\n",
              "      <th>2</th>\n",
              "      <td>2</td>\n",
              "      <td>2018-01-01</td>\n",
              "      <td>0307883b5d063703</td>\n",
              "      <td>permanent</td>\n",
              "      <td>Others</td>\n",
              "      <td>NaN</td>\n",
              "    </tr>\n",
              "    <tr>\n",
              "      <th>3</th>\n",
              "      <td>3</td>\n",
              "      <td>2018-01-01</td>\n",
              "      <td>0307883b5d063703</td>\n",
              "      <td>temporary</td>\n",
              "      <td>Cassava</td>\n",
              "      <td>NaN</td>\n",
              "    </tr>\n",
              "    <tr>\n",
              "      <th>4</th>\n",
              "      <td>4</td>\n",
              "      <td>2018-01-01</td>\n",
              "      <td>0307883b5d063703</td>\n",
              "      <td>temporary</td>\n",
              "      <td>Others</td>\n",
              "      <td>NaN</td>\n",
              "    </tr>\n",
              "    <tr>\n",
              "      <th>...</th>\n",
              "      <td>...</td>\n",
              "      <td>...</td>\n",
              "      <td>...</td>\n",
              "      <td>...</td>\n",
              "      <td>...</td>\n",
              "      <td>...</td>\n",
              "    </tr>\n",
              "    <tr>\n",
              "      <th>2015</th>\n",
              "      <td>1005</td>\n",
              "      <td>2019-01-01</td>\n",
              "      <td>fda49275fbf5caf6</td>\n",
              "      <td>permanent</td>\n",
              "      <td>Cocoa</td>\n",
              "      <td>NaN</td>\n",
              "    </tr>\n",
              "    <tr>\n",
              "      <th>2016</th>\n",
              "      <td>1006</td>\n",
              "      <td>2019-01-01</td>\n",
              "      <td>fda49275fbf5caf6</td>\n",
              "      <td>permanent</td>\n",
              "      <td>Others</td>\n",
              "      <td>NaN</td>\n",
              "    </tr>\n",
              "    <tr>\n",
              "      <th>2017</th>\n",
              "      <td>1007</td>\n",
              "      <td>2019-01-01</td>\n",
              "      <td>fda49275fbf5caf6</td>\n",
              "      <td>temporary</td>\n",
              "      <td>Beans</td>\n",
              "      <td>NaN</td>\n",
              "    </tr>\n",
              "    <tr>\n",
              "      <th>2018</th>\n",
              "      <td>1008</td>\n",
              "      <td>2019-01-01</td>\n",
              "      <td>fda49275fbf5caf6</td>\n",
              "      <td>temporary</td>\n",
              "      <td>Cassava</td>\n",
              "      <td>NaN</td>\n",
              "    </tr>\n",
              "    <tr>\n",
              "      <th>2019</th>\n",
              "      <td>1009</td>\n",
              "      <td>2019-01-01</td>\n",
              "      <td>fda49275fbf5caf6</td>\n",
              "      <td>temporary</td>\n",
              "      <td>Corn</td>\n",
              "      <td>NaN</td>\n",
              "    </tr>\n",
              "  </tbody>\n",
              "</table>\n",
              "<p>2020 rows × 6 columns</p>\n",
              "</div>\n",
              "      <button class=\"colab-df-convert\" onclick=\"convertToInteractive('df-01e54df7-eb54-4ce9-a46b-a053fcb5009d')\"\n",
              "              title=\"Convert this dataframe to an interactive table.\"\n",
              "              style=\"display:none;\">\n",
              "        \n",
              "  <svg xmlns=\"http://www.w3.org/2000/svg\" height=\"24px\"viewBox=\"0 0 24 24\"\n",
              "       width=\"24px\">\n",
              "    <path d=\"M0 0h24v24H0V0z\" fill=\"none\"/>\n",
              "    <path d=\"M18.56 5.44l.94 2.06.94-2.06 2.06-.94-2.06-.94-.94-2.06-.94 2.06-2.06.94zm-11 1L8.5 8.5l.94-2.06 2.06-.94-2.06-.94L8.5 2.5l-.94 2.06-2.06.94zm10 10l.94 2.06.94-2.06 2.06-.94-2.06-.94-.94-2.06-.94 2.06-2.06.94z\"/><path d=\"M17.41 7.96l-1.37-1.37c-.4-.4-.92-.59-1.43-.59-.52 0-1.04.2-1.43.59L10.3 9.45l-7.72 7.72c-.78.78-.78 2.05 0 2.83L4 21.41c.39.39.9.59 1.41.59.51 0 1.02-.2 1.41-.59l7.78-7.78 2.81-2.81c.8-.78.8-2.07 0-2.86zM5.41 20L4 18.59l7.72-7.72 1.47 1.35L5.41 20z\"/>\n",
              "  </svg>\n",
              "      </button>\n",
              "      \n",
              "  <style>\n",
              "    .colab-df-container {\n",
              "      display:flex;\n",
              "      flex-wrap:wrap;\n",
              "      gap: 12px;\n",
              "    }\n",
              "\n",
              "    .colab-df-convert {\n",
              "      background-color: #E8F0FE;\n",
              "      border: none;\n",
              "      border-radius: 50%;\n",
              "      cursor: pointer;\n",
              "      display: none;\n",
              "      fill: #1967D2;\n",
              "      height: 32px;\n",
              "      padding: 0 0 0 0;\n",
              "      width: 32px;\n",
              "    }\n",
              "\n",
              "    .colab-df-convert:hover {\n",
              "      background-color: #E2EBFA;\n",
              "      box-shadow: 0px 1px 2px rgba(60, 64, 67, 0.3), 0px 1px 3px 1px rgba(60, 64, 67, 0.15);\n",
              "      fill: #174EA6;\n",
              "    }\n",
              "\n",
              "    [theme=dark] .colab-df-convert {\n",
              "      background-color: #3B4455;\n",
              "      fill: #D2E3FC;\n",
              "    }\n",
              "\n",
              "    [theme=dark] .colab-df-convert:hover {\n",
              "      background-color: #434B5C;\n",
              "      box-shadow: 0px 1px 3px 1px rgba(0, 0, 0, 0.15);\n",
              "      filter: drop-shadow(0px 1px 2px rgba(0, 0, 0, 0.3));\n",
              "      fill: #FFFFFF;\n",
              "    }\n",
              "  </style>\n",
              "\n",
              "      <script>\n",
              "        const buttonEl =\n",
              "          document.querySelector('#df-01e54df7-eb54-4ce9-a46b-a053fcb5009d button.colab-df-convert');\n",
              "        buttonEl.style.display =\n",
              "          google.colab.kernel.accessAllowed ? 'block' : 'none';\n",
              "\n",
              "        async function convertToInteractive(key) {\n",
              "          const element = document.querySelector('#df-01e54df7-eb54-4ce9-a46b-a053fcb5009d');\n",
              "          const dataTable =\n",
              "            await google.colab.kernel.invokeFunction('convertToInteractive',\n",
              "                                                     [key], {});\n",
              "          if (!dataTable) return;\n",
              "\n",
              "          const docLinkHtml = 'Like what you see? Visit the ' +\n",
              "            '<a target=\"_blank\" href=https://colab.research.google.com/notebooks/data_table.ipynb>data table notebook</a>'\n",
              "            + ' to learn more about interactive tables.';\n",
              "          element.innerHTML = '';\n",
              "          dataTable['output_type'] = 'display_data';\n",
              "          await google.colab.output.renderOutput(dataTable, element);\n",
              "          const docLink = document.createElement('div');\n",
              "          docLink.innerHTML = docLinkHtml;\n",
              "          element.appendChild(docLink);\n",
              "        }\n",
              "      </script>\n",
              "    </div>\n",
              "  </div>\n",
              "  "
            ]
          },
          "metadata": {},
          "execution_count": 87
        }
      ]
    },
    {
      "cell_type": "code",
      "source": [
        "copy[\"destinated_area\"] = linear_pred_2018_2018\n",
        "del copy[\"Unnamed: 0\"]"
      ],
      "metadata": {
        "id": "CViBFWB9jun2"
      },
      "execution_count": 88,
      "outputs": []
    },
    {
      "cell_type": "code",
      "source": [
        "copy"
      ],
      "metadata": {
        "colab": {
          "base_uri": "https://localhost:8080/",
          "height": 424
        },
        "id": "vNCtodSgj2cu",
        "outputId": "213200f3-557c-496b-9231-7de3ca8b506a"
      },
      "execution_count": 89,
      "outputs": [
        {
          "output_type": "execute_result",
          "data": {
            "text/plain": [
              "            year         city_code product_type    product  destinated_area\n",
              "0     2018-01-01  0307883b5d063703      pasture  Livestock        93847.375\n",
              "1     2018-01-01  0307883b5d063703    permanent       Açaí         8914.750\n",
              "2     2018-01-01  0307883b5d063703    permanent     Others        -4347.250\n",
              "3     2018-01-01  0307883b5d063703    temporary    Cassava         2064.750\n",
              "4     2018-01-01  0307883b5d063703    temporary     Others        -4797.500\n",
              "...          ...               ...          ...        ...              ...\n",
              "2015  2019-01-01  fda49275fbf5caf6    permanent      Cocoa         9182.750\n",
              "2016  2019-01-01  fda49275fbf5caf6    permanent     Others         -854.250\n",
              "2017  2019-01-01  fda49275fbf5caf6    temporary      Beans         5471.625\n",
              "2018  2019-01-01  fda49275fbf5caf6    temporary    Cassava         5557.750\n",
              "2019  2019-01-01  fda49275fbf5caf6    temporary       Corn         5673.875\n",
              "\n",
              "[2020 rows x 5 columns]"
            ],
            "text/html": [
              "\n",
              "  <div id=\"df-cbbf43ad-4753-4a64-804a-d66c6fc00398\">\n",
              "    <div class=\"colab-df-container\">\n",
              "      <div>\n",
              "<style scoped>\n",
              "    .dataframe tbody tr th:only-of-type {\n",
              "        vertical-align: middle;\n",
              "    }\n",
              "\n",
              "    .dataframe tbody tr th {\n",
              "        vertical-align: top;\n",
              "    }\n",
              "\n",
              "    .dataframe thead th {\n",
              "        text-align: right;\n",
              "    }\n",
              "</style>\n",
              "<table border=\"1\" class=\"dataframe\">\n",
              "  <thead>\n",
              "    <tr style=\"text-align: right;\">\n",
              "      <th></th>\n",
              "      <th>year</th>\n",
              "      <th>city_code</th>\n",
              "      <th>product_type</th>\n",
              "      <th>product</th>\n",
              "      <th>destinated_area</th>\n",
              "    </tr>\n",
              "  </thead>\n",
              "  <tbody>\n",
              "    <tr>\n",
              "      <th>0</th>\n",
              "      <td>2018-01-01</td>\n",
              "      <td>0307883b5d063703</td>\n",
              "      <td>pasture</td>\n",
              "      <td>Livestock</td>\n",
              "      <td>93847.375</td>\n",
              "    </tr>\n",
              "    <tr>\n",
              "      <th>1</th>\n",
              "      <td>2018-01-01</td>\n",
              "      <td>0307883b5d063703</td>\n",
              "      <td>permanent</td>\n",
              "      <td>Açaí</td>\n",
              "      <td>8914.750</td>\n",
              "    </tr>\n",
              "    <tr>\n",
              "      <th>2</th>\n",
              "      <td>2018-01-01</td>\n",
              "      <td>0307883b5d063703</td>\n",
              "      <td>permanent</td>\n",
              "      <td>Others</td>\n",
              "      <td>-4347.250</td>\n",
              "    </tr>\n",
              "    <tr>\n",
              "      <th>3</th>\n",
              "      <td>2018-01-01</td>\n",
              "      <td>0307883b5d063703</td>\n",
              "      <td>temporary</td>\n",
              "      <td>Cassava</td>\n",
              "      <td>2064.750</td>\n",
              "    </tr>\n",
              "    <tr>\n",
              "      <th>4</th>\n",
              "      <td>2018-01-01</td>\n",
              "      <td>0307883b5d063703</td>\n",
              "      <td>temporary</td>\n",
              "      <td>Others</td>\n",
              "      <td>-4797.500</td>\n",
              "    </tr>\n",
              "    <tr>\n",
              "      <th>...</th>\n",
              "      <td>...</td>\n",
              "      <td>...</td>\n",
              "      <td>...</td>\n",
              "      <td>...</td>\n",
              "      <td>...</td>\n",
              "    </tr>\n",
              "    <tr>\n",
              "      <th>2015</th>\n",
              "      <td>2019-01-01</td>\n",
              "      <td>fda49275fbf5caf6</td>\n",
              "      <td>permanent</td>\n",
              "      <td>Cocoa</td>\n",
              "      <td>9182.750</td>\n",
              "    </tr>\n",
              "    <tr>\n",
              "      <th>2016</th>\n",
              "      <td>2019-01-01</td>\n",
              "      <td>fda49275fbf5caf6</td>\n",
              "      <td>permanent</td>\n",
              "      <td>Others</td>\n",
              "      <td>-854.250</td>\n",
              "    </tr>\n",
              "    <tr>\n",
              "      <th>2017</th>\n",
              "      <td>2019-01-01</td>\n",
              "      <td>fda49275fbf5caf6</td>\n",
              "      <td>temporary</td>\n",
              "      <td>Beans</td>\n",
              "      <td>5471.625</td>\n",
              "    </tr>\n",
              "    <tr>\n",
              "      <th>2018</th>\n",
              "      <td>2019-01-01</td>\n",
              "      <td>fda49275fbf5caf6</td>\n",
              "      <td>temporary</td>\n",
              "      <td>Cassava</td>\n",
              "      <td>5557.750</td>\n",
              "    </tr>\n",
              "    <tr>\n",
              "      <th>2019</th>\n",
              "      <td>2019-01-01</td>\n",
              "      <td>fda49275fbf5caf6</td>\n",
              "      <td>temporary</td>\n",
              "      <td>Corn</td>\n",
              "      <td>5673.875</td>\n",
              "    </tr>\n",
              "  </tbody>\n",
              "</table>\n",
              "<p>2020 rows × 5 columns</p>\n",
              "</div>\n",
              "      <button class=\"colab-df-convert\" onclick=\"convertToInteractive('df-cbbf43ad-4753-4a64-804a-d66c6fc00398')\"\n",
              "              title=\"Convert this dataframe to an interactive table.\"\n",
              "              style=\"display:none;\">\n",
              "        \n",
              "  <svg xmlns=\"http://www.w3.org/2000/svg\" height=\"24px\"viewBox=\"0 0 24 24\"\n",
              "       width=\"24px\">\n",
              "    <path d=\"M0 0h24v24H0V0z\" fill=\"none\"/>\n",
              "    <path d=\"M18.56 5.44l.94 2.06.94-2.06 2.06-.94-2.06-.94-.94-2.06-.94 2.06-2.06.94zm-11 1L8.5 8.5l.94-2.06 2.06-.94-2.06-.94L8.5 2.5l-.94 2.06-2.06.94zm10 10l.94 2.06.94-2.06 2.06-.94-2.06-.94-.94-2.06-.94 2.06-2.06.94z\"/><path d=\"M17.41 7.96l-1.37-1.37c-.4-.4-.92-.59-1.43-.59-.52 0-1.04.2-1.43.59L10.3 9.45l-7.72 7.72c-.78.78-.78 2.05 0 2.83L4 21.41c.39.39.9.59 1.41.59.51 0 1.02-.2 1.41-.59l7.78-7.78 2.81-2.81c.8-.78.8-2.07 0-2.86zM5.41 20L4 18.59l7.72-7.72 1.47 1.35L5.41 20z\"/>\n",
              "  </svg>\n",
              "      </button>\n",
              "      \n",
              "  <style>\n",
              "    .colab-df-container {\n",
              "      display:flex;\n",
              "      flex-wrap:wrap;\n",
              "      gap: 12px;\n",
              "    }\n",
              "\n",
              "    .colab-df-convert {\n",
              "      background-color: #E8F0FE;\n",
              "      border: none;\n",
              "      border-radius: 50%;\n",
              "      cursor: pointer;\n",
              "      display: none;\n",
              "      fill: #1967D2;\n",
              "      height: 32px;\n",
              "      padding: 0 0 0 0;\n",
              "      width: 32px;\n",
              "    }\n",
              "\n",
              "    .colab-df-convert:hover {\n",
              "      background-color: #E2EBFA;\n",
              "      box-shadow: 0px 1px 2px rgba(60, 64, 67, 0.3), 0px 1px 3px 1px rgba(60, 64, 67, 0.15);\n",
              "      fill: #174EA6;\n",
              "    }\n",
              "\n",
              "    [theme=dark] .colab-df-convert {\n",
              "      background-color: #3B4455;\n",
              "      fill: #D2E3FC;\n",
              "    }\n",
              "\n",
              "    [theme=dark] .colab-df-convert:hover {\n",
              "      background-color: #434B5C;\n",
              "      box-shadow: 0px 1px 3px 1px rgba(0, 0, 0, 0.15);\n",
              "      filter: drop-shadow(0px 1px 2px rgba(0, 0, 0, 0.3));\n",
              "      fill: #FFFFFF;\n",
              "    }\n",
              "  </style>\n",
              "\n",
              "      <script>\n",
              "        const buttonEl =\n",
              "          document.querySelector('#df-cbbf43ad-4753-4a64-804a-d66c6fc00398 button.colab-df-convert');\n",
              "        buttonEl.style.display =\n",
              "          google.colab.kernel.accessAllowed ? 'block' : 'none';\n",
              "\n",
              "        async function convertToInteractive(key) {\n",
              "          const element = document.querySelector('#df-cbbf43ad-4753-4a64-804a-d66c6fc00398');\n",
              "          const dataTable =\n",
              "            await google.colab.kernel.invokeFunction('convertToInteractive',\n",
              "                                                     [key], {});\n",
              "          if (!dataTable) return;\n",
              "\n",
              "          const docLinkHtml = 'Like what you see? Visit the ' +\n",
              "            '<a target=\"_blank\" href=https://colab.research.google.com/notebooks/data_table.ipynb>data table notebook</a>'\n",
              "            + ' to learn more about interactive tables.';\n",
              "          element.innerHTML = '';\n",
              "          dataTable['output_type'] = 'display_data';\n",
              "          await google.colab.output.renderOutput(dataTable, element);\n",
              "          const docLink = document.createElement('div');\n",
              "          docLink.innerHTML = docLinkHtml;\n",
              "          element.appendChild(docLink);\n",
              "        }\n",
              "      </script>\n",
              "    </div>\n",
              "  </div>\n",
              "  "
            ]
          },
          "metadata": {},
          "execution_count": 89
        }
      ]
    },
    {
      "cell_type": "markdown",
      "source": [
        "The cell below is in comment format, since its command is to download the final submission file."
      ],
      "metadata": {
        "id": "yBwYkEpZobP8"
      }
    },
    {
      "cell_type": "code",
      "source": [
        "# from google.colab import files\n",
        "# copy.to_csv('DG2Z8G.csv') \n",
        "# files.download('DG2Z8G.csv')"
      ],
      "metadata": {
        "id": "WtvMkxRVj4XP"
      },
      "execution_count": 90,
      "outputs": []
    }
  ]
}