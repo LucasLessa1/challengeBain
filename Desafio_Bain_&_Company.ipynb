{
  "cells": [
    {
      "cell_type": "markdown",
      "metadata": {
        "colab_type": "text",
        "id": "view-in-github"
      },
      "source": [
        "<a href=\"https://colab.research.google.com/github/LucasLessa1/challengeBain/blob/main/Desafio_Bain_%26_Company.ipynb\" target=\"_parent\"><img src=\"https://colab.research.google.com/assets/colab-badge.svg\" alt=\"Open In Colab\"/></a>"
      ]
    },
    {
      "cell_type": "markdown",
      "metadata": {
        "id": "8D0T0nLEdW1B"
      },
      "source": [
        "# **1 - Imports**\n",
        "First, we import the libraries that will be used throughout the code."
      ]
    },
    {
      "cell_type": "code",
      "execution_count": 1,
      "metadata": {
        "id": "V7IvQJ6kSQok"
      },
      "outputs": [],
      "source": [
        "import pandas as pd\n",
        "import numpy as np\n",
        "import matplotlib.pyplot as plt\n",
        "import seaborn as sns\n",
        "import datetime\n",
        "# import gdown"
      ]
    },
    {
      "cell_type": "markdown",
      "metadata": {
        "id": "P7v_O-BcdQHJ"
      },
      "source": [
        "# **2 - Pre-Processing**"
      ]
    },
    {
      "cell_type": "code",
      "execution_count": 2,
      "metadata": {
        "colab": {
          "base_uri": "https://localhost:8080/"
        },
        "id": "E7qIcXXpMhna",
        "outputId": "236b566a-275e-4fbc-b9f8-e82e77e71995"
      },
      "outputs": [],
      "source": [
        "# #download data csv\n",
        "# def download(id):\n",
        "#   url = 'https://drive.google.com/uc?id=' + str(id)\n",
        "#   gdown.download(url, output = None, quiet = False)\n",
        "\n",
        "\n",
        "# download('1ysfB1yjSXUVn-pxo2Y5mlnNJo6d9JdjG')"
      ]
    },
    {
      "cell_type": "markdown",
      "metadata": {
        "id": "wO6dflkGs8_r"
      },
      "source": [
        "Below, you can note that we used the \"delimiter\" parameter to separate the fields. Note also that the we renamed the destinated_area field, removing the extra comma."
      ]
    },
    {
      "cell_type": "code",
      "execution_count": 3,
      "metadata": {
        "colab": {
          "base_uri": "https://localhost:8080/",
          "height": 424
        },
        "id": "bt7l517gwTjd",
        "outputId": "dbb4afa1-93bf-4c7b-9aed-887fda67e882"
      },
      "outputs": [
        {
          "data": {
            "text/html": [
              "<div>\n",
              "<style scoped>\n",
              "    .dataframe tbody tr th:only-of-type {\n",
              "        vertical-align: middle;\n",
              "    }\n",
              "\n",
              "    .dataframe tbody tr th {\n",
              "        vertical-align: top;\n",
              "    }\n",
              "\n",
              "    .dataframe thead th {\n",
              "        text-align: right;\n",
              "    }\n",
              "</style>\n",
              "<table border=\"1\" class=\"dataframe\">\n",
              "  <thead>\n",
              "    <tr style=\"text-align: right;\">\n",
              "      <th></th>\n",
              "      <th>year</th>\n",
              "      <th>city_code</th>\n",
              "      <th>product_type</th>\n",
              "      <th>product</th>\n",
              "      <th>destinated_area,</th>\n",
              "    </tr>\n",
              "  </thead>\n",
              "  <tbody>\n",
              "    <tr>\n",
              "      <th>0</th>\n",
              "      <td>01/01/1974</td>\n",
              "      <td>960b4f2c94a2fb2c</td>\n",
              "      <td>temporary</td>\n",
              "      <td>Others</td>\n",
              "      <td>0,</td>\n",
              "    </tr>\n",
              "    <tr>\n",
              "      <th>1</th>\n",
              "      <td>01/01/1974</td>\n",
              "      <td>746cc42bfb8f6b62</td>\n",
              "      <td>temporary</td>\n",
              "      <td>Others</td>\n",
              "      <td>0,</td>\n",
              "    </tr>\n",
              "    <tr>\n",
              "      <th>2</th>\n",
              "      <td>01/01/1974</td>\n",
              "      <td>6cce2bf873870afc</td>\n",
              "      <td>temporary</td>\n",
              "      <td>Others</td>\n",
              "      <td>0,</td>\n",
              "    </tr>\n",
              "    <tr>\n",
              "      <th>3</th>\n",
              "      <td>01/01/1974</td>\n",
              "      <td>4de42e351006a2ae</td>\n",
              "      <td>temporary</td>\n",
              "      <td>Others</td>\n",
              "      <td>0,</td>\n",
              "    </tr>\n",
              "    <tr>\n",
              "      <th>4</th>\n",
              "      <td>01/01/1974</td>\n",
              "      <td>5b6072f8f6d37acc</td>\n",
              "      <td>temporary</td>\n",
              "      <td>Others</td>\n",
              "      <td>0,</td>\n",
              "    </tr>\n",
              "    <tr>\n",
              "      <th>...</th>\n",
              "      <td>...</td>\n",
              "      <td>...</td>\n",
              "      <td>...</td>\n",
              "      <td>...</td>\n",
              "      <td>...</td>\n",
              "    </tr>\n",
              "    <tr>\n",
              "      <th>73739</th>\n",
              "      <td>01/01/2013</td>\n",
              "      <td>74d75dde6dc4a5ec</td>\n",
              "      <td>pasture</td>\n",
              "      <td>Livestock</td>\n",
              "      <td>150866,5644</td>\n",
              "    </tr>\n",
              "    <tr>\n",
              "      <th>73740</th>\n",
              "      <td>01/01/2014</td>\n",
              "      <td>74d75dde6dc4a5ec</td>\n",
              "      <td>pasture</td>\n",
              "      <td>Livestock</td>\n",
              "      <td>152446,396</td>\n",
              "    </tr>\n",
              "    <tr>\n",
              "      <th>73741</th>\n",
              "      <td>01/01/2015</td>\n",
              "      <td>74d75dde6dc4a5ec</td>\n",
              "      <td>pasture</td>\n",
              "      <td>Livestock</td>\n",
              "      <td>154681,0205</td>\n",
              "    </tr>\n",
              "    <tr>\n",
              "      <th>73742</th>\n",
              "      <td>01/01/2016</td>\n",
              "      <td>74d75dde6dc4a5ec</td>\n",
              "      <td>pasture</td>\n",
              "      <td>Livestock</td>\n",
              "      <td>164706,2778</td>\n",
              "    </tr>\n",
              "    <tr>\n",
              "      <th>73743</th>\n",
              "      <td>01/01/2017</td>\n",
              "      <td>74d75dde6dc4a5ec</td>\n",
              "      <td>pasture</td>\n",
              "      <td>Livestock</td>\n",
              "      <td>165220,8728</td>\n",
              "    </tr>\n",
              "  </tbody>\n",
              "</table>\n",
              "<p>73744 rows × 5 columns</p>\n",
              "</div>"
            ],
            "text/plain": [
              "             year         city_code product_type    product destinated_area,\n",
              "0      01/01/1974  960b4f2c94a2fb2c    temporary     Others               0,\n",
              "1      01/01/1974  746cc42bfb8f6b62    temporary     Others               0,\n",
              "2      01/01/1974  6cce2bf873870afc    temporary     Others               0,\n",
              "3      01/01/1974  4de42e351006a2ae    temporary     Others               0,\n",
              "4      01/01/1974  5b6072f8f6d37acc    temporary     Others               0,\n",
              "...           ...               ...          ...        ...              ...\n",
              "73739  01/01/2013  74d75dde6dc4a5ec      pasture  Livestock      150866,5644\n",
              "73740  01/01/2014  74d75dde6dc4a5ec      pasture  Livestock       152446,396\n",
              "73741  01/01/2015  74d75dde6dc4a5ec      pasture  Livestock      154681,0205\n",
              "73742  01/01/2016  74d75dde6dc4a5ec      pasture  Livestock      164706,2778\n",
              "73743  01/01/2017  74d75dde6dc4a5ec      pasture  Livestock      165220,8728\n",
              "\n",
              "[73744 rows x 5 columns]"
            ]
          },
          "execution_count": 3,
          "metadata": {},
          "output_type": "execute_result"
        }
      ],
      "source": [
        "df = pd.read_csv('data/historical-database.csv', delimiter=\";\")\n",
        "df.rename(columns={'destinated_area':'destinated_area'}, inplace = True)\n",
        "df"
      ]
    },
    {
      "cell_type": "markdown",
      "metadata": {
        "id": "p8avSVDgt50F"
      },
      "source": [
        "When we import the data, all data types were designated as objects (mostly mixed numeric and non-numeric data type)."
      ]
    },
    {
      "cell_type": "code",
      "execution_count": 4,
      "metadata": {
        "colab": {
          "base_uri": "https://localhost:8080/"
        },
        "id": "1tjSM_CJtnY7",
        "outputId": "4f167592-0d3b-4096-c623-ca40290f866d"
      },
      "outputs": [
        {
          "data": {
            "text/plain": [
              "year                object\n",
              "city_code           object\n",
              "product_type        object\n",
              "product             object\n",
              "destinated_area,    object\n",
              "dtype: object"
            ]
          },
          "execution_count": 4,
          "metadata": {},
          "output_type": "execute_result"
        }
      ],
      "source": [
        "df.dtypes"
      ]
    },
    {
      "cell_type": "markdown",
      "metadata": {
        "id": "d_ZeCOPtuZzT"
      },
      "source": [
        "But to do some treatment, we change the data type to string."
      ]
    },
    {
      "cell_type": "code",
      "execution_count": 5,
      "metadata": {
        "id": "wm-JOjt4qeSe"
      },
      "outputs": [],
      "source": [
        "df = df.astype(str)"
      ]
    },
    {
      "cell_type": "markdown",
      "metadata": {
        "id": "D2YdBCzQu7Fr"
      },
      "source": [
        "We noticed that some values were just commas, so we just interpreted them as empty, replacing them with NaN (not a number)."
      ]
    },
    {
      "cell_type": "code",
      "execution_count": 6,
      "metadata": {
        "colab": {
          "base_uri": "https://localhost:8080/"
        },
        "id": "f3cTJ7rVzAaV",
        "outputId": "43fd42db-98b5-42ed-adbe-bd42019cb990"
      },
      "outputs": [
        {
          "ename": "KeyError",
          "evalue": "'destinated_area'",
          "output_type": "error",
          "traceback": [
            "\u001b[1;31m---------------------------------------------------------------------------\u001b[0m",
            "\u001b[1;31mKeyError\u001b[0m                                  Traceback (most recent call last)",
            "File \u001b[1;32mc:\\Users\\lucas\\AppData\\Local\\anaconda3\\envs\\bain_env\\lib\\site-packages\\pandas\\core\\indexes\\base.py:3361\u001b[0m, in \u001b[0;36mIndex.get_loc\u001b[1;34m(self, key, method, tolerance)\u001b[0m\n\u001b[0;32m   3360\u001b[0m \u001b[38;5;28;01mtry\u001b[39;00m:\n\u001b[1;32m-> 3361\u001b[0m     \u001b[38;5;28;01mreturn\u001b[39;00m \u001b[38;5;28;43mself\u001b[39;49m\u001b[38;5;241;43m.\u001b[39;49m\u001b[43m_engine\u001b[49m\u001b[38;5;241;43m.\u001b[39;49m\u001b[43mget_loc\u001b[49m\u001b[43m(\u001b[49m\u001b[43mcasted_key\u001b[49m\u001b[43m)\u001b[49m\n\u001b[0;32m   3362\u001b[0m \u001b[38;5;28;01mexcept\u001b[39;00m \u001b[38;5;167;01mKeyError\u001b[39;00m \u001b[38;5;28;01mas\u001b[39;00m err:\n",
            "File \u001b[1;32mc:\\Users\\lucas\\AppData\\Local\\anaconda3\\envs\\bain_env\\lib\\site-packages\\pandas\\_libs\\index.pyx:76\u001b[0m, in \u001b[0;36mpandas._libs.index.IndexEngine.get_loc\u001b[1;34m()\u001b[0m\n",
            "File \u001b[1;32mc:\\Users\\lucas\\AppData\\Local\\anaconda3\\envs\\bain_env\\lib\\site-packages\\pandas\\_libs\\index.pyx:108\u001b[0m, in \u001b[0;36mpandas._libs.index.IndexEngine.get_loc\u001b[1;34m()\u001b[0m\n",
            "File \u001b[1;32mpandas\\_libs\\hashtable_class_helper.pxi:5198\u001b[0m, in \u001b[0;36mpandas._libs.hashtable.PyObjectHashTable.get_item\u001b[1;34m()\u001b[0m\n",
            "File \u001b[1;32mpandas\\_libs\\hashtable_class_helper.pxi:5206\u001b[0m, in \u001b[0;36mpandas._libs.hashtable.PyObjectHashTable.get_item\u001b[1;34m()\u001b[0m\n",
            "\u001b[1;31mKeyError\u001b[0m: 'destinated_area'",
            "\nThe above exception was the direct cause of the following exception:\n",
            "\u001b[1;31mKeyError\u001b[0m                                  Traceback (most recent call last)",
            "Cell \u001b[1;32mIn[6], line 1\u001b[0m\n\u001b[1;32m----> 1\u001b[0m df\u001b[38;5;241m.\u001b[39mloc[\u001b[43mdf\u001b[49m\u001b[43m[\u001b[49m\u001b[38;5;124;43m'\u001b[39;49m\u001b[38;5;124;43mdestinated_area\u001b[39;49m\u001b[38;5;124;43m'\u001b[39;49m\u001b[43m]\u001b[49m \u001b[38;5;241m==\u001b[39m \u001b[38;5;124m\"\u001b[39m\u001b[38;5;124m,\u001b[39m\u001b[38;5;124m\"\u001b[39m, \u001b[38;5;124m'\u001b[39m\u001b[38;5;124mdestinated_area\u001b[39m\u001b[38;5;124m'\u001b[39m] \u001b[38;5;241m=\u001b[39m np\u001b[38;5;241m.\u001b[39mnan\n\u001b[0;32m      2\u001b[0m df[\u001b[38;5;124m'\u001b[39m\u001b[38;5;124mdestinated_area\u001b[39m\u001b[38;5;124m'\u001b[39m]\u001b[38;5;241m.\u001b[39misna()\u001b[38;5;241m.\u001b[39msum()\n",
            "File \u001b[1;32mc:\\Users\\lucas\\AppData\\Local\\anaconda3\\envs\\bain_env\\lib\\site-packages\\pandas\\core\\frame.py:3458\u001b[0m, in \u001b[0;36mDataFrame.__getitem__\u001b[1;34m(self, key)\u001b[0m\n\u001b[0;32m   3456\u001b[0m \u001b[38;5;28;01mif\u001b[39;00m \u001b[38;5;28mself\u001b[39m\u001b[38;5;241m.\u001b[39mcolumns\u001b[38;5;241m.\u001b[39mnlevels \u001b[38;5;241m>\u001b[39m \u001b[38;5;241m1\u001b[39m:\n\u001b[0;32m   3457\u001b[0m     \u001b[38;5;28;01mreturn\u001b[39;00m \u001b[38;5;28mself\u001b[39m\u001b[38;5;241m.\u001b[39m_getitem_multilevel(key)\n\u001b[1;32m-> 3458\u001b[0m indexer \u001b[38;5;241m=\u001b[39m \u001b[38;5;28;43mself\u001b[39;49m\u001b[38;5;241;43m.\u001b[39;49m\u001b[43mcolumns\u001b[49m\u001b[38;5;241;43m.\u001b[39;49m\u001b[43mget_loc\u001b[49m\u001b[43m(\u001b[49m\u001b[43mkey\u001b[49m\u001b[43m)\u001b[49m\n\u001b[0;32m   3459\u001b[0m \u001b[38;5;28;01mif\u001b[39;00m is_integer(indexer):\n\u001b[0;32m   3460\u001b[0m     indexer \u001b[38;5;241m=\u001b[39m [indexer]\n",
            "File \u001b[1;32mc:\\Users\\lucas\\AppData\\Local\\anaconda3\\envs\\bain_env\\lib\\site-packages\\pandas\\core\\indexes\\base.py:3363\u001b[0m, in \u001b[0;36mIndex.get_loc\u001b[1;34m(self, key, method, tolerance)\u001b[0m\n\u001b[0;32m   3361\u001b[0m         \u001b[38;5;28;01mreturn\u001b[39;00m \u001b[38;5;28mself\u001b[39m\u001b[38;5;241m.\u001b[39m_engine\u001b[38;5;241m.\u001b[39mget_loc(casted_key)\n\u001b[0;32m   3362\u001b[0m     \u001b[38;5;28;01mexcept\u001b[39;00m \u001b[38;5;167;01mKeyError\u001b[39;00m \u001b[38;5;28;01mas\u001b[39;00m err:\n\u001b[1;32m-> 3363\u001b[0m         \u001b[38;5;28;01mraise\u001b[39;00m \u001b[38;5;167;01mKeyError\u001b[39;00m(key) \u001b[38;5;28;01mfrom\u001b[39;00m \u001b[38;5;21;01merr\u001b[39;00m\n\u001b[0;32m   3365\u001b[0m \u001b[38;5;28;01mif\u001b[39;00m is_scalar(key) \u001b[38;5;129;01mand\u001b[39;00m isna(key) \u001b[38;5;129;01mand\u001b[39;00m \u001b[38;5;129;01mnot\u001b[39;00m \u001b[38;5;28mself\u001b[39m\u001b[38;5;241m.\u001b[39mhasnans:\n\u001b[0;32m   3366\u001b[0m     \u001b[38;5;28;01mraise\u001b[39;00m \u001b[38;5;167;01mKeyError\u001b[39;00m(key)\n",
            "\u001b[1;31mKeyError\u001b[0m: 'destinated_area'"
          ]
        }
      ],
      "source": [
        "df.loc[df['destinated_area'] == \",\", 'destinated_area'] = np.nan\n",
        "df['destinated_area'].isna().sum()"
      ]
    },
    {
      "cell_type": "markdown",
      "metadata": {
        "id": "ubLqSnjsvpuL"
      },
      "source": [
        "For now on, we continued to treat weird values, such as \"0,\" and changing commas to dots."
      ]
    },
    {
      "cell_type": "code",
      "execution_count": null,
      "metadata": {
        "id": "Zef4JFJXCK0d"
      },
      "outputs": [],
      "source": [
        "df['destinated_area'] = df['destinated_area'].replace(['0,'], '0')\n",
        "destinated_area = df['destinated_area'].to_list()\n",
        "destinated_area = [\n",
        "    item if isinstance(item, float) else item.replace(\",\", \".\")\n",
        "    for item in destinated_area\n",
        "]\n",
        "df['destinated_area'] = destinated_area"
      ]
    },
    {
      "cell_type": "markdown",
      "metadata": {
        "id": "YzmMsppYwCZM"
      },
      "source": [
        "Then, we change some data types to float (when that should be the case), or to date values."
      ]
    },
    {
      "cell_type": "code",
      "execution_count": null,
      "metadata": {
        "id": "ww7FeQ3-ERpz"
      },
      "outputs": [],
      "source": [
        "df['destinated_area'] = df['destinated_area'].astype(float)"
      ]
    },
    {
      "cell_type": "code",
      "execution_count": null,
      "metadata": {
        "id": "SxZAqmBRAfFj"
      },
      "outputs": [],
      "source": [
        "column_mean = df[\"destinated_area\"].mean()\n",
        "df['destinated_area'] = df['destinated_area'].fillna(column_mean)"
      ]
    },
    {
      "cell_type": "code",
      "execution_count": null,
      "metadata": {
        "colab": {
          "base_uri": "https://localhost:8080/"
        },
        "id": "jn76D0z9J5lz",
        "outputId": "2e3f859a-6f79-44a8-e6ab-c9e363713f66"
      },
      "outputs": [],
      "source": [
        "(df == 0).sum()"
      ]
    },
    {
      "cell_type": "code",
      "execution_count": null,
      "metadata": {
        "id": "CZwFwmvzh8K4"
      },
      "outputs": [],
      "source": [
        "df['date'] = pd.to_datetime(df['year'], format=\"%d/%m/%Y\")"
      ]
    },
    {
      "cell_type": "code",
      "execution_count": null,
      "metadata": {
        "id": "oT8cC-cqg_fQ"
      },
      "outputs": [],
      "source": [
        "df['year'] = pd.DatetimeIndex(df['date']).year"
      ]
    },
    {
      "cell_type": "markdown",
      "metadata": {
        "id": "QFMSrIw6wSf2"
      },
      "source": [
        "The final result of the treatment is the below dataframe and data types."
      ]
    },
    {
      "cell_type": "code",
      "execution_count": null,
      "metadata": {
        "colab": {
          "base_uri": "https://localhost:8080/"
        },
        "id": "9F9PHinewapT",
        "outputId": "073152bd-ca16-4846-e90b-cc0647e7ded5"
      },
      "outputs": [],
      "source": [
        "df.dtypes"
      ]
    },
    {
      "cell_type": "code",
      "execution_count": null,
      "metadata": {
        "colab": {
          "base_uri": "https://localhost:8080/",
          "height": 424
        },
        "id": "GdsP6aoUwo0T",
        "outputId": "940f24fb-40bd-4f0e-86fd-8b5b0e4341df"
      },
      "outputs": [],
      "source": [
        "df"
      ]
    },
    {
      "cell_type": "markdown",
      "metadata": {
        "id": "Y_Ihqde_IWp3"
      },
      "source": [
        "# **3 - Importing other databases**"
      ]
    },
    {
      "cell_type": "markdown",
      "metadata": {
        "id": "KjdjjLQ-wsfs"
      },
      "source": [
        "The .csv file provided by Bain contains only the date, city_code, product_type, product and destination_area fields, one of which is a hash. The group understands that this file is sufficient to make predictions. However, in search of a more accurate result, it would be interesting to aggregate other data sources in the bain dataframe. So it was done.\n",
        "\n",
        "In this section, data on **livestock**, **weather**, **humidity** and **products** from Paraná are added to the dataframe."
      ]
    },
    {
      "cell_type": "code",
      "execution_count": null,
      "metadata": {
        "colab": {
          "base_uri": "https://localhost:8080/"
        },
        "id": "lY9hdW2SFXd1",
        "outputId": "1b489d24-1dc0-4ed3-af41-4a5f85a5721a"
      },
      "outputs": [],
      "source": [
        "download(\"1uQnV90A0SAFT1KxwjjUOBX4W9zkbZ-Vd\") #https://drive.google.com/file/d/1uQnV90A0SAFT1KxwjjUOBX4W9zkbZ-Vd/view?usp=sharing\n",
        "download('1RII2akbU72zngbRdUpFGIakxcmRoqTPN') #https://drive.google.com/file/d/1RII2akbU72zngbRdUpFGIakxcmRoqTPN/view?usp=sharing\n",
        "download('1EY28_qJTSq8e0JHEfbeADPSkFCp2kV-T') #https://drive.google.com/file/d/1EY28_qJTSq8e0JHEfbeADPSkFCp2kV-T/view?usp=sharing"
      ]
    },
    {
      "cell_type": "code",
      "execution_count": null,
      "metadata": {
        "id": "Wshwq3z7Ge8N"
      },
      "outputs": [],
      "source": [
        "df_products = pd.read_csv(\"/content/products_final.csv\")\n",
        "df_met = pd.read_csv(\"/content/Meteorologia.csv\")\n",
        "df_umidade = pd.read_csv(\"/content/umidade.csv\")"
      ]
    },
    {
      "cell_type": "markdown",
      "metadata": {
        "id": "PJy42iCr2jpu"
      },
      "source": [
        "We start treating the new product data to our main dataframe."
      ]
    },
    {
      "cell_type": "code",
      "execution_count": null,
      "metadata": {
        "id": "Eub6xVlnHWxN"
      },
      "outputs": [],
      "source": [
        "# Droping unnecessary fields.\n",
        "del df_products['Quantidade produzida (mil frutos)']\n",
        "del df_products['Rendimento médio da produção (mil frutos por Hectare)']\n",
        "del df_products[\"index\"]"
      ]
    },
    {
      "cell_type": "markdown",
      "metadata": {
        "id": "eQo3PjUi2wou"
      },
      "source": [
        "Next, we create a dictionary to unite the main dataframe product types (from Bain) with the new product data."
      ]
    },
    {
      "cell_type": "code",
      "execution_count": null,
      "metadata": {
        "id": "7Fd9cFeTNbXZ"
      },
      "outputs": [],
      "source": [
        "di = {\n",
        "    \"Arroz\": \"Rice\", \"Cacau\": \"Cocoa\", \"Soja\": \"Soy\", \"Feijão\":\"Beans\", \n",
        "    \"Coco\":\"Others\", \"Mandioca\":\"Cassava\",\"Milho\":\"Corn\",\"Maracujá\":\"Others\", \n",
        "    \"Café\":\"Others\", \"Borracha\":\"Others\" ,\"Mamão\":\"Others\", \"Limão\":\"Others\", \n",
        "    \"Algodão arbóreo\":\"Others\", \"Algodão herbáceo\":\"Others\" ,\"Sorgo\":\"Sorghum\",\n",
        "    \"Cacau\":\"Cocoa\", \"Dendê\":\"Palm oil\", \"Açaí\":\"Açaí\", \"Outros\":\"Others\"\n",
        "}\n",
        "df_products['Produto'].replace(di, inplace=True)"
      ]
    },
    {
      "cell_type": "code",
      "execution_count": null,
      "metadata": {
        "colab": {
          "base_uri": "https://localhost:8080/"
        },
        "id": "xagaOL_1OK2Y",
        "outputId": "4d76ab69-cdea-4176-8678-4b94c9385abe"
      },
      "outputs": [],
      "source": [
        "df_products = df_products[df_products['Produto'] != \"Others\"]\n",
        "df_products['Produto'].value_counts()"
      ]
    },
    {
      "cell_type": "code",
      "execution_count": null,
      "metadata": {
        "id": "PzxblX4TLVZY"
      },
      "outputs": [],
      "source": [
        "index = []\n",
        "x, y = df_met.shape\n",
        "\n",
        "for i in range(0, x, 1):\n",
        "    index.append(i)\n",
        "\n",
        "df_met.insert(0, \"Unnamed: 0\", index, allow_duplicates=False)"
      ]
    },
    {
      "cell_type": "markdown",
      "metadata": {
        "id": "FOWnvxi430r9"
      },
      "source": [
        "Here, we merge both meteorology and Bain dataframes by the year fileds. For such, we will first create a year column, and then merge."
      ]
    },
    {
      "cell_type": "code",
      "execution_count": null,
      "metadata": {
        "id": "tXCdwwirWAk6"
      },
      "outputs": [],
      "source": [
        "df_met['date'] = pd.to_datetime(df_met['DATA..YYYY.MM.DD.'], format=\"%Y/%m/%d\")\n",
        "df_met['DATA..YYYY.MM.DD.'] = pd.DatetimeIndex(df_met['date']).year\n",
        "df_met.rename(columns={'DATA..YYYY.MM.DD.':'Ano'}, inplace=True)"
      ]
    },
    {
      "cell_type": "code",
      "execution_count": null,
      "metadata": {
        "id": "bN7PBUMuh09N"
      },
      "outputs": [],
      "source": [
        "df_met = df_met.replace(-9999.0, np.NaN)\n",
        "df_met = df_met.groupby('Ano', as_index=False).mean()\n",
        "df_met.rename(columns={'Ano':'year'}, inplace=True)"
      ]
    },
    {
      "cell_type": "code",
      "execution_count": null,
      "metadata": {
        "id": "PxCcTWs68OtM"
      },
      "outputs": [],
      "source": [
        "df_merge = df_umidade.merge(df_products, on=\"Ano\", how='left')\n",
        "df_merge.rename(columns={'Ano':'year'}, inplace=True)\n",
        "\n",
        "df_merge = df_merge.merge(df_met, on=\"year\", how='left')\n",
        "df_merge = df_merge.merge(df, on=\"year\", how='left')\n",
        "\n",
        "pred_2018 = df_merge[df_merge['year'] == 2018]\n",
        "pred_2019 = df_merge[df_merge['year'] == 2019]"
      ]
    },
    {
      "cell_type": "markdown",
      "metadata": {
        "id": "5sSKjg4m8Pwd"
      },
      "source": [
        "Deleting unnecessary fields, renaming others."
      ]
    },
    {
      "cell_type": "code",
      "execution_count": null,
      "metadata": {
        "id": "PQENADzrUAaw"
      },
      "outputs": [],
      "source": [
        "del pred_2018['Unnamed: 0_x']\n",
        "del pred_2018['Unnamed: 0_y']\n",
        "del pred_2018['X']\n",
        "del pred_2018['date']\n",
        "del pred_2018['product']\n",
        "\n",
        "del pred_2019['Unnamed: 0_x']\n",
        "del pred_2019['Unnamed: 0_y']\n",
        "del pred_2019['X']\n",
        "del pred_2019['date']\n",
        "del pred_2019['product']\n",
        "\n",
        "pred_2018 = pred_2018.drop([\"city_code\", \"destinated_area\"], axis=1)\n",
        "pred_2019 = pred_2019.drop([\"city_code\", \"destinated_area\"], axis=1)\n",
        "pred_2018.rename(columns={'Produto':'product'}, inplace=True)\n",
        "pred_2019.rename(columns={'Produto':'product'}, inplace=True)"
      ]
    },
    {
      "cell_type": "markdown",
      "metadata": {
        "id": "FUs8tQhOZu0E"
      },
      "source": [
        "Adding the products witch is not in our dataset."
      ]
    },
    {
      "cell_type": "code",
      "execution_count": null,
      "metadata": {
        "colab": {
          "base_uri": "https://localhost:8080/"
        },
        "id": "9hLmB1X5fqAF",
        "outputId": "dd38b4bc-6c9e-4979-e1b3-b2bed96437e3"
      },
      "outputs": [],
      "source": [
        "df.groupby(\"product\")[\"product_type\"].unique()"
      ]
    },
    {
      "cell_type": "code",
      "execution_count": null,
      "metadata": {
        "id": "AlaYx2lpXO1U"
      },
      "outputs": [],
      "source": [
        "# 2018\n",
        "new_others = pd.Series(data={\"product\":\"Others\", \"product_type\":\"temporary\"}, name='10')\n",
        "new_livestock = pd.Series(data={\"product\":\"Livestock\", \"product_type\":\"pasture\"}, name='11')\n",
        "\n",
        "pred_2018 = pred_2018.append(new_others, ignore_index=True)\n",
        "pred_2018 = pred_2018.append(new_livestock, ignore_index=True)\n",
        "\n",
        "\n",
        "# 2019\n",
        "new_others = pd.Series(data={\"product\":\"Others\", \"product_type\":\"temporary\"}, name='10')\n",
        "new_livestock = pd.Series(data={\"product\":\"Livestock\", \"product_type\":\"pasture\"}, name='11')\n",
        "\n",
        "pred_2019 = pred_2019.append(new_others, ignore_index=True)\n",
        "pred_2019 = pred_2019.append(new_livestock, ignore_index=True)"
      ]
    },
    {
      "cell_type": "code",
      "execution_count": null,
      "metadata": {
        "colab": {
          "base_uri": "https://localhost:8080/"
        },
        "id": "wGpNUak1ljuF",
        "outputId": "2caaf003-fc83-4e24-f76c-ad6abd53cf57"
      },
      "outputs": [],
      "source": [
        "pred_2018.fillna(pred_2018.mean(), inplace=True)\n",
        "pred_2019.fillna(pred_2019.mean(), inplace=True)"
      ]
    },
    {
      "cell_type": "markdown",
      "metadata": {
        "id": "Scj5et01cKLh"
      },
      "source": [
        "Merging original dataframe with aditional datasets"
      ]
    },
    {
      "cell_type": "code",
      "execution_count": null,
      "metadata": {
        "id": "ri8LDcFhcmCS"
      },
      "outputs": [],
      "source": [
        "df_products.rename(columns={'Ano':'year', 'Produto':'product'}, inplace=True)"
      ]
    },
    {
      "cell_type": "code",
      "execution_count": null,
      "metadata": {
        "id": "0hXrWIggcSXo"
      },
      "outputs": [],
      "source": [
        "df_with_products = df.merge(df_products, on=[\"year\", \"product\"], how=\"left\")"
      ]
    },
    {
      "cell_type": "code",
      "execution_count": null,
      "metadata": {
        "id": "rLvOcOjfdR5Y"
      },
      "outputs": [],
      "source": [
        "df_total = df_with_products.merge(df_met, on=\"year\", how=\"left\")"
      ]
    },
    {
      "cell_type": "code",
      "execution_count": null,
      "metadata": {
        "id": "BCZBa38pIQ5g"
      },
      "outputs": [],
      "source": [
        "del df_total['Unnamed: 0_x']\n",
        "del df_total['Unnamed: 0_y']\n",
        "del df_total['X']\n",
        "del df_total['date']"
      ]
    },
    {
      "cell_type": "code",
      "execution_count": null,
      "metadata": {
        "colab": {
          "base_uri": "https://localhost:8080/",
          "height": 574
        },
        "id": "OwmtH78t9DaO",
        "outputId": "496ce371-952c-4940-c4be-56df94c4bc1c"
      },
      "outputs": [],
      "source": [
        "from sklearn.preprocessing import OneHotEncoder\n",
        "\n",
        "encoder = OneHotEncoder(handle_unknown='ignore')\n",
        "\n",
        "# Perform one-hot encoding on 'team' column \n",
        "encoder_df = pd.DataFrame(encoder.fit_transform(df_total[['product', \"product_type\"]]).toarray())\n",
        "\n",
        "# Merge one-hot encoded columns back with original DataFrame\n",
        "final_df = df_total.join(encoder_df)\n",
        "\n",
        "final_df"
      ]
    },
    {
      "cell_type": "code",
      "execution_count": null,
      "metadata": {
        "id": "5x-N-282S3gg"
      },
      "outputs": [],
      "source": [
        "final_df = final_df.rename(columns={\n",
        "    13: 'product type: temporary', 12: 'product type: permanent',\n",
        "    11:'product type: pasture', 10:'soy', 9:'sorghum', 8:'rice', \n",
        "    7:'palm oil', 6:'others', 5:'livestock', 4:'corn', 3:'cocoa', \n",
        "    2:'cassava', 1:'beans', 0:'açaí'\n",
        "}\n",
        ")"
      ]
    },
    {
      "cell_type": "markdown",
      "metadata": {
        "id": "Rhl8xFkHVu23"
      },
      "source": [
        "Here, we will perform One Hot Enconding. One hot encoding can be defined as the essential process of converting the categorical data variables to be provided to machine and deep learning algorithms which in turn improve predictions as well as classification accuracy of a model. Here, we are applying it on \"team\" column."
      ]
    },
    {
      "cell_type": "code",
      "execution_count": null,
      "metadata": {
        "id": "XWTR0fGydY0_"
      },
      "outputs": [],
      "source": [
        "from sklearn.preprocessing import OneHotEncoder\n",
        "\n",
        "encoder = OneHotEncoder(handle_unknown='ignore')\n",
        "\n",
        "# Perform one-hot encoding on 'team' column\n",
        "encoder_df = pd.DataFrame(encoder.fit_transform(\n",
        "                          pred_2018[['product', \"product_type\"]]).toarray()\n",
        "                          )\n",
        "\n",
        "# Merge one-hot encoded columns back with original DataFrame\n",
        "pred_2018 = pred_2018.join(encoder_df)\n",
        "\n",
        "encoder_df = pd.DataFrame(encoder.fit_transform(\n",
        "                          pred_2019[['product', \"product_type\"]]).toarray()\n",
        "                          )\n",
        "\n",
        "pred_2019 = pred_2019.join(encoder_df)"
      ]
    },
    {
      "cell_type": "code",
      "execution_count": null,
      "metadata": {
        "id": "Tfui2dF7dqC-"
      },
      "outputs": [],
      "source": [
        "pred_2019 = pred_2019.rename(columns={\n",
        "    13: 'product type: temporary', 12: 'product type: permanent',\n",
        "    11:'product type: pasture',10:'soy', 9:'sorghum', 8:'rice',7:'palm oil', 6:'others',\n",
        "    5:'livestock',4:'corn',3:'cocoa', 2:'cassava', 1:'beans',0:'açaí'\n",
        "}\n",
        ")"
      ]
    },
    {
      "cell_type": "code",
      "execution_count": null,
      "metadata": {
        "id": "XLFih7b6dyC0"
      },
      "outputs": [],
      "source": [
        "pred_2018 = pred_2018.rename(columns={\n",
        "    13: 'product type: temporary', 12: 'product type: permanent',\n",
        "    11:'product type: pasture',10:'soy', 9:'sorghum', 8:'rice',7:'palm oil', 6:'others',\n",
        "    5:'livestock',4:'corn',3:'cocoa', 2:'cassava', 1:'beans',0:'açaí'\n",
        "    })"
      ]
    },
    {
      "cell_type": "code",
      "execution_count": null,
      "metadata": {
        "id": "I-S_oRvu93Dv"
      },
      "outputs": [],
      "source": [
        "df_total = final_df"
      ]
    },
    {
      "cell_type": "code",
      "execution_count": null,
      "metadata": {
        "id": "fwxULW-15ikG"
      },
      "outputs": [],
      "source": [
        "# columns = df_total.columns.drop([\"city_code\", \"product_type\", \"product\"])"
      ]
    },
    {
      "cell_type": "code",
      "execution_count": null,
      "metadata": {
        "id": "RWsxFz9I27WQ"
      },
      "outputs": [],
      "source": [
        "# Removing Nan values\n",
        "df_total = df_total.dropna()"
      ]
    },
    {
      "cell_type": "code",
      "execution_count": null,
      "metadata": {
        "id": "Epb9s3G6-Uuw"
      },
      "outputs": [],
      "source": [
        "df_total = df_total[df_total['year'] >= 2000]\n",
        "df_total = df_total[df_total['year'] <= 2017]"
      ]
    },
    {
      "cell_type": "markdown",
      "metadata": {
        "id": "6Romai4JFTU6"
      },
      "source": [
        "# **4 - Implementing XGBoost**"
      ]
    },
    {
      "cell_type": "markdown",
      "metadata": {
        "id": "c0cTBlXzWVim"
      },
      "source": [
        "NVIDIA defines XGBoost as such: \"XGBoost, which stands for Extreme Gradient Boosting, is a scalable, distributed gradient-boosted decision tree (GBDT) machine learning library. It provides parallel tree boosting and is the leading machine learning library for regression, classification, and ranking problems.\"\n",
        "\n",
        "\n",
        "In this section, we will seek to apply XGBoost to our final dataset, which comprises both Bain data and external data that the group sought."
      ]
    },
    {
      "cell_type": "markdown",
      "metadata": {
        "id": "bK-yQYpaVDaS"
      },
      "source": [
        "https://debuggercafe.com/a-guide-to-xgboost-in-python/\n",
        "\n",
        "https://xgboost.readthedocs.io/en/stable/python/python_intro.html\n",
        "\n",
        "https://machinelearningmastery.com/data-preparation-gradient-boosting-xgboost-python/\n",
        "\n",
        "https://medium.com/towards-data-science/xgboost-predicting-life-expectancy-with-supervised-learning-1f61e0222f5f"
      ]
    },
    {
      "cell_type": "markdown",
      "metadata": {
        "id": "ArzsiXY8YYJB"
      },
      "source": [
        "We decided to use XGBoost because it gained significant favor in the last few years as a result of winning Kagle competitions on regression and prediction data. "
      ]
    },
    {
      "cell_type": "code",
      "execution_count": null,
      "metadata": {
        "id": "TW-y8rK_FYrT"
      },
      "outputs": [],
      "source": [
        "import xgboost as xgb\n",
        "import matplotlib.pyplot as plt\n",
        "from sklearn.preprocessing import LabelEncoder\n",
        "from sklearn.metrics import accuracy_score\n",
        "from sklearn.model_selection import train_test_split"
      ]
    },
    {
      "cell_type": "markdown",
      "metadata": {
        "id": "5jbVpnS1W0M3"
      },
      "source": [
        "Here, we are defining all the features that we could use in our algorithm. Although, not all are gonna be used."
      ]
    },
    {
      "cell_type": "code",
      "execution_count": null,
      "metadata": {
        "id": "3mjjkxLW3-nx"
      },
      "outputs": [],
      "source": [
        "label = df_total[\"destinated_area\"]\n",
        "features = df_total.drop([\n",
        "    \"destinated_area\", \"city_code\", \"product_type\",\n",
        "    \"product\", \"year\"], axis=1)"
      ]
    },
    {
      "cell_type": "code",
      "execution_count": null,
      "metadata": {
        "colab": {
          "base_uri": "https://localhost:8080/"
        },
        "id": "pIfWzxfXkq0G",
        "outputId": "5812f98e-0a19-4d63-98d6-81cbf34087cd"
      },
      "outputs": [],
      "source": [
        "features.columns"
      ]
    },
    {
      "cell_type": "markdown",
      "metadata": {
        "id": "gwguCZMZpz6N"
      },
      "source": [
        "\n",
        "It is important to sort the features in the same order."
      ]
    },
    {
      "cell_type": "code",
      "execution_count": null,
      "metadata": {
        "id": "Dpd19Q8gabL7"
      },
      "outputs": [],
      "source": [
        "columns_total = features.columns\n",
        "pred_2018 = pred_2018.reindex(columns=columns_total)\n",
        "pred_2019 = pred_2019.reindex(columns=columns_total)"
      ]
    },
    {
      "cell_type": "code",
      "execution_count": null,
      "metadata": {
        "id": "dbzg-U2V4_Lv"
      },
      "outputs": [],
      "source": [
        "from sklearn import preprocessing\n",
        "from sklearn.preprocessing import StandardScaler\n",
        "\n",
        "min_max_scaler = preprocessing.MinMaxScaler()\n",
        "\n",
        "scaler = StandardScaler()"
      ]
    },
    {
      "cell_type": "code",
      "execution_count": null,
      "metadata": {
        "id": "1lkUR7L45BGp"
      },
      "outputs": [],
      "source": [
        "df_scaler = scaler.fit_transform(features)"
      ]
    },
    {
      "cell_type": "code",
      "execution_count": null,
      "metadata": {
        "id": "EXrb2mKd5WBL"
      },
      "outputs": [],
      "source": [
        "df_scaler = pd.DataFrame(df_scaler, columns=columns_total)"
      ]
    },
    {
      "cell_type": "code",
      "execution_count": null,
      "metadata": {
        "id": "Cx7Av8ji35Ng"
      },
      "outputs": [],
      "source": [
        "x_train, x_test, y_train, y_test = train_test_split(df_scaler, label, random_state=42, test_size=0.2)"
      ]
    },
    {
      "cell_type": "markdown",
      "metadata": {
        "id": "bmD0QQu9q-gy"
      },
      "source": [
        "Below is the selection of the features that presents better fit to the results that we want. For that, it is good to plot the correlation of the features. Although, we assume that the readers are a little familirized with this type of algorithm. "
      ]
    },
    {
      "cell_type": "code",
      "execution_count": null,
      "metadata": {
        "colab": {
          "base_uri": "https://localhost:8080/",
          "height": 1000
        },
        "id": "Xf8cvPznnN_U",
        "outputId": "8a795700-e90d-4857-8266-01f02f0ca437"
      },
      "outputs": [],
      "source": [
        "# Correlation\n",
        "corrmat = df_total.corr()\n",
        "top_corr_features = corrmat.index\n",
        "plt.figure(figsize=(20, 20))\n",
        "\n",
        "# Plot heat map\n",
        "g = sns.heatmap(df_total[top_corr_features].corr(), annot=True, cmap=\"RdYlGn\")"
      ]
    },
    {
      "cell_type": "markdown",
      "metadata": {
        "id": "UWkx5poKX6TU"
      },
      "source": [
        "Below, we are applying XGBoost with 10.000 estimators, a learning rate of 10% and 4 jobs."
      ]
    },
    {
      "cell_type": "code",
      "execution_count": null,
      "metadata": {},
      "outputs": [],
      "source": [
        "\n",
        "xgbr = xgb.XGBRegressor(\n",
        "    n_estimators=10000, learning_rate=0.1,\n",
        "    n_jobs=4)"
      ]
    },
    {
      "cell_type": "code",
      "execution_count": null,
      "metadata": {
        "colab": {
          "base_uri": "https://localhost:8080/"
        },
        "id": "vGInQGMB4zwz",
        "outputId": "5839a4de-082c-4e26-e5b3-152177b18dba"
      },
      "outputs": [],
      "source": [
        "xgbr.fit(\n",
        "    x_train, y_train,\n",
        "    early_stopping_rounds=5, eval_set=[(x_test, y_test)],\n",
        "    verbose=False)"
      ]
    },
    {
      "cell_type": "markdown",
      "metadata": {
        "id": "smo7UfvFZa-K"
      },
      "source": [
        "The training score obtained is presented below."
      ]
    },
    {
      "cell_type": "code",
      "execution_count": null,
      "metadata": {
        "colab": {
          "base_uri": "https://localhost:8080/"
        },
        "id": "mMhN182M41NX",
        "outputId": "4a438717-6106-4bdd-9dd8-faf5fdd2d6c5"
      },
      "outputs": [],
      "source": [
        "score = xgbr.score(x_train, y_train)\n",
        "print(\"Training score: \", score)"
      ]
    },
    {
      "cell_type": "code",
      "execution_count": null,
      "metadata": {
        "id": "du_VDfLP54vs"
      },
      "outputs": [],
      "source": [
        "from sklearn.metrics import mean_squared_error"
      ]
    },
    {
      "cell_type": "markdown",
      "metadata": {
        "id": "M_8GdDF4Zl8G"
      },
      "source": [
        "It is also important to measure the obtained error. It is presented below."
      ]
    },
    {
      "cell_type": "code",
      "execution_count": null,
      "metadata": {
        "colab": {
          "base_uri": "https://localhost:8080/"
        },
        "id": "SLf8pags5wDJ",
        "outputId": "cc48a771-9cfc-4cb3-a31b-d084fb68c394"
      },
      "outputs": [],
      "source": [
        "y_pred = xgbr.predict(x_test)\n",
        "mse = mean_squared_error(y_test, y_pred)\n",
        "print(\"MSE: %.2f\" % mse)\n",
        "print(\"RMSE: %.2f\" % (mse**(1/2.0)))"
      ]
    },
    {
      "cell_type": "code",
      "execution_count": null,
      "metadata": {
        "colab": {
          "base_uri": "https://localhost:8080/"
        },
        "id": "aMwLtuxceSaF",
        "outputId": "6e4fee64-973b-4fdd-b5e3-263f8aa24de6"
      },
      "outputs": [],
      "source": [
        "y_pred"
      ]
    },
    {
      "cell_type": "code",
      "execution_count": null,
      "metadata": {
        "colab": {
          "base_uri": "https://localhost:8080/"
        },
        "id": "Ta1D8SiBeU56",
        "outputId": "92f4547d-2af1-45b9-8995-de8ff71abf68"
      },
      "outputs": [],
      "source": [
        "y_test"
      ]
    },
    {
      "cell_type": "code",
      "execution_count": null,
      "metadata": {
        "colab": {
          "base_uri": "https://localhost:8080/"
        },
        "id": "WxP_hOIo51az",
        "outputId": "939858fb-695f-49ad-e178-a7d773b6a834"
      },
      "outputs": [],
      "source": [
        "score = xgbr.score(x_test, y_test)  \n",
        "score"
      ]
    },
    {
      "cell_type": "code",
      "execution_count": null,
      "metadata": {
        "colab": {
          "base_uri": "https://localhost:8080/",
          "height": 386
        },
        "id": "TygY_23yBtWu",
        "outputId": "fc9eddb4-57a6-4695-8f8e-2db49625b3d7"
      },
      "outputs": [],
      "source": [
        "df_scaler.tail()"
      ]
    },
    {
      "cell_type": "code",
      "execution_count": null,
      "metadata": {
        "colab": {
          "base_uri": "https://localhost:8080/"
        },
        "id": "ChmNeIo4JN3O",
        "outputId": "623ef485-85e6-47fb-899b-ddef625777d0"
      },
      "outputs": [],
      "source": [
        "# pred_2018 = pred_2018.drop([\"product\", \"year\"], axis=1)\n",
        "# pred_2019 = pred_2019.drop([\"product\", \"year\"], axis=1)\n",
        "pred_2018.columns"
      ]
    },
    {
      "cell_type": "code",
      "execution_count": null,
      "metadata": {
        "colab": {
          "base_uri": "https://localhost:8080/"
        },
        "id": "DxOh99UcKN5a",
        "outputId": "b693daae-1ba8-41f2-eb8c-d4b681625e31"
      },
      "outputs": [],
      "source": [
        "pred_2019.columns"
      ]
    },
    {
      "cell_type": "code",
      "execution_count": null,
      "metadata": {
        "colab": {
          "base_uri": "https://localhost:8080/"
        },
        "id": "1kFj_RfdbzwO",
        "outputId": "8e71d479-4ca8-40dc-eb60-d6a9a0d3679d"
      },
      "outputs": [],
      "source": [
        "len(x_train), len(x_test)"
      ]
    },
    {
      "cell_type": "code",
      "execution_count": null,
      "metadata": {
        "colab": {
          "base_uri": "https://localhost:8080/"
        },
        "id": "mBoqDzf5b7Il",
        "outputId": "418cd97d-e2c2-414a-bb66-78f08b5e7733"
      },
      "outputs": [],
      "source": [
        "len(pred_2019)"
      ]
    },
    {
      "cell_type": "code",
      "execution_count": null,
      "metadata": {
        "colab": {
          "base_uri": "https://localhost:8080/"
        },
        "id": "hFp41wHNc2zA",
        "outputId": "a0cd6210-4551-4a53-848e-8fc617bcb936"
      },
      "outputs": [],
      "source": [
        "df[\"city_code\"].value_counts()"
      ]
    },
    {
      "cell_type": "code",
      "execution_count": null,
      "metadata": {
        "id": "Xbq-vzWqCAL_"
      },
      "outputs": [],
      "source": [
        "y_pred_2018 = xgbr.predict(pred_2018)\n",
        "y_pred_2019 = xgbr.predict(pred_2019)\n"
      ]
    },
    {
      "cell_type": "code",
      "execution_count": null,
      "metadata": {
        "colab": {
          "base_uri": "https://localhost:8080/"
        },
        "id": "QTmnO8OcDwrF",
        "outputId": "a240a5da-c344-47d0-fdb4-e74157ccdd96"
      },
      "outputs": [],
      "source": [
        "y_pred_2018"
      ]
    },
    {
      "cell_type": "code",
      "execution_count": null,
      "metadata": {
        "colab": {
          "base_uri": "https://localhost:8080/"
        },
        "id": "OMYySX8Hqgaj",
        "outputId": "29ca97e1-6028-4c72-b966-b50ef0da84f6"
      },
      "outputs": [],
      "source": [
        "y_pred_2019"
      ]
    },
    {
      "cell_type": "markdown",
      "metadata": {
        "id": "U5ap-ABCoU3-"
      },
      "source": [
        "Unfortunately, the results obtained by applying the XGBOOST algorithm did not turn out as expected. Thus, we chose to apply a Linear Regression to the Bain database, without considering the extra databases initially collected by the team."
      ]
    },
    {
      "cell_type": "markdown",
      "metadata": {
        "id": "gj7ZAHswerk4"
      },
      "source": [
        "# **5 - Implementing Linear Regression**\n"
      ]
    },
    {
      "cell_type": "code",
      "execution_count": null,
      "metadata": {
        "colab": {
          "base_uri": "https://localhost:8080/",
          "height": 424
        },
        "id": "LArvUe0cesv2",
        "outputId": "f1982f1c-73ff-4db5-8b10-7409d6e7526e"
      },
      "outputs": [],
      "source": [
        "from sklearn.preprocessing import OneHotEncoder\n",
        "\n",
        "encoder = OneHotEncoder(handle_unknown='ignore')\n",
        "\n",
        "# perform one-hot encoding on 'team' column\n",
        "encoder_df = pd.DataFrame(encoder.fit_transform(df[\n",
        "    [\"city_code\", 'product', \"product_type\"]]).toarray())\n",
        "\n",
        "# merge one-hot encoded columns back with original DataFrame\n",
        "final_df = df.join(encoder_df)\n",
        "\n",
        "final_df"
      ]
    },
    {
      "cell_type": "code",
      "execution_count": null,
      "metadata": {
        "colab": {
          "base_uri": "https://localhost:8080/"
        },
        "id": "_hmDnmiWfYke",
        "outputId": "69a8c12c-4b47-4b33-bd83-c02969caf9a0"
      },
      "outputs": [],
      "source": [
        "final_df.dtypes"
      ]
    },
    {
      "cell_type": "code",
      "execution_count": null,
      "metadata": {
        "id": "gxNJwPkyibWw"
      },
      "outputs": [],
      "source": [
        "col_orden = final_df.drop([\n",
        "    \"destinated_area\", \"product\",\n",
        "    \"product_type\", \"city_code\",\n",
        "    \"date\"], axis=1).columns"
      ]
    },
    {
      "cell_type": "code",
      "execution_count": null,
      "metadata": {
        "id": "CxRI4MCze8sw"
      },
      "outputs": [],
      "source": [
        "x = final_df.drop([\n",
        "    \"destinated_area\", \"product\",\n",
        "    \"product_type\", \"city_code\", \"date\"], axis=1)\n",
        "y = final_df[\"destinated_area\"]"
      ]
    },
    {
      "cell_type": "code",
      "execution_count": null,
      "metadata": {
        "id": "zXPun5qNfOLa"
      },
      "outputs": [],
      "source": [
        "from sklearn.linear_model import LinearRegression"
      ]
    },
    {
      "cell_type": "code",
      "execution_count": null,
      "metadata": {
        "id": "c9WTeosOfRGi"
      },
      "outputs": [],
      "source": [
        "x = np.array(x.values.tolist())\n",
        "y = np.array(y.values.tolist())\n",
        "\n",
        "model = LinearRegression(normalize=True, n_jobs=-1)"
      ]
    },
    {
      "cell_type": "code",
      "execution_count": null,
      "metadata": {
        "id": "rrDESItKfS3q"
      },
      "outputs": [],
      "source": [
        "model = LinearRegression().fit(x,y)"
      ]
    },
    {
      "cell_type": "code",
      "execution_count": null,
      "metadata": {
        "colab": {
          "base_uri": "https://localhost:8080/"
        },
        "id": "Aba2mnoffVDo",
        "outputId": "d5a2c27d-1aa6-4c56-b2d4-82e91f16eb47"
      },
      "outputs": [],
      "source": [
        "r_sq = model.score(x, y)\n",
        "print('coefficient of determination:', r_sq)\n",
        "print('intercept:', model.intercept_)\n",
        "print('slope: \\n', model.coef_)"
      ]
    },
    {
      "cell_type": "code",
      "execution_count": null,
      "metadata": {
        "colab": {
          "base_uri": "https://localhost:8080/"
        },
        "id": "vwX48lSKgPJM",
        "outputId": "675e9938-0b69-4ff7-80a9-48abbd9b0424"
      },
      "outputs": [],
      "source": [
        "download(\"1ZQg8VSDpIey3agzQSsuHoj95wctrRWWD\") #https://drive.google.com/file/d/1ZQg8VSDpIey3agzQSsuHoj95wctrRWWD/view?usp=sharing"
      ]
    },
    {
      "cell_type": "code",
      "execution_count": null,
      "metadata": {
        "id": "HzutTUCggT2B"
      },
      "outputs": [],
      "source": [
        "pred_2018_2019 = pd.read_csv(\"/content/submission-template.csv\")\n",
        "copy = pred_2018_2019"
      ]
    },
    {
      "cell_type": "code",
      "execution_count": null,
      "metadata": {
        "colab": {
          "base_uri": "https://localhost:8080/",
          "height": 424
        },
        "id": "27CfAd8agquu",
        "outputId": "f58b4314-09bd-48d0-c2da-27bba1020a3f"
      },
      "outputs": [],
      "source": [
        "encoder = OneHotEncoder(handle_unknown='ignore')\n",
        "\n",
        "# perform one-hot encoding on 'team' column\n",
        "encoder_df = pd.DataFrame(encoder.fit_transform(pred_2018_2019[\n",
        "    [\"city_code\", 'product', \"product_type\"]]).toarray())\n",
        "\n",
        "# merge one-hot encoded columns back with original DataFrame\n",
        "pred_df = pred_2018_2019.join(encoder_df)\n",
        "\n",
        "pred_df"
      ]
    },
    {
      "cell_type": "code",
      "execution_count": null,
      "metadata": {
        "id": "HsJZbXUkhnHm"
      },
      "outputs": [],
      "source": [
        "pred_df['date'] = pd.to_datetime(pred_df['year'], format=\"%Y-%d-%m\")\n",
        "pred_df['year'] = pd.DatetimeIndex(pred_df['date']).year\n"
      ]
    },
    {
      "cell_type": "code",
      "execution_count": null,
      "metadata": {
        "id": "OQ7owX1AjBDy"
      },
      "outputs": [],
      "source": [
        "pred_df = pred_df.reindex(columns=col_orden)"
      ]
    },
    {
      "cell_type": "code",
      "execution_count": null,
      "metadata": {
        "colab": {
          "base_uri": "https://localhost:8080/",
          "height": 424
        },
        "id": "HgH4pgNyiLZF",
        "outputId": "d2848d1d-3488-44a7-e162-3b3806320e66"
      },
      "outputs": [],
      "source": [
        "pred_df"
      ]
    },
    {
      "cell_type": "code",
      "execution_count": null,
      "metadata": {
        "id": "FiyVmO1bg0jE"
      },
      "outputs": [],
      "source": [
        "# pred_2018_2019 = pred_df.drop([\"destinated_area\", \"product\", \"product_type\", \"city_code\", \"date\", \"Unnamed: 0\"], axis=1)\n",
        "pred_2018_2019 = pred_df"
      ]
    },
    {
      "cell_type": "code",
      "execution_count": null,
      "metadata": {
        "colab": {
          "base_uri": "https://localhost:8080/"
        },
        "id": "VwB70OtahGOW",
        "outputId": "73a82dc8-0b84-4f1f-a217-83fb34d8d79b"
      },
      "outputs": [],
      "source": [
        "pred_2018_2019.shape"
      ]
    },
    {
      "cell_type": "code",
      "execution_count": null,
      "metadata": {
        "colab": {
          "base_uri": "https://localhost:8080/"
        },
        "id": "tW3-lEIJhTPM",
        "outputId": "41d9b8fb-0202-472d-ceab-b7d638b0466c"
      },
      "outputs": [],
      "source": [
        "x.shape"
      ]
    },
    {
      "cell_type": "code",
      "execution_count": null,
      "metadata": {
        "colab": {
          "base_uri": "https://localhost:8080/"
        },
        "id": "QfoWQ63pfm0k",
        "outputId": "324e8faa-b773-4606-db51-86ec203a2cfd"
      },
      "outputs": [],
      "source": [
        "linear_pred_2018_2018 = model.predict(pred_2018_2019)"
      ]
    },
    {
      "cell_type": "code",
      "execution_count": null,
      "metadata": {
        "colab": {
          "base_uri": "https://localhost:8080/"
        },
        "id": "JkKnXAYShDxY",
        "outputId": "af2865fb-dbe6-4dd2-e9a8-6cef1cd0dd0e"
      },
      "outputs": [],
      "source": [
        "linear_pred_2018_2018"
      ]
    },
    {
      "cell_type": "code",
      "execution_count": null,
      "metadata": {
        "colab": {
          "base_uri": "https://localhost:8080/",
          "height": 424
        },
        "id": "uW8yvK7HiXeZ",
        "outputId": "31fb9405-8655-4c70-bf39-c60526b3d9f7"
      },
      "outputs": [],
      "source": [
        "pred_2018_2019"
      ]
    },
    {
      "cell_type": "code",
      "execution_count": null,
      "metadata": {
        "colab": {
          "base_uri": "https://localhost:8080/",
          "height": 424
        },
        "id": "9DPFx2u6jfn_",
        "outputId": "95b81da1-5c08-449b-8930-08ed4a15239b"
      },
      "outputs": [],
      "source": [
        "copy"
      ]
    },
    {
      "cell_type": "code",
      "execution_count": null,
      "metadata": {
        "id": "CViBFWB9jun2"
      },
      "outputs": [],
      "source": [
        "copy[\"destinated_area\"] = linear_pred_2018_2018\n",
        "del copy[\"Unnamed: 0\"]"
      ]
    },
    {
      "cell_type": "code",
      "execution_count": null,
      "metadata": {
        "colab": {
          "base_uri": "https://localhost:8080/",
          "height": 424
        },
        "id": "vNCtodSgj2cu",
        "outputId": "213200f3-557c-496b-9231-7de3ca8b506a"
      },
      "outputs": [],
      "source": [
        "copy"
      ]
    },
    {
      "cell_type": "markdown",
      "metadata": {
        "id": "yBwYkEpZobP8"
      },
      "source": [
        "The cell below is in comment format, since its command is to download the final submission file."
      ]
    },
    {
      "cell_type": "code",
      "execution_count": null,
      "metadata": {
        "id": "WtvMkxRVj4XP"
      },
      "outputs": [],
      "source": [
        "# from google.colab import files\n",
        "# copy.to_csv('DG2Z8G.csv') \n",
        "# files.download('DG2Z8G.csv')"
      ]
    }
  ],
  "metadata": {
    "colab": {
      "collapsed_sections": [],
      "include_colab_link": true,
      "name": "Desafio_Bain_&_Company.ipynb",
      "provenance": [],
      "toc_visible": true
    },
    "kernelspec": {
      "display_name": "Python 3",
      "name": "python3"
    },
    "language_info": {
      "codemirror_mode": {
        "name": "ipython",
        "version": 3
      },
      "file_extension": ".py",
      "mimetype": "text/x-python",
      "name": "python",
      "nbconvert_exporter": "python",
      "pygments_lexer": "ipython3",
      "version": "3.8.19"
    }
  },
  "nbformat": 4,
  "nbformat_minor": 0
}
